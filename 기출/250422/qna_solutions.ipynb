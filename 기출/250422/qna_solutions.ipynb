{
 "cells": [
  {
   "cell_type": "markdown",
   "metadata": {},
   "source": [
    ">**기출문제 제3회**\n",
    ">>**01 작업형 제1유형**"
   ]
  },
  {
   "cell_type": "markdown",
   "metadata": {},
   "source": [
    "## 옵션 설정"
   ]
  },
  {
   "cell_type": "code",
   "execution_count": 3,
   "metadata": {},
   "outputs": [],
   "source": [
    "import pandas as pd\n",
    "import numpy as np\n",
    "pd.set_option('display.max_columns', None) # 모든 칼럼이 출력되게 조절"
   ]
  },
  {
   "cell_type": "code",
   "execution_count": 4,
   "metadata": {},
   "outputs": [
    {
     "data": {
      "text/html": [
       "<div>\n",
       "<style scoped>\n",
       "    .dataframe tbody tr th:only-of-type {\n",
       "        vertical-align: middle;\n",
       "    }\n",
       "\n",
       "    .dataframe tbody tr th {\n",
       "        vertical-align: top;\n",
       "    }\n",
       "\n",
       "    .dataframe thead th {\n",
       "        text-align: right;\n",
       "    }\n",
       "</style>\n",
       "<table border=\"1\" class=\"dataframe\">\n",
       "  <thead>\n",
       "    <tr style=\"text-align: right;\">\n",
       "      <th></th>\n",
       "      <th>city</th>\n",
       "      <th>homeType</th>\n",
       "      <th>latitude</th>\n",
       "      <th>longitude</th>\n",
       "      <th>garageSpaces</th>\n",
       "      <th>hasSpa</th>\n",
       "      <th>yearBuilt</th>\n",
       "      <th>numOfPatioAndPorchFeatures</th>\n",
       "      <th>lotSizeSqFt</th>\n",
       "      <th>avgSchoolRating</th>\n",
       "      <th>MedianStudentsPerTeacher</th>\n",
       "      <th>numOfBathrooms</th>\n",
       "      <th>numOfBedrooms</th>\n",
       "      <th>priceRange</th>\n",
       "    </tr>\n",
       "  </thead>\n",
       "  <tbody>\n",
       "    <tr>\n",
       "      <th>0</th>\n",
       "      <td>austin</td>\n",
       "      <td>Single Family</td>\n",
       "      <td>30.197647</td>\n",
       "      <td>-97.816811</td>\n",
       "      <td>2</td>\n",
       "      <td>False</td>\n",
       "      <td>1981</td>\n",
       "      <td>0</td>\n",
       "      <td>9757.0</td>\n",
       "      <td>4.000000</td>\n",
       "      <td>13</td>\n",
       "      <td>NaN</td>\n",
       "      <td>3</td>\n",
       "      <td>350000-450000</td>\n",
       "    </tr>\n",
       "    <tr>\n",
       "      <th>1</th>\n",
       "      <td>austin</td>\n",
       "      <td>Single Family</td>\n",
       "      <td>30.329187</td>\n",
       "      <td>-97.752731</td>\n",
       "      <td>2</td>\n",
       "      <td>False</td>\n",
       "      <td>1951</td>\n",
       "      <td>0</td>\n",
       "      <td>10846.0</td>\n",
       "      <td>7.000000</td>\n",
       "      <td>16</td>\n",
       "      <td>NaN</td>\n",
       "      <td>4</td>\n",
       "      <td>650000+</td>\n",
       "    </tr>\n",
       "    <tr>\n",
       "      <th>2</th>\n",
       "      <td>austin</td>\n",
       "      <td>Single Family</td>\n",
       "      <td>30.313305</td>\n",
       "      <td>-97.699669</td>\n",
       "      <td>0</td>\n",
       "      <td>False</td>\n",
       "      <td>1954</td>\n",
       "      <td>0</td>\n",
       "      <td>9016.0</td>\n",
       "      <td>5.000000</td>\n",
       "      <td>15</td>\n",
       "      <td>NaN</td>\n",
       "      <td>3</td>\n",
       "      <td>350000-450000</td>\n",
       "    </tr>\n",
       "    <tr>\n",
       "      <th>3</th>\n",
       "      <td>austin</td>\n",
       "      <td>Single Family</td>\n",
       "      <td>30.156321</td>\n",
       "      <td>-97.748291</td>\n",
       "      <td>2</td>\n",
       "      <td>False</td>\n",
       "      <td>2008</td>\n",
       "      <td>0</td>\n",
       "      <td>5662.0</td>\n",
       "      <td>5.333333</td>\n",
       "      <td>15</td>\n",
       "      <td>NaN</td>\n",
       "      <td>3</td>\n",
       "      <td>0-250000</td>\n",
       "    </tr>\n",
       "    <tr>\n",
       "      <th>4</th>\n",
       "      <td>austin</td>\n",
       "      <td>Townhouse</td>\n",
       "      <td>30.366995</td>\n",
       "      <td>-97.753548</td>\n",
       "      <td>2</td>\n",
       "      <td>False</td>\n",
       "      <td>1984</td>\n",
       "      <td>0</td>\n",
       "      <td>3049.0</td>\n",
       "      <td>7.000000</td>\n",
       "      <td>16</td>\n",
       "      <td>NaN</td>\n",
       "      <td>2</td>\n",
       "      <td>350000-450000</td>\n",
       "    </tr>\n",
       "  </tbody>\n",
       "</table>\n",
       "</div>"
      ],
      "text/plain": [
       "     city       homeType   latitude  longitude  garageSpaces  hasSpa  \\\n",
       "0  austin  Single Family  30.197647 -97.816811             2   False   \n",
       "1  austin  Single Family  30.329187 -97.752731             2   False   \n",
       "2  austin  Single Family  30.313305 -97.699669             0   False   \n",
       "3  austin  Single Family  30.156321 -97.748291             2   False   \n",
       "4  austin      Townhouse  30.366995 -97.753548             2   False   \n",
       "\n",
       "   yearBuilt  numOfPatioAndPorchFeatures  lotSizeSqFt  avgSchoolRating  \\\n",
       "0       1981                           0       9757.0         4.000000   \n",
       "1       1951                           0      10846.0         7.000000   \n",
       "2       1954                           0       9016.0         5.000000   \n",
       "3       2008                           0       5662.0         5.333333   \n",
       "4       1984                           0       3049.0         7.000000   \n",
       "\n",
       "   MedianStudentsPerTeacher  numOfBathrooms  numOfBedrooms     priceRange  \n",
       "0                        13             NaN              3  350000-450000  \n",
       "1                        16             NaN              4        650000+  \n",
       "2                        15             NaN              3  350000-450000  \n",
       "3                        15             NaN              3       0-250000  \n",
       "4                        16             NaN              2  350000-450000  "
      ]
     },
     "execution_count": 4,
     "metadata": {},
     "output_type": "execute_result"
    }
   ],
   "source": [
    "import pandas as pd \n",
    "\n",
    "data = pd.read_csv('3_1.csv')\n",
    "data.head()"
   ]
  },
  {
   "cell_type": "markdown",
   "metadata": {},
   "source": [
    "## 문제 1. \n",
    "- 다음 데이터에서 lotSizeSqFt이 큰 top 10을 구하고, top 10 값 중 가장 작은 값으로 해당 값을 대치하시오. \n",
    "- 또한, 건축 연도(yearBuilt)가 2000년도 이상인 IoTSizeSqFt의 평균을 구하시오.\n",
    "- 소수점 첫째 자리에서 반올림, 대치된 IoTSizeSqFt 기준\n"
   ]
  },
  {
   "cell_type": "code",
   "execution_count": 5,
   "metadata": {},
   "outputs": [
    {
     "data": {
      "text/html": [
       "<div>\n",
       "<style scoped>\n",
       "    .dataframe tbody tr th:only-of-type {\n",
       "        vertical-align: middle;\n",
       "    }\n",
       "\n",
       "    .dataframe tbody tr th {\n",
       "        vertical-align: top;\n",
       "    }\n",
       "\n",
       "    .dataframe thead th {\n",
       "        text-align: right;\n",
       "    }\n",
       "</style>\n",
       "<table border=\"1\" class=\"dataframe\">\n",
       "  <thead>\n",
       "    <tr style=\"text-align: right;\">\n",
       "      <th></th>\n",
       "      <th>city</th>\n",
       "      <th>homeType</th>\n",
       "      <th>latitude</th>\n",
       "      <th>longitude</th>\n",
       "      <th>garageSpaces</th>\n",
       "      <th>hasSpa</th>\n",
       "      <th>yearBuilt</th>\n",
       "      <th>numOfPatioAndPorchFeatures</th>\n",
       "      <th>lotSizeSqFt</th>\n",
       "      <th>avgSchoolRating</th>\n",
       "      <th>MedianStudentsPerTeacher</th>\n",
       "      <th>numOfBathrooms</th>\n",
       "      <th>numOfBedrooms</th>\n",
       "      <th>priceRange</th>\n",
       "    </tr>\n",
       "  </thead>\n",
       "  <tbody>\n",
       "    <tr>\n",
       "      <th>0</th>\n",
       "      <td>austin</td>\n",
       "      <td>Single Family</td>\n",
       "      <td>30.197647</td>\n",
       "      <td>-97.816811</td>\n",
       "      <td>2</td>\n",
       "      <td>False</td>\n",
       "      <td>1981</td>\n",
       "      <td>0</td>\n",
       "      <td>9757.0</td>\n",
       "      <td>4.0</td>\n",
       "      <td>13</td>\n",
       "      <td>NaN</td>\n",
       "      <td>3</td>\n",
       "      <td>350000-450000</td>\n",
       "    </tr>\n",
       "  </tbody>\n",
       "</table>\n",
       "</div>"
      ],
      "text/plain": [
       "     city       homeType   latitude  longitude  garageSpaces  hasSpa  \\\n",
       "0  austin  Single Family  30.197647 -97.816811             2   False   \n",
       "\n",
       "   yearBuilt  numOfPatioAndPorchFeatures  lotSizeSqFt  avgSchoolRating  \\\n",
       "0       1981                           0       9757.0              4.0   \n",
       "\n",
       "   MedianStudentsPerTeacher  numOfBathrooms  numOfBedrooms     priceRange  \n",
       "0                        13             NaN              3  350000-450000  "
      ]
     },
     "execution_count": 5,
     "metadata": {},
     "output_type": "execute_result"
    }
   ],
   "source": [
    "data1 = data.copy()\n",
    "data1.head(1)"
   ]
  },
  {
   "cell_type": "code",
   "execution_count": 6,
   "metadata": {},
   "outputs": [
    {
     "name": "stdout",
     "output_type": "stream",
     "text": [
      "12955\n"
     ]
    }
   ],
   "source": [
    "# lotSizeSqFt top 10 값 구하기\n",
    "top_10_idx = data1['lotSizeSqFt'].nlargest(10).index\n",
    "\n",
    "# top 10 중 가장 작은 값 찾기\n",
    "min_top_10 = data1.loc[top_10_idx, 'lotSizeSqFt'].min()\n",
    "\n",
    "# lotSizeSqFt 값을 top 10 중 가장 작은 값으로 대치\n",
    "data1.loc[top_10_idx, 'lotSizeSqFt'] = min_top_10\n",
    "\n",
    "# 2000년도 이상 건축물의 lotSizeSqFt 평균 계산\n",
    "mean_lot_size = data1.loc[data['yearBuilt'] >= 2000, 'lotSizeSqFt'].mean()\n",
    "\n",
    "# 소수점 첫째자리 반올림\n",
    "print(round(mean_lot_size))\n"
   ]
  },
  {
   "cell_type": "markdown",
   "metadata": {},
   "source": [
    "## 문제 2. \n",
    "- 컬럼별 결측치 존재 여부를 확인하고, 결측치가 존재하는 경우 해당 컬럼의 중앙값으로 결측치를 대치하시오. \n",
    "- 결측치 대신 전과 후 표준편차 차이의 절댓값을 구하시오. \n",
    "- 소수점 둘째 자리까지 반올림\n"
   ]
  },
  {
   "cell_type": "code",
   "execution_count": 7,
   "metadata": {},
   "outputs": [],
   "source": [
    "data2 = data.copy()"
   ]
  },
  {
   "cell_type": "code",
   "execution_count": 8,
   "metadata": {},
   "outputs": [
    {
     "name": "stdout",
     "output_type": "stream",
     "text": [
      "결측치 개수:\n",
      "city                           0\n",
      "homeType                       0\n",
      "latitude                       0\n",
      "longitude                      0\n",
      "garageSpaces                   0\n",
      "hasSpa                         0\n",
      "yearBuilt                      0\n",
      "numOfPatioAndPorchFeatures     0\n",
      "lotSizeSqFt                    0\n",
      "avgSchoolRating                0\n",
      "MedianStudentsPerTeacher       0\n",
      "numOfBathrooms                11\n",
      "numOfBedrooms                  0\n",
      "priceRange                     0\n",
      "dtype: int64\n"
     ]
    }
   ],
   "source": [
    "# 결측치 존재 여부 확인\n",
    "print(\"결측치 개수:\")\n",
    "print(data2.isnull().sum())\n"
   ]
  },
  {
   "cell_type": "code",
   "execution_count": 9,
   "metadata": {},
   "outputs": [
    {
     "data": {
      "text/plain": [
       "numOfBathrooms    0.989337\n",
       "dtype: float64"
      ]
     },
     "execution_count": 9,
     "metadata": {},
     "output_type": "execute_result"
    }
   ],
   "source": [
    "# 결측치가 있는 컬럼 찾기\n",
    "cols_with_null = data2.columns[data2.isnull().any()].tolist()\n",
    "\n",
    "# 결측치 대치 전 표준편차 저장\n",
    "std_before = data2.loc[:, cols_with_null].std()\n",
    "std_before"
   ]
  },
  {
   "cell_type": "code",
   "execution_count": 10,
   "metadata": {},
   "outputs": [
    {
     "data": {
      "text/plain": [
       "numOfBathrooms    0.009786\n",
       "dtype: float64"
      ]
     },
     "execution_count": 10,
     "metadata": {},
     "output_type": "execute_result"
    }
   ],
   "source": [
    "# 결측치를 중앙값으로 대치\n",
    "for col in cols_with_null:\n",
    "    median_val = data2.loc[:, col].median()\n",
    "    data2.loc[data2[col].isnull(), col] = median_val\n",
    "\n",
    "# 결측치 대치 후 표준편차 저장  \n",
    "std_after = data2.loc[:, cols_with_null].std()\n",
    "\n",
    "# 표준편차 차이의 절댓값 계산\n",
    "std_diff = abs(std_before - std_after)\n",
    "std_diff"
   ]
  },
  {
   "cell_type": "code",
   "execution_count": 11,
   "metadata": {},
   "outputs": [
    {
     "name": "stdout",
     "output_type": "stream",
     "text": [
      "\n",
      "표준편차 차이의 절댓값:\n",
      "0.01\n"
     ]
    }
   ],
   "source": [
    "print(\"\\n표준편차 차이의 절댓값:\")\n",
    "print(np.round(float(std_diff.iloc[0]), 2))"
   ]
  },
  {
   "cell_type": "markdown",
   "metadata": {},
   "source": [
    "## 문제 3. \n",
    "- 평균으로부터 1.5x 표준편차 범위 밖의 값을 이상치로 판단\n",
    "- MedianStudentsPerTeacher의 이상치를 구하고, 이상치의 개수를 구하시오. "
   ]
  },
  {
   "cell_type": "code",
   "execution_count": 12,
   "metadata": {},
   "outputs": [
    {
     "name": "stdout",
     "output_type": "stream",
     "text": [
      "이상치 개수: 65\n"
     ]
    }
   ],
   "source": [
    "data3 = data.copy()\n",
    "\n",
    "# MedianStudentsPerTeacher 컬럼의 평균과 표준편차 계산\n",
    "mean = data3.loc[:, 'MedianStudentsPerTeacher'].mean()\n",
    "std = data3.loc[:, 'MedianStudentsPerTeacher'].std()\n",
    "\n",
    "# 이상치 범위 계산 (평균 ± 1.5 * 표준편차)\n",
    "lower_bound = mean - 1.5 * std\n",
    "upper_bound = mean + 1.5 * std\n",
    "\n",
    "# 이상치 찾기\n",
    "outliers = data3.loc[(data3.loc[:, 'MedianStudentsPerTeacher'] < lower_bound) |\n",
    "                     (data3.loc[:, 'MedianStudentsPerTeacher'] > upper_bound)]\n",
    "\n",
    "# 이상치 개수 출력\n",
    "print(\"이상치 개수:\", len(outliers))\n"
   ]
  },
  {
   "cell_type": "code",
   "execution_count": null,
   "metadata": {},
   "outputs": [],
   "source": []
  }
 ],
 "metadata": {
  "kernelspec": {
   "display_name": "Python 3 (ipykernel)",
   "language": "python",
   "name": "python3"
  },
  "language_info": {
   "codemirror_mode": {
    "name": "ipython",
    "version": 3
   },
   "file_extension": ".py",
   "mimetype": "text/x-python",
   "name": "python",
   "nbconvert_exporter": "python",
   "pygments_lexer": "ipython3",
   "version": "3.13.2"
  }
 },
 "nbformat": 4,
 "nbformat_minor": 4
}
