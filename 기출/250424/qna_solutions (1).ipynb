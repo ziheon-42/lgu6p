{
 "cells": [
  {
   "cell_type": "markdown",
   "metadata": {},
   "source": [
    ">**기출문제 제4회**\n",
    ">>**01 작업형 제1유형**"
   ]
  },
  {
   "cell_type": "markdown",
   "metadata": {},
   "source": [
    "## 옵션 설정"
   ]
  },
  {
   "cell_type": "code",
   "execution_count": 23,
   "metadata": {},
   "outputs": [],
   "source": [
    "import pandas as pd\n",
    "import numpy as np\n",
    "pd.set_option('display.max_columns', None) # 모든 칼럼이 출력되게 조절"
   ]
  },
  {
   "cell_type": "markdown",
   "metadata": {},
   "source": [
    "## 문제 1. \n",
    "- 다음 데이터에서 결측치가 존재하는 행을 모두 삭제하시오. 데이터의 상위 70%에 해당하는 데이터를 추출하고, PTRATIO 칼럼의 1분위수를 구하시오. \n",
    "- 소수점 둘째 자리까지 반올림\n"
   ]
  },
  {
   "cell_type": "code",
   "execution_count": 24,
   "metadata": {},
   "outputs": [
    {
     "data": {
      "text/html": [
       "<div>\n",
       "<style scoped>\n",
       "    .dataframe tbody tr th:only-of-type {\n",
       "        vertical-align: middle;\n",
       "    }\n",
       "\n",
       "    .dataframe tbody tr th {\n",
       "        vertical-align: top;\n",
       "    }\n",
       "\n",
       "    .dataframe thead th {\n",
       "        text-align: right;\n",
       "    }\n",
       "</style>\n",
       "<table border=\"1\" class=\"dataframe\">\n",
       "  <thead>\n",
       "    <tr style=\"text-align: right;\">\n",
       "      <th></th>\n",
       "      <th>CRIM</th>\n",
       "      <th>ZN</th>\n",
       "      <th>INDUS</th>\n",
       "      <th>CHAS</th>\n",
       "      <th>NOX</th>\n",
       "      <th>RM</th>\n",
       "      <th>AGE</th>\n",
       "      <th>DIS</th>\n",
       "      <th>RAD</th>\n",
       "      <th>TAX</th>\n",
       "      <th>PTRATIO</th>\n",
       "      <th>B</th>\n",
       "      <th>LSTAT</th>\n",
       "      <th>PRICE</th>\n",
       "    </tr>\n",
       "  </thead>\n",
       "  <tbody>\n",
       "    <tr>\n",
       "      <th>0</th>\n",
       "      <td>0.00632</td>\n",
       "      <td>18.0</td>\n",
       "      <td>2.31</td>\n",
       "      <td>0.0</td>\n",
       "      <td>0.538</td>\n",
       "      <td>6.575</td>\n",
       "      <td>65.2</td>\n",
       "      <td>4.0900</td>\n",
       "      <td>1.0</td>\n",
       "      <td>296.0</td>\n",
       "      <td>NaN</td>\n",
       "      <td>396.90</td>\n",
       "      <td>4.98</td>\n",
       "      <td>24.0</td>\n",
       "    </tr>\n",
       "    <tr>\n",
       "      <th>1</th>\n",
       "      <td>0.02731</td>\n",
       "      <td>0.0</td>\n",
       "      <td>7.07</td>\n",
       "      <td>0.0</td>\n",
       "      <td>0.469</td>\n",
       "      <td>6.421</td>\n",
       "      <td>78.9</td>\n",
       "      <td>4.9671</td>\n",
       "      <td>2.0</td>\n",
       "      <td>242.0</td>\n",
       "      <td>NaN</td>\n",
       "      <td>396.90</td>\n",
       "      <td>9.14</td>\n",
       "      <td>21.6</td>\n",
       "    </tr>\n",
       "    <tr>\n",
       "      <th>2</th>\n",
       "      <td>0.02729</td>\n",
       "      <td>0.0</td>\n",
       "      <td>7.07</td>\n",
       "      <td>0.0</td>\n",
       "      <td>0.469</td>\n",
       "      <td>7.185</td>\n",
       "      <td>61.1</td>\n",
       "      <td>4.9671</td>\n",
       "      <td>2.0</td>\n",
       "      <td>242.0</td>\n",
       "      <td>NaN</td>\n",
       "      <td>392.83</td>\n",
       "      <td>4.03</td>\n",
       "      <td>34.7</td>\n",
       "    </tr>\n",
       "    <tr>\n",
       "      <th>3</th>\n",
       "      <td>0.03237</td>\n",
       "      <td>0.0</td>\n",
       "      <td>2.18</td>\n",
       "      <td>0.0</td>\n",
       "      <td>0.458</td>\n",
       "      <td>6.998</td>\n",
       "      <td>45.8</td>\n",
       "      <td>6.0622</td>\n",
       "      <td>3.0</td>\n",
       "      <td>222.0</td>\n",
       "      <td>NaN</td>\n",
       "      <td>394.63</td>\n",
       "      <td>2.94</td>\n",
       "      <td>33.4</td>\n",
       "    </tr>\n",
       "    <tr>\n",
       "      <th>4</th>\n",
       "      <td>0.06905</td>\n",
       "      <td>0.0</td>\n",
       "      <td>2.18</td>\n",
       "      <td>0.0</td>\n",
       "      <td>0.458</td>\n",
       "      <td>7.147</td>\n",
       "      <td>54.2</td>\n",
       "      <td>6.0622</td>\n",
       "      <td>3.0</td>\n",
       "      <td>222.0</td>\n",
       "      <td>NaN</td>\n",
       "      <td>396.90</td>\n",
       "      <td>5.33</td>\n",
       "      <td>36.2</td>\n",
       "    </tr>\n",
       "  </tbody>\n",
       "</table>\n",
       "</div>"
      ],
      "text/plain": [
       "      CRIM    ZN  INDUS  CHAS    NOX     RM   AGE     DIS  RAD    TAX  \\\n",
       "0  0.00632  18.0   2.31   0.0  0.538  6.575  65.2  4.0900  1.0  296.0   \n",
       "1  0.02731   0.0   7.07   0.0  0.469  6.421  78.9  4.9671  2.0  242.0   \n",
       "2  0.02729   0.0   7.07   0.0  0.469  7.185  61.1  4.9671  2.0  242.0   \n",
       "3  0.03237   0.0   2.18   0.0  0.458  6.998  45.8  6.0622  3.0  222.0   \n",
       "4  0.06905   0.0   2.18   0.0  0.458  7.147  54.2  6.0622  3.0  222.0   \n",
       "\n",
       "   PTRATIO       B  LSTAT  PRICE  \n",
       "0      NaN  396.90   4.98   24.0  \n",
       "1      NaN  396.90   9.14   21.6  \n",
       "2      NaN  392.83   4.03   34.7  \n",
       "3      NaN  394.63   2.94   33.4  \n",
       "4      NaN  396.90   5.33   36.2  "
      ]
     },
     "execution_count": 24,
     "metadata": {},
     "output_type": "execute_result"
    }
   ],
   "source": [
    "data1 = pd.read_csv('4_1_1.csv')\n",
    "data1.head()"
   ]
  },
  {
   "cell_type": "code",
   "execution_count": 25,
   "metadata": {},
   "outputs": [
    {
     "data": {
      "text/plain": [
       "CRIM        0\n",
       "ZN          0\n",
       "INDUS       0\n",
       "CHAS        0\n",
       "NOX         0\n",
       "RM          0\n",
       "AGE         0\n",
       "DIS         0\n",
       "RAD         0\n",
       "TAX         0\n",
       "PTRATIO    11\n",
       "B           0\n",
       "LSTAT       0\n",
       "PRICE       0\n",
       "dtype: int64"
      ]
     },
     "execution_count": 25,
     "metadata": {},
     "output_type": "execute_result"
    }
   ],
   "source": [
    "# 결측치 확인 \n",
    "data1.isna().sum()"
   ]
  },
  {
   "cell_type": "code",
   "execution_count": 27,
   "metadata": {},
   "outputs": [
    {
     "name": "stdout",
     "output_type": "stream",
     "text": [
      "PTRATIO 1분위수: 16.32\n"
     ]
    }
   ],
   "source": [
    "# 결측치가 있는 행 제거\n",
    "data1 = data1.dropna()\n",
    "\n",
    "# 상위 70% 데이터 추출 (하위 30% 제거)\n",
    "sud_data = data1.loc[:int(len(data1) * 0.7), :]\n",
    "\n",
    "# PTRATIO 칼럼의 1분위수 계산\n",
    "q1 = sud_data.loc[:, 'PTRATIO'].quantile(0.25)\n",
    "print(f'PTRATIO 1분위수: {round(q1,2)}')"
   ]
  },
  {
   "cell_type": "markdown",
   "metadata": {},
   "source": [
    "## 문제 2.\n",
    "- 건축연도(yearBuilt)가 1991~2000년이면서 평균 학교등급(avgSchoolRating)이 평균 이하인 주택id(uid)와 건축연도 2001~2010년에 평균 학교등급이 평균 이상인 주택id의 수를 구하시오.  "
   ]
  },
  {
   "cell_type": "code",
   "execution_count": 28,
   "metadata": {},
   "outputs": [
    {
     "data": {
      "text/html": [
       "<div>\n",
       "<style scoped>\n",
       "    .dataframe tbody tr th:only-of-type {\n",
       "        vertical-align: middle;\n",
       "    }\n",
       "\n",
       "    .dataframe tbody tr th {\n",
       "        vertical-align: top;\n",
       "    }\n",
       "\n",
       "    .dataframe thead th {\n",
       "        text-align: right;\n",
       "    }\n",
       "</style>\n",
       "<table border=\"1\" class=\"dataframe\">\n",
       "  <thead>\n",
       "    <tr style=\"text-align: right;\">\n",
       "      <th></th>\n",
       "      <th>uid</th>\n",
       "      <th>city</th>\n",
       "      <th>homeType</th>\n",
       "      <th>latitude</th>\n",
       "      <th>longitude</th>\n",
       "      <th>garageSpaces</th>\n",
       "      <th>hasSpa</th>\n",
       "      <th>yearBuilt</th>\n",
       "      <th>numOfPatioAndPorchFeatures</th>\n",
       "      <th>lotSizeSqFt</th>\n",
       "      <th>avgSchoolRating</th>\n",
       "      <th>MedianStudentsPerTeacher</th>\n",
       "      <th>numOfBathrooms</th>\n",
       "      <th>numOfBedrooms</th>\n",
       "      <th>priceRange</th>\n",
       "    </tr>\n",
       "  </thead>\n",
       "  <tbody>\n",
       "    <tr>\n",
       "      <th>0</th>\n",
       "      <td>6761</td>\n",
       "      <td>austin</td>\n",
       "      <td>Single Family</td>\n",
       "      <td>NaN</td>\n",
       "      <td>-97.816811</td>\n",
       "      <td>2</td>\n",
       "      <td>False</td>\n",
       "      <td>1981</td>\n",
       "      <td>0.0</td>\n",
       "      <td>9757.0</td>\n",
       "      <td>4.000000</td>\n",
       "      <td>13</td>\n",
       "      <td>3.0</td>\n",
       "      <td>3</td>\n",
       "      <td>350000-450000</td>\n",
       "    </tr>\n",
       "    <tr>\n",
       "      <th>1</th>\n",
       "      <td>15045</td>\n",
       "      <td>austin</td>\n",
       "      <td>Single Family</td>\n",
       "      <td>NaN</td>\n",
       "      <td>-97.752731</td>\n",
       "      <td>2</td>\n",
       "      <td>False</td>\n",
       "      <td>1951</td>\n",
       "      <td>0.0</td>\n",
       "      <td>10846.0</td>\n",
       "      <td>7.000000</td>\n",
       "      <td>16</td>\n",
       "      <td>3.0</td>\n",
       "      <td>4</td>\n",
       "      <td>650000+</td>\n",
       "    </tr>\n",
       "    <tr>\n",
       "      <th>2</th>\n",
       "      <td>11109</td>\n",
       "      <td>austin</td>\n",
       "      <td>Single Family</td>\n",
       "      <td>NaN</td>\n",
       "      <td>-97.699669</td>\n",
       "      <td>0</td>\n",
       "      <td>False</td>\n",
       "      <td>1954</td>\n",
       "      <td>0.0</td>\n",
       "      <td>9016.0</td>\n",
       "      <td>5.000000</td>\n",
       "      <td>15</td>\n",
       "      <td>2.0</td>\n",
       "      <td>3</td>\n",
       "      <td>350000-450000</td>\n",
       "    </tr>\n",
       "    <tr>\n",
       "      <th>3</th>\n",
       "      <td>2064</td>\n",
       "      <td>austin</td>\n",
       "      <td>Single Family</td>\n",
       "      <td>NaN</td>\n",
       "      <td>-97.748291</td>\n",
       "      <td>2</td>\n",
       "      <td>False</td>\n",
       "      <td>2008</td>\n",
       "      <td>0.0</td>\n",
       "      <td>5662.0</td>\n",
       "      <td>5.333333</td>\n",
       "      <td>15</td>\n",
       "      <td>2.0</td>\n",
       "      <td>3</td>\n",
       "      <td>0-250000</td>\n",
       "    </tr>\n",
       "    <tr>\n",
       "      <th>4</th>\n",
       "      <td>14215</td>\n",
       "      <td>austin</td>\n",
       "      <td>Townhouse</td>\n",
       "      <td>NaN</td>\n",
       "      <td>-97.753548</td>\n",
       "      <td>2</td>\n",
       "      <td>False</td>\n",
       "      <td>1984</td>\n",
       "      <td>0.0</td>\n",
       "      <td>3049.0</td>\n",
       "      <td>7.000000</td>\n",
       "      <td>16</td>\n",
       "      <td>3.0</td>\n",
       "      <td>2</td>\n",
       "      <td>350000-450000</td>\n",
       "    </tr>\n",
       "  </tbody>\n",
       "</table>\n",
       "</div>"
      ],
      "text/plain": [
       "     uid    city       homeType  latitude  longitude  garageSpaces  hasSpa  \\\n",
       "0   6761  austin  Single Family       NaN -97.816811             2   False   \n",
       "1  15045  austin  Single Family       NaN -97.752731             2   False   \n",
       "2  11109  austin  Single Family       NaN -97.699669             0   False   \n",
       "3   2064  austin  Single Family       NaN -97.748291             2   False   \n",
       "4  14215  austin      Townhouse       NaN -97.753548             2   False   \n",
       "\n",
       "   yearBuilt  numOfPatioAndPorchFeatures  lotSizeSqFt  avgSchoolRating  \\\n",
       "0       1981                         0.0       9757.0         4.000000   \n",
       "1       1951                         0.0      10846.0         7.000000   \n",
       "2       1954                         0.0       9016.0         5.000000   \n",
       "3       2008                         0.0       5662.0         5.333333   \n",
       "4       1984                         0.0       3049.0         7.000000   \n",
       "\n",
       "   MedianStudentsPerTeacher  numOfBathrooms  numOfBedrooms     priceRange  \n",
       "0                        13             3.0              3  350000-450000  \n",
       "1                        16             3.0              4        650000+  \n",
       "2                        15             2.0              3  350000-450000  \n",
       "3                        15             2.0              3       0-250000  \n",
       "4                        16             3.0              2  350000-450000  "
      ]
     },
     "execution_count": 28,
     "metadata": {},
     "output_type": "execute_result"
    }
   ],
   "source": [
    "data2 = pd.read_csv('4_1_2.csv')\n",
    "data2.head()"
   ]
  },
  {
   "cell_type": "code",
   "execution_count": 29,
   "metadata": {},
   "outputs": [
    {
     "name": "stdout",
     "output_type": "stream",
     "text": [
      "76\n"
     ]
    }
   ],
   "source": [
    "# 평균 학교등급 계산\n",
    "avg_rating = data2.loc[:, 'avgSchoolRating'].mean()\n",
    "\n",
    "# 건축연도가 1991~2000년도인 주택\n",
    "house_1991_2000 = data2.loc[(data2.loc[:,'yearBuilt'] >= 1991) & (data2.loc[:,'yearBuilt'] <= 2000), :]\n",
    "\n",
    "# 건축연도가 2001~2010년도인 주택\n",
    "house_2001_2010 = data2.loc[(data2.loc[:,'yearBuilt'] >= 2001) & (data2.loc[:,'yearBuilt'] <= 2010), :]\n",
    "\n",
    "# 건축연도 기준으로 필터링된 활용하면서 학교 등급이 평균 이상, 평균 이하인 주택 id 구하기\n",
    "uid1 = house_1991_2000.loc[house_1991_2000.loc[:,'avgSchoolRating'] <= avg_rating, 'uid']\n",
    "uid2 = house_2001_2010.loc[house_2001_2010.loc[:,'avgSchoolRating'] > avg_rating, 'uid']\n",
    "\n",
    "# 두 주택 id 수 구하기\n",
    "count = len(uid1) + len(uid2)\n",
    "print(count)\n"
   ]
  },
  {
   "cell_type": "markdown",
   "metadata": {},
   "source": [
    "## 문제 3. \n",
    "- 위 2번 데이터의 각 컬럼 중 결측치가 가장 많은 컬럼을 출력하시오. "
   ]
  },
  {
   "cell_type": "code",
   "execution_count": 30,
   "metadata": {},
   "outputs": [
    {
     "name": "stdout",
     "output_type": "stream",
     "text": [
      "결측치가 가장 많은 컬럼: numOfPatioAndPorchFeatures\n"
     ]
    }
   ],
   "source": [
    "# 각 컬럼별 결측치 개수 확인\n",
    "null_counts = data2.isnull().sum()\n",
    "\n",
    "# 결측치가 가장 많은 컬럼 찾기\n",
    "max_null_col = null_counts.idxmax()\n",
    "print(f'결측치가 가장 많은 컬럼: {max_null_col}')\n"
   ]
  }
 ],
 "metadata": {
  "kernelspec": {
   "display_name": "venv",
   "language": "python",
   "name": "python3"
  },
  "language_info": {
   "codemirror_mode": {
    "name": "ipython",
    "version": 3
   },
   "file_extension": ".py",
   "mimetype": "text/x-python",
   "name": "python",
   "nbconvert_exporter": "python",
   "pygments_lexer": "ipython3",
   "version": "3.9.21"
  }
 },
 "nbformat": 4,
 "nbformat_minor": 2
}
