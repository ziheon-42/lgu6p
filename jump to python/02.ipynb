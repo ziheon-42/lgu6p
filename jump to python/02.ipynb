{
 "cells": [
  {
   "cell_type": "markdown",
   "id": "99e2727a-0d2c-4a7c-a4f0-ceb341f1680f",
   "metadata": {},
   "source": [
    "# 02장 자료형"
   ]
  },
  {
   "cell_type": "markdown",
   "id": "b4f59b4b-a295-4b48-9937-4f725a4a07f9",
   "metadata": {},
   "source": [
    "## 02-1 숫자형\n",
    "- 숫자형이란 숫자로 이루어진 자료형\n",
    "- 정수 : 1, 2, 3...\n",
    "- 실수 : 12.34...\n",
    "- 8진수, 16진수 ..."
   ]
  },
  {
   "cell_type": "markdown",
   "id": "538bc469-027e-48ed-883c-cb9bdb1b4244",
   "metadata": {},
   "source": [
    "### 숫자형은 어떻게 만들고 사용할까?"
   ]
  },
  {
   "cell_type": "code",
   "execution_count": 90,
   "id": "20ad98e4-1b7b-41e4-8af3-8fab75cb5f4a",
   "metadata": {},
   "outputs": [],
   "source": [
    "# 정수형\n",
    ">>> a = 123\n",
    ">>> a = -178\n",
    ">>> a = 0"
   ]
  },
  {
   "cell_type": "code",
   "execution_count": 91,
   "id": "ebb7c1f3-a123-494e-845d-0ba0ff66eb06",
   "metadata": {},
   "outputs": [],
   "source": [
    "#실수형\n",
    ">>> a = 1.2\n",
    ">>> a = -3.45"
   ]
  },
  {
   "cell_type": "code",
   "execution_count": 92,
   "id": "4d9f7995-5f35-4368-a374-ed5686006330",
   "metadata": {},
   "outputs": [
    {
     "name": "stdout",
     "output_type": "stream",
     "text": [
      "127\n"
     ]
    }
   ],
   "source": [
    "#8진수\n",
    "#8진수를 만들기 위해서는 숫자 0o 또는 0O으로 시작\n",
    "a = 0o177\n",
    "print(a)"
   ]
  },
  {
   "cell_type": "code",
   "execution_count": 93,
   "id": "63d3e6c2-2be3-44e0-b536-e5b22fe0dfd9",
   "metadata": {},
   "outputs": [
    {
     "name": "stdout",
     "output_type": "stream",
     "text": [
      "2748\n"
     ]
    }
   ],
   "source": [
    "#16진수_0x로 시작\n",
    ">>> a = 0x8ff\n",
    ">>> b = 0xABC\n",
    "print(b)"
   ]
  },
  {
   "cell_type": "markdown",
   "id": "ce88c1d5-3691-430c-b3d6-5f7d34c87c27",
   "metadata": {},
   "source": [
    "### 숫자형을 활용하기 위한 연산자"
   ]
  },
  {
   "cell_type": "code",
   "execution_count": 94,
   "id": "06d23904-4d26-463b-b65d-318e80111bca",
   "metadata": {},
   "outputs": [
    {
     "data": {
      "text/plain": [
       "0.75"
      ]
     },
     "execution_count": 94,
     "metadata": {},
     "output_type": "execute_result"
    }
   ],
   "source": [
    "# 사칙연산\n",
    "a = 3\n",
    "b = 4\n",
    "\n",
    "a + b\n",
    "a - b\n",
    "a * b\n",
    "a / b"
   ]
  },
  {
   "cell_type": "code",
   "execution_count": 95,
   "id": "5e670cf4-ba9a-410e-9a24-b94d00433373",
   "metadata": {},
   "outputs": [
    {
     "data": {
      "text/plain": [
       "81"
      ]
     },
     "execution_count": 95,
     "metadata": {},
     "output_type": "execute_result"
    }
   ],
   "source": [
    "# x의 y 제곱을 나타내는 ** 연산자\n",
    "a = 3\n",
    "b = 4\n",
    "a**b"
   ]
  },
  {
   "cell_type": "code",
   "execution_count": 156,
   "id": "2b13d856-f183-4013-a11e-cee2e3ff94b5",
   "metadata": {},
   "outputs": [
    {
     "data": {
      "text/plain": [
       "1"
      ]
     },
     "execution_count": 156,
     "metadata": {},
     "output_type": "execute_result"
    }
   ],
   "source": [
    "# 나눗셈 후 나머지 리턴하는 % 연산자\n",
    ">>> 7 % 3\n"
   ]
  },
  {
   "cell_type": "code",
   "execution_count": 157,
   "id": "63824673-16e2-4197-bcb5-ec57b0d41439",
   "metadata": {},
   "outputs": [
    {
     "data": {
      "text/plain": [
       "1.75"
      ]
     },
     "execution_count": 157,
     "metadata": {},
     "output_type": "execute_result"
    }
   ],
   "source": [
    "# 나눗셈 후 몫을 리턴하는 // 연산자\n",
    ">>> 7 / 4"
   ]
  },
  {
   "cell_type": "markdown",
   "id": "20f865c4-cc60-458f-814f-9ac2f6f50adc",
   "metadata": {},
   "source": [
    "## 02-2 문자열 자료형\n",
    "- 문자열이란 문자, 단어 등으로 구성된 문자들의 집합\n",
    "- ex) \"life is too, short\" , \"a\" , \"123\""
   ]
  },
  {
   "cell_type": "markdown",
   "id": "0798d69f-6062-4364-8835-1d7ff833b0eb",
   "metadata": {},
   "source": [
    "### 문자열은 어떻게 만들고 사용할까?\n",
    "- 큰 따옴표로 양쪽 둘러싸기 \"\"\n",
    "- 작은 따옴표로 양쪽 둘러싸기 ''\n",
    "- 큰 따옴표 3개 연속으로 써서 양쪽 둘러싸기 \"\"\" \"\"\"\n",
    "- 작은 따옴표 3개 연속으로 써서 양쪽 둘러싸기 ''' '''"
   ]
  },
  {
   "cell_type": "markdown",
   "id": "2d502dc9-8d3d-4c58-952b-b8d228c2842e",
   "metadata": {},
   "source": [
    "### 문자열 안에 작은 따옴표나 큰 따옴표를 포함시키고 싶을 때"
   ]
  },
  {
   "cell_type": "code",
   "execution_count": 158,
   "id": "24f0215b-c38a-4878-bcae-1faefedb4776",
   "metadata": {},
   "outputs": [
    {
     "data": {
      "text/plain": [
       "\"Python's favorite food is perl\""
      ]
     },
     "execution_count": 158,
     "metadata": {},
     "output_type": "execute_result"
    }
   ],
   "source": [
    "# 문자열에 작은 따옴표 포함하기\n",
    "food = \"Python's favorite food is perl\"\n",
    "food"
   ]
  },
  {
   "cell_type": "code",
   "execution_count": 159,
   "id": "91bdd639-01c1-4f2d-9c54-a9228f697444",
   "metadata": {},
   "outputs": [
    {
     "data": {
      "text/plain": [
       "'\"Python is very easy.\" he says.'"
      ]
     },
     "execution_count": 159,
     "metadata": {},
     "output_type": "execute_result"
    }
   ],
   "source": [
    "# 문자열에 큰 따옴표 포함하기\n",
    "say = '\"Python is very easy.\" he says.'\n",
    "say"
   ]
  },
  {
   "cell_type": "code",
   "execution_count": 160,
   "id": "09a304e7-8c7c-47a9-82c7-8b0a5192b94e",
   "metadata": {},
   "outputs": [
    {
     "data": {
      "text/plain": [
       "'\"Python is very easy.\" he says.'"
      ]
     },
     "execution_count": 160,
     "metadata": {},
     "output_type": "execute_result"
    }
   ],
   "source": [
    "# 역슬래시를 이용해서 작은 따옴표와 큰 따옴표를 문자열에 포함하기\n",
    "food = 'Python\\'s favorite food is perl'\n",
    "say = \"\\\"Python is very easy.\\\" he says.\"\n",
    "food\n",
    "say"
   ]
  },
  {
   "cell_type": "markdown",
   "id": "6fc495de-9902-4190-8714-b03bdda66692",
   "metadata": {},
   "source": [
    "### 여러 줄인 문자열을 변수에 대입하고 싶을 때"
   ]
  },
  {
   "cell_type": "code",
   "execution_count": 161,
   "id": "24033177-e40c-4574-a61c-a2ce6746ec2d",
   "metadata": {},
   "outputs": [
    {
     "name": "stdout",
     "output_type": "stream",
     "text": [
      "Life is too shrot\n",
      "You need python\n"
     ]
    }
   ],
   "source": [
    "# 줄을 바꾸기 위한 이스케이프 코드 \\n 삽입\n",
    "multiline = \"Life is too shrot\\nYou need python\"\n",
    "print(multiline)\n",
    "#\\n은 띄어쓰기 x"
   ]
  },
  {
   "cell_type": "code",
   "execution_count": 162,
   "id": "5f9f1ff4-fda7-4a19-846d-c4465e47958b",
   "metadata": {},
   "outputs": [
    {
     "name": "stdout",
     "output_type": "stream",
     "text": [
      "life is too short\n",
      "you need python\n"
     ]
    }
   ],
   "source": [
    "# 연속된 작은 따옴표 3개 도는 큰 따옴표 3개 사용\n",
    "multiline = \"\"\"life is too short\n",
    "you need python\"\"\"\n",
    "print(multiline)"
   ]
  },
  {
   "cell_type": "markdown",
   "id": "7b71f761-63de-4540-bda0-7bb000866137",
   "metadata": {},
   "source": [
    "### 문자열 연산하기\n",
    "- 파이썬은 문자열을 더하거나 곱할 수 있음"
   ]
  },
  {
   "cell_type": "code",
   "execution_count": 163,
   "id": "dadee926-4bc1-47fb-956a-d4ffae7c8ef3",
   "metadata": {},
   "outputs": [
    {
     "data": {
      "text/plain": [
       "'pythonis fun!'"
      ]
     },
     "execution_count": 163,
     "metadata": {},
     "output_type": "execute_result"
    }
   ],
   "source": [
    "# 문자열 더해서 만들기\n",
    "head = \"python\"\n",
    "tail = \"is fun!\"\n",
    "\n",
    "head + tail"
   ]
  },
  {
   "cell_type": "code",
   "execution_count": 164,
   "id": "29bdcd9a-7334-415c-a5d9-970a37de641c",
   "metadata": {},
   "outputs": [
    {
     "data": {
      "text/plain": [
       "'pythonpython'"
      ]
     },
     "execution_count": 164,
     "metadata": {},
     "output_type": "execute_result"
    }
   ],
   "source": [
    "# 문자열 곱하기\n",
    "a = \"python\"\n",
    "a * 2"
   ]
  },
  {
   "cell_type": "code",
   "execution_count": 165,
   "id": "f5975c11-6bd8-43bc-9d01-736d3a01d7e4",
   "metadata": {},
   "outputs": [
    {
     "name": "stdout",
     "output_type": "stream",
     "text": [
      "--------------------------------------------------\n",
      "my program\n",
      "--------------------------------------------------\n"
     ]
    }
   ],
   "source": [
    "# 문자열 곱하기를 응용하기\n",
    "print(\"-\" * 50)\n",
    "print(\"my program\")\n",
    "print(\"-\" *50)"
   ]
  },
  {
   "cell_type": "code",
   "execution_count": 166,
   "id": "9e2befcc-3eef-46e3-ad6a-3f1b9d54949d",
   "metadata": {},
   "outputs": [
    {
     "data": {
      "text/plain": [
       "17"
      ]
     },
     "execution_count": 166,
     "metadata": {},
     "output_type": "execute_result"
    }
   ],
   "source": [
    "# 문자열 길이 구하기\n",
    "a = \"life is too short\"\n",
    "len(a)"
   ]
  },
  {
   "cell_type": "markdown",
   "id": "f56c1cd9-9ef3-47bb-8389-df01a4578a82",
   "metadata": {},
   "source": [
    "### 문자열 인덱싱과 슬라이싱\n",
    "- 파이썬은 0부터 숫자를 센다\n",
    "- '-'는 뒤에서 부터 숫자를 센다\n",
    "- 슬라이싱은 [시작번호: 끝번호]를 지정할 때 끝 번호에 지정되는 문자는 포함하지 않음"
   ]
  },
  {
   "cell_type": "code",
   "execution_count": 167,
   "id": "65d5679c-9517-48b6-9c1c-98f296db9865",
   "metadata": {},
   "outputs": [
    {
     "data": {
      "text/plain": [
       "'e'"
      ]
     },
     "execution_count": 167,
     "metadata": {},
     "output_type": "execute_result"
    }
   ],
   "source": [
    "# 문자열 인덱싱\n",
    "a = \"life is too short, you need python\"\n",
    "a[3]"
   ]
  },
  {
   "cell_type": "code",
   "execution_count": 168,
   "id": "a7b6abb2-b0bb-44db-8e0e-50194000e67b",
   "metadata": {},
   "outputs": [
    {
     "name": "stdout",
     "output_type": "stream",
     "text": [
      "l\n",
      "s\n",
      "n\n"
     ]
    }
   ],
   "source": [
    "# 문자열 인덱싱 활용하기\n",
    "a = \"life is too short, you need python\"\n",
    "print(a[0])\n",
    "print(a[12])\n",
    "print(a[-1])\n"
   ]
  },
  {
   "cell_type": "code",
   "execution_count": 169,
   "id": "248f139f-ec3c-4f18-aab7-f781ee2d7327",
   "metadata": {},
   "outputs": [
    {
     "name": "stdout",
     "output_type": "stream",
     "text": [
      "Life\n",
      "Life\n"
     ]
    }
   ],
   "source": [
    "# 문자열 슬라이싱\n",
    "a = \"Life is too short, You need Python\"\n",
    "b = a[0] + a[1] + a[2] + a[3]\n",
    "print(b)\n",
    "print(a[0:4])\n"
   ]
  },
  {
   "cell_type": "code",
   "execution_count": 170,
   "id": "118e14cd-df4e-4fed-8afb-9ea59dd46293",
   "metadata": {},
   "outputs": [
    {
     "name": "stdout",
     "output_type": "stream",
     "text": [
      "20230331\n",
      "rainy\n"
     ]
    }
   ],
   "source": [
    "#슬라이싱으로 문자열 나누기\n",
    "a = '20230331rainy'\n",
    "date = a[:8]\n",
    "print(date)\n",
    "weather = a[8:]\n",
    "print(weather)"
   ]
  },
  {
   "cell_type": "code",
   "execution_count": 171,
   "id": "5835c60d-974f-4e23-ae0b-963ba728e704",
   "metadata": {},
   "outputs": [
    {
     "data": {
      "text/plain": [
       "'Python'"
      ]
     },
     "execution_count": 171,
     "metadata": {},
     "output_type": "execute_result"
    }
   ],
   "source": [
    "# 문자열 바꾸기\n",
    "a = \"Pithon\"\n",
    "a[1]\n",
    "#a[1] = 'y'는 가능하지 않음. 문자열은 변경 불가능한 자료형\n",
    "a[:1] + 'y' + a[2:]"
   ]
  },
  {
   "cell_type": "markdown",
   "id": "d43c3366-dac1-4f1f-8480-ec88a6b4394c",
   "metadata": {},
   "source": [
    "### 문자열 포매팅\n",
    "- 문자열 안의 특정한 값을 바꿔야 할 때 사용\n",
    "- 문자열 안에 어떤 값을 삽입"
   ]
  },
  {
   "cell_type": "markdown",
   "id": "b9847ab1-99fa-45e4-b6cb-c42a31db04af",
   "metadata": {},
   "source": [
    "### 문자열 포매팅 따라하기\n",
    "- 문자열 포맷 코드\n",
    "  + 문자열 안에 숫자를 넣고 싶을 때: %d + 숫자\n",
    "    - 숫자 값을 나타내는 변수 대입해서도 가능\n",
    "  + 문자열 안에 문자를 넣고 싶을 때: %s + \"문자\""
   ]
  },
  {
   "cell_type": "code",
   "execution_count": 172,
   "id": "53e456e4-341c-4928-8762-b4dce9885e65",
   "metadata": {},
   "outputs": [
    {
     "data": {
      "text/plain": [
       "' I eat 3 apples.'"
      ]
     },
     "execution_count": 172,
     "metadata": {},
     "output_type": "execute_result"
    }
   ],
   "source": [
    "# 숫자 바로 대입\n",
    "\" I eat %d apples.\" %3"
   ]
  },
  {
   "cell_type": "code",
   "execution_count": 173,
   "id": "ef739999-86c5-4e95-abbd-8e5bb853a683",
   "metadata": {},
   "outputs": [
    {
     "data": {
      "text/plain": [
       "'I eat five apples.'"
      ]
     },
     "execution_count": 173,
     "metadata": {},
     "output_type": "execute_result"
    }
   ],
   "source": [
    "# 문자열 바로 대입\n",
    "\"I eat %s apples.\" %\"five\""
   ]
  },
  {
   "cell_type": "code",
   "execution_count": 174,
   "id": "b050d36e-3457-4b8a-98ad-682540be371f",
   "metadata": {},
   "outputs": [
    {
     "data": {
      "text/plain": [
       "'I eat 3 apples.'"
      ]
     },
     "execution_count": 174,
     "metadata": {},
     "output_type": "execute_result"
    }
   ],
   "source": [
    "# 숫자 값을 나타내는 변수로 대입\n",
    "number = 3\n",
    "\"I eat %d apples.\" %number"
   ]
  },
  {
   "cell_type": "code",
   "execution_count": 175,
   "id": "6ddec1f9-e822-4fc6-82bf-40c66456c66e",
   "metadata": {},
   "outputs": [
    {
     "data": {
      "text/plain": [
       "'I ate 10 apples. so I was sic for three days.'"
      ]
     },
     "execution_count": 175,
     "metadata": {},
     "output_type": "execute_result"
    }
   ],
   "source": [
    "# 2개 이상의 값 넣기\n",
    "number = 10\n",
    "day = 'three'\n",
    "\"I ate %d apples. so I was sic for %s days.\" % (number, day)"
   ]
  },
  {
   "cell_type": "markdown",
   "id": "3e925858-df04-440e-b12a-fe68459f30ed",
   "metadata": {},
   "source": [
    "- 문자열 포맷 코드\n",
    "  + %s: 문자열(string)\n",
    "  + %c: 문자 1개(character)\n",
    "  + %d: 정수(integer)\n",
    "  + %f: 부동소수(floating_point)\n",
    "  + %o: 8진수\n",
    "  + %x: 16진수\n",
    "  + %%: Literal%(문자 % 자체)"
   ]
  },
  {
   "cell_type": "code",
   "execution_count": 176,
   "id": "2a8a1dc3-f7db-4a29-9eb5-21555070b42f",
   "metadata": {},
   "outputs": [
    {
     "data": {
      "text/plain": [
       "'Error is 98%.'"
      ]
     },
     "execution_count": 176,
     "metadata": {},
     "output_type": "execute_result"
    }
   ],
   "source": [
    "# 포매티 연산자 %d와 %를 같이 쓸 떄는 %%를 사용\n",
    "\"Error is %d%%.\" %98"
   ]
  },
  {
   "cell_type": "markdown",
   "id": "0ee9a07f-7afc-4814-9ffc-4332b4d0745a",
   "metadata": {},
   "source": [
    "### 포맷 코드와 숫자 함께 사용하기"
   ]
  },
  {
   "cell_type": "code",
   "execution_count": 177,
   "id": "b07575cb-dc4e-4e4f-8f31-c15b566d7f6d",
   "metadata": {},
   "outputs": [
    {
     "data": {
      "text/plain": [
       "'        hi'"
      ]
     },
     "execution_count": 177,
     "metadata": {},
     "output_type": "execute_result"
    }
   ],
   "source": [
    "# 정렬과 공백\n",
    "\"%10s\" % \"hi\"\n",
    "\n",
    "# 전체 길이가 10개인 문자열 공간에 대입되는 값을 오른쪽으로 정렬하고 나머지는 공백으로 둠"
   ]
  },
  {
   "cell_type": "code",
   "execution_count": 178,
   "id": "32296852-c5cf-4b35-afd5-cacd6a39506a",
   "metadata": {},
   "outputs": [
    {
     "data": {
      "text/plain": [
       "'hi        jane.'"
      ]
     },
     "execution_count": 178,
     "metadata": {},
     "output_type": "execute_result"
    }
   ],
   "source": [
    "\"%-10sjane.\" % \"hi\"\n",
    "# hi가 왼쪽 정렬되고 나머지는 공백으로 채움"
   ]
  },
  {
   "cell_type": "code",
   "execution_count": 179,
   "id": "ce2a7761-3691-4498-a7f2-a7083e734fd6",
   "metadata": {},
   "outputs": [
    {
     "data": {
      "text/plain": [
       "'3.4213'"
      ]
     },
     "execution_count": 179,
     "metadata": {},
     "output_type": "execute_result"
    }
   ],
   "source": [
    "# 소수점표현하기\n",
    "\"%0.4f\" % 3.42134234\n",
    "\n",
    "# 소수점 네번째까지 나타내고 싶을 때 사용\n",
    "# .은 소수점 포인트, 4는 소수점 뒤에 나올 숫자의 개수\n",
    "# 소수점 앞의 문자는 문자열 전체의 길이 의미(0은 길이에 상관하지 않는다는 의미)"
   ]
  },
  {
   "cell_type": "code",
   "execution_count": 180,
   "id": "471065ee-fa26-4ee3-8be0-60a727da5bc6",
   "metadata": {},
   "outputs": [
    {
     "data": {
      "text/plain": [
       "'    3.4213'"
      ]
     },
     "execution_count": 180,
     "metadata": {},
     "output_type": "execute_result"
    }
   ],
   "source": [
    "\"%10.4f\" % 3.42134234"
   ]
  },
  {
   "cell_type": "markdown",
   "id": "d92309cd-70cd-4e15-9828-426887496302",
   "metadata": {},
   "source": [
    "### format 함수를 사용한 포매팅"
   ]
  },
  {
   "cell_type": "code",
   "execution_count": 181,
   "id": "7b7ed2f2-f663-4867-8205-cac6367c9035",
   "metadata": {},
   "outputs": [
    {
     "data": {
      "text/plain": [
       "'I eat 3 apples.'"
      ]
     },
     "execution_count": 181,
     "metadata": {},
     "output_type": "execute_result"
    }
   ],
   "source": [
    "# 숫자 바로 대입하기\n",
    "\"I eat {0} apples.\".format(3)\n",
    "\n",
    "#{0} 부분이 3으로 바뀜"
   ]
  },
  {
   "cell_type": "code",
   "execution_count": 182,
   "id": "17fd6eaa-62e9-496d-aabf-a6fbbf22216b",
   "metadata": {},
   "outputs": [
    {
     "data": {
      "text/plain": [
       "'I eat five apples.'"
      ]
     },
     "execution_count": 182,
     "metadata": {},
     "output_type": "execute_result"
    }
   ],
   "source": [
    "#문자열 바로 대입하기\n",
    "\"I eat {0} apples.\".format(\"five\")"
   ]
  },
  {
   "cell_type": "code",
   "execution_count": 183,
   "id": "69bfa5c9-8265-4a39-aef0-7d3519353b27",
   "metadata": {},
   "outputs": [
    {
     "data": {
      "text/plain": [
       "'I eat 3 apples.'"
      ]
     },
     "execution_count": 183,
     "metadata": {},
     "output_type": "execute_result"
    }
   ],
   "source": [
    "# 숫자 값을 가진 변수로 대입하기\n",
    "number = 3\n",
    "\"I eat {0} apples.\".format(number)"
   ]
  },
  {
   "cell_type": "code",
   "execution_count": 184,
   "id": "782faaf4-0955-44af-bd9e-2e27d1945425",
   "metadata": {},
   "outputs": [
    {
     "data": {
      "text/plain": [
       "'I ate 10 apples. so I was sick for three days.'"
      ]
     },
     "execution_count": 184,
     "metadata": {},
     "output_type": "execute_result"
    }
   ],
   "source": [
    "# 2개 이상의 값 넣기\n",
    "number = 10\n",
    "day = \"three\"\n",
    "\"I ate {0} apples. so I was sick for {1} days.\".format(number, day)"
   ]
  },
  {
   "cell_type": "code",
   "execution_count": 185,
   "id": "5263e35b-ce5b-4144-b546-2c0fb1fb9ddd",
   "metadata": {},
   "outputs": [
    {
     "data": {
      "text/plain": [
       "'I ate 10 apples. so I was sick for three days.'"
      ]
     },
     "execution_count": 185,
     "metadata": {},
     "output_type": "execute_result"
    }
   ],
   "source": [
    "# 이름으로 넣기\n",
    "\"I ate {number} apples. so I was sick for {day} days.\".format(number = 10, day = \"three\")"
   ]
  },
  {
   "cell_type": "code",
   "execution_count": 186,
   "id": "ac381ad1-5eae-4306-b671-2113a5fdc563",
   "metadata": {},
   "outputs": [
    {
     "data": {
      "text/plain": [
       "'I ate 10 apples. so I was sick for 3 days.'"
      ]
     },
     "execution_count": 186,
     "metadata": {},
     "output_type": "execute_result"
    }
   ],
   "source": [
    "# 인덱스와 이름을 혼용해서 넣기\n",
    "\"I ate {0} apples. so I was sick for {day} days.\".format(10, day = 3)"
   ]
  },
  {
   "cell_type": "code",
   "execution_count": 187,
   "id": "ec1f7715-ab8d-418c-918a-565cac48b2cc",
   "metadata": {},
   "outputs": [
    {
     "data": {
      "text/plain": [
       "'hi        '"
      ]
     },
     "execution_count": 187,
     "metadata": {},
     "output_type": "execute_result"
    }
   ],
   "source": [
    "# 왼쪽 정렬\n",
    "\"{0:<10}\".format(\"hi\")\n",
    "\n",
    "#:<숫자: 문자열을 왼쪽으로 정렬하고, 문자열의 총 자릿수를 10으로 맞출 수 있음"
   ]
  },
  {
   "cell_type": "code",
   "execution_count": 188,
   "id": "2ffd4a08-103a-42f9-bea8-9f2e7faff198",
   "metadata": {},
   "outputs": [
    {
     "data": {
      "text/plain": [
       "'        hi'"
      ]
     },
     "execution_count": 188,
     "metadata": {},
     "output_type": "execute_result"
    }
   ],
   "source": [
    "# 오른쪽 정렬\n",
    "\"{0:>10}\".format(\"hi\")"
   ]
  },
  {
   "cell_type": "code",
   "execution_count": 189,
   "id": "3bc5a81f-c9bf-42a8-8cca-7b4266b264f7",
   "metadata": {},
   "outputs": [
    {
     "data": {
      "text/plain": [
       "'    hi    '"
      ]
     },
     "execution_count": 189,
     "metadata": {},
     "output_type": "execute_result"
    }
   ],
   "source": [
    "# 가운데 정렬\n",
    "\"{0:^10}\".format(\"hi\")"
   ]
  },
  {
   "cell_type": "code",
   "execution_count": 190,
   "id": "e2878e06-8e48-4ac0-840d-eb67fc8421fe",
   "metadata": {},
   "outputs": [
    {
     "data": {
      "text/plain": [
       "'====hi===='"
      ]
     },
     "execution_count": 190,
     "metadata": {},
     "output_type": "execute_result"
    }
   ],
   "source": [
    "# 공백 채우기\n",
    "\"{0:=^10}\".format(\"hi\")\n",
    "\n",
    "# =로 공백을 채우고 가운데 정렬"
   ]
  },
  {
   "cell_type": "code",
   "execution_count": 191,
   "id": "3f26d9ea-b982-4df6-a545-d4db5bad40d7",
   "metadata": {},
   "outputs": [
    {
     "data": {
      "text/plain": [
       "'hi!!!!!!!!'"
      ]
     },
     "execution_count": 191,
     "metadata": {},
     "output_type": "execute_result"
    }
   ],
   "source": [
    "\"{0:!<10}\".format(\"hi\")"
   ]
  },
  {
   "cell_type": "code",
   "execution_count": 192,
   "id": "2bf72963-7de8-4537-adda-11bd7043d841",
   "metadata": {},
   "outputs": [
    {
     "data": {
      "text/plain": [
       "'3.421'"
      ]
     },
     "execution_count": 192,
     "metadata": {},
     "output_type": "execute_result"
    }
   ],
   "source": [
    "# 소수점 표현하기\n",
    "y = 3.42134234\n",
    "\"{0:0.4}\".format(y)"
   ]
  },
  {
   "cell_type": "code",
   "execution_count": 193,
   "id": "2f6cb50b-7fa2-40c4-8aeb-acdbdc3e3c79",
   "metadata": {},
   "outputs": [
    {
     "data": {
      "text/plain": [
       "'     3.421'"
      ]
     },
     "execution_count": 193,
     "metadata": {},
     "output_type": "execute_result"
    }
   ],
   "source": [
    "y = 3.42134234\n",
    "\"{0:10.4}\".format(y)"
   ]
  },
  {
   "cell_type": "code",
   "execution_count": 194,
   "id": "41478c8a-bd70-4468-9ef1-5b0c446c7f98",
   "metadata": {},
   "outputs": [
    {
     "data": {
      "text/plain": [
       "'{and}'"
      ]
     },
     "execution_count": 194,
     "metadata": {},
     "output_type": "execute_result"
    }
   ],
   "source": [
    "# {또는} 문자 표현하기\n",
    "\"{{and}}\".format()"
   ]
  },
  {
   "cell_type": "markdown",
   "id": "c4d4f578-c6bb-4dd9-b7ea-40c0c3c88b9f",
   "metadata": {},
   "source": [
    "### f문자열 포매팅\n",
    "- 문자열 앞에 f 접두사를 붙이면 f문자열 포매팅 기능 사용 가능"
   ]
  },
  {
   "cell_type": "code",
   "execution_count": 195,
   "id": "6a0a4b90-a02c-48c1-bd18-26f77f0c6a60",
   "metadata": {},
   "outputs": [
    {
     "data": {
      "text/plain": [
       "'나의 이름은 홍길동입니다. 나이는 30입니다.'"
      ]
     },
     "execution_count": 195,
     "metadata": {},
     "output_type": "execute_result"
    }
   ],
   "source": [
    "name = '홍길동'\n",
    "age = 30\n",
    "f'나의 이름은 {name}입니다. 나이는 {age}입니다.'"
   ]
  },
  {
   "cell_type": "code",
   "execution_count": 196,
   "id": "8f38207e-dfed-4e0a-bcb5-744f9e506de8",
   "metadata": {},
   "outputs": [
    {
     "data": {
      "text/plain": [
       "'나는 내년이면 31살이 된다.'"
      ]
     },
     "execution_count": 196,
     "metadata": {},
     "output_type": "execute_result"
    }
   ],
   "source": [
    "age = 30\n",
    "f'나는 내년이면 {age +1}살이 된다.'"
   ]
  },
  {
   "cell_type": "code",
   "execution_count": 197,
   "id": "3ec378c2-8452-439a-83c3-8cac844fd73f",
   "metadata": {},
   "outputs": [
    {
     "data": {
      "text/plain": [
       "'나의 이름은 홍길동입니다. 나이는 30입니다.'"
      ]
     },
     "execution_count": 197,
     "metadata": {},
     "output_type": "execute_result"
    }
   ],
   "source": [
    "d = {'name': '홍길동', 'age': 30}\n",
    "f'나의 이름은 {d['name']}입니다. 나이는 {d[\"age\"]}입니다.'"
   ]
  },
  {
   "cell_type": "code",
   "execution_count": 198,
   "id": "f9f63eae-934d-4e3d-9112-f686d87cf86d",
   "metadata": {},
   "outputs": [
    {
     "data": {
      "text/plain": [
       "'!!!python!!!'"
      ]
     },
     "execution_count": 198,
     "metadata": {},
     "output_type": "execute_result"
    }
   ],
   "source": [
    "\"{0:!^12}\".format(\"python\")"
   ]
  },
  {
   "cell_type": "markdown",
   "id": "5f7d8482-1fa4-4580-af1a-49ab37761be1",
   "metadata": {},
   "source": [
    "### 문자열 관련 함수들\n",
    "- 문자열 내장 함수: 문자열 자료형은 자체적으로 함수를 가지고 있음\n",
    "- 문자열 변수 뒤에 '.'를 붙인 후 함수 이름을 붙여서 사용"
   ]
  },
  {
   "cell_type": "code",
   "execution_count": 199,
   "id": "890cabcb-7713-4f54-a0f7-0a5bb6797820",
   "metadata": {},
   "outputs": [
    {
     "data": {
      "text/plain": [
       "2"
      ]
     },
     "execution_count": 199,
     "metadata": {},
     "output_type": "execute_result"
    }
   ],
   "source": [
    "# 문자 개수 세기 - count\n",
    "a = 'hobby'\n",
    "a.count('b')"
   ]
  },
  {
   "cell_type": "code",
   "execution_count": 200,
   "id": "f9185094-86d6-452a-a607-874e325605da",
   "metadata": {},
   "outputs": [
    {
     "name": "stdout",
     "output_type": "stream",
     "text": [
      "14\n",
      "-1\n"
     ]
    }
   ],
   "source": [
    "# 위치 알려주기1 - find\n",
    "a = \"Python is the best choice\"\n",
    "print(a.find('b'))\n",
    "print(a.find('k'))\n",
    "\n",
    "#찾는 문자나 문자열이 존재하지 않으면 -1 반환"
   ]
  },
  {
   "cell_type": "code",
   "execution_count": 201,
   "id": "4f9e8c90-f40c-4bfc-a677-a6337574835a",
   "metadata": {},
   "outputs": [
    {
     "name": "stdout",
     "output_type": "stream",
     "text": [
      "8\n"
     ]
    }
   ],
   "source": [
    "# 위치 알려주기2 - index\n",
    "a = \"Life is too short\"\n",
    "print(a.index('t'))\n",
    "#print(a.index('k'))\n",
    "# k가 없으므로 오류 발생"
   ]
  },
  {
   "cell_type": "code",
   "execution_count": 202,
   "id": "0d6b3fd7-4670-4588-8778-a77291a44eaf",
   "metadata": {},
   "outputs": [
    {
     "data": {
      "text/plain": [
       "'a,b,c,d'"
      ]
     },
     "execution_count": 202,
     "metadata": {},
     "output_type": "execute_result"
    }
   ],
   "source": [
    "# 문자열 삽입 - join\n",
    "\",\".join('abcd')\n",
    "\n",
    "# 문자열 사이사이 , 입력\n",
    "# 리스트, 튜플에도 사용 가능"
   ]
  },
  {
   "cell_type": "code",
   "execution_count": 203,
   "id": "db23a72a-98d2-49ba-b510-31dc3bccb17f",
   "metadata": {},
   "outputs": [
    {
     "data": {
      "text/plain": [
       "'a,b,c,d'"
      ]
     },
     "execution_count": 203,
     "metadata": {},
     "output_type": "execute_result"
    }
   ],
   "source": [
    "\",\".join(['a', 'b', 'c', 'd'])"
   ]
  },
  {
   "cell_type": "code",
   "execution_count": 204,
   "id": "b7f9bc37-6282-4b39-a3eb-8f3e69aed0bf",
   "metadata": {},
   "outputs": [
    {
     "data": {
      "text/plain": [
       "'HI'"
      ]
     },
     "execution_count": 204,
     "metadata": {},
     "output_type": "execute_result"
    }
   ],
   "source": [
    "# 소문자를 대문자로 바꾸기 - upper\n",
    "a = \"hi\"\n",
    "a.upper()"
   ]
  },
  {
   "cell_type": "code",
   "execution_count": 205,
   "id": "3bbaa197-d8be-44fe-90e0-6f303f70e593",
   "metadata": {},
   "outputs": [
    {
     "data": {
      "text/plain": [
       "'hi'"
      ]
     },
     "execution_count": 205,
     "metadata": {},
     "output_type": "execute_result"
    }
   ],
   "source": [
    "# 대문자를 소문자로 바꾸기 -lower\n",
    "a = \"HI\"\n",
    "a.lower()"
   ]
  },
  {
   "cell_type": "code",
   "execution_count": 206,
   "id": "f2b0190e-1cd3-43fc-b96e-9bd7c3f857ab",
   "metadata": {},
   "outputs": [
    {
     "data": {
      "text/plain": [
       "'hi '"
      ]
     },
     "execution_count": 206,
     "metadata": {},
     "output_type": "execute_result"
    }
   ],
   "source": [
    "# 왼쪽 공백 지우기 - lstrip\n",
    "a = \" hi \"\n",
    "a.lstrip()"
   ]
  },
  {
   "cell_type": "code",
   "execution_count": 207,
   "id": "2905465e-9b50-4db5-b588-17ff1c098db0",
   "metadata": {},
   "outputs": [
    {
     "data": {
      "text/plain": [
       "' hi'"
      ]
     },
     "execution_count": 207,
     "metadata": {},
     "output_type": "execute_result"
    }
   ],
   "source": [
    "# 오른쪽 공백 지우기 - rstrip\n",
    "a = \" hi \"\n",
    "a.rstrip()"
   ]
  },
  {
   "cell_type": "code",
   "execution_count": 208,
   "id": "0d0573b1-c1be-40b6-b28c-42cc2d882d15",
   "metadata": {},
   "outputs": [
    {
     "data": {
      "text/plain": [
       "'hi'"
      ]
     },
     "execution_count": 208,
     "metadata": {},
     "output_type": "execute_result"
    }
   ],
   "source": [
    "# 양쪽 공백 지우기 - strip\n",
    "a = \" hi \"\n",
    "a.strip()"
   ]
  },
  {
   "cell_type": "code",
   "execution_count": 209,
   "id": "91b90571-a357-4030-b805-0ea1d7047333",
   "metadata": {},
   "outputs": [
    {
     "data": {
      "text/plain": [
       "'Your leg is too short'"
      ]
     },
     "execution_count": 209,
     "metadata": {},
     "output_type": "execute_result"
    }
   ],
   "source": [
    "# 문자열 바꾸기 - replace\n",
    "a = \"Life is too short\"\n",
    "a.replace(\"Life\", \"Your leg\")\n",
    "\n",
    "#replace(바뀔_문자열, 바꿀_문자열) ==> 문자열 안의 특정한 값을 치환"
   ]
  },
  {
   "cell_type": "code",
   "execution_count": 210,
   "id": "3028ecd6-405a-4de0-8de1-afa6e6c3ddc3",
   "metadata": {},
   "outputs": [
    {
     "name": "stdout",
     "output_type": "stream",
     "text": [
      "['Life', 'is', 'too', 'short']\n",
      "['a', 'b', 'c', 'd']\n"
     ]
    }
   ],
   "source": [
    "# 문자열 나누기 - split\n",
    "a = \"Life is too short\"\n",
    "print(a.split())\n",
    "\n",
    "b = \"a:b:c:d\"\n",
    "print(b.split(':'))"
   ]
  },
  {
   "cell_type": "code",
   "execution_count": 211,
   "id": "70c0b172-44a9-41b7-b219-8c36888c35db",
   "metadata": {},
   "outputs": [
    {
     "data": {
      "text/plain": [
       "'HI'"
      ]
     },
     "execution_count": 211,
     "metadata": {},
     "output_type": "execute_result"
    }
   ],
   "source": [
    "# 착각하기 쉬운 문자열 함수\n",
    "a = 'hi'\n",
    "# a.upper()는 자체의 값을 변경하는 것이 아닌 대문자로 바꾼 값을 return하는 것임\n",
    "# 바꾸고 싶으면 대입문 사용\n",
    "a = a.upper()\n",
    "a"
   ]
  },
  {
   "cell_type": "markdown",
   "id": "3ffe4e41-635f-42db-86b1-ce683a752530",
   "metadata": {},
   "source": [
    "## 02-3 리스트 자료형\n",
    "- 숫자의 모음을 숫자나 문자열로 표현하기는 어려움\n",
    "- 파이썬에서는 이러한 불편함을 해소하기 위해 자료형이 존재"
   ]
  },
  {
   "cell_type": "markdown",
   "id": "8f8336ad-1842-4629-87ba-2b04a1b52a29",
   "metadata": {},
   "source": [
    "### 리스트는 어떻게 만들고 사용할까?\n",
    "- 리스트명 = [요소1, 요소2, 요소3,...]\n",
    "- 가능한 리스트\n",
    "  + 비어있는 리스트[ ]\n",
    "  + 숫자 / 문자열을 요소값으로 가진 리스트\n",
    "  + 숫자 + 문자열을 요소값으로 가진 리스트\n",
    "  + 리스트 자체를 요소값으로 가진 리스트[ [ ] ]"
   ]
  },
  {
   "cell_type": "code",
   "execution_count": 212,
   "id": "0318e75a-83db-4ad3-a6f1-5454c2bd8a58",
   "metadata": {},
   "outputs": [],
   "source": [
    "odd = [1,3,5,7,9]"
   ]
  },
  {
   "cell_type": "code",
   "execution_count": 213,
   "id": "2eadcbd0-14f5-4625-adc4-a4151218941f",
   "metadata": {},
   "outputs": [],
   "source": [
    "a = []\n",
    "b =[1, 2, 3]\n",
    "c= ['life', 'is', 'too', 'short']\n",
    "d = [1, 2, 'life', 'is']\n",
    "e = [1, 2, ['life', 'is']]"
   ]
  },
  {
   "cell_type": "markdown",
   "id": "32c28796-183c-4d6b-bb68-9ad049e88b98",
   "metadata": {},
   "source": [
    "### 리스트의 인덱싱과 슬라이싱"
   ]
  },
  {
   "cell_type": "code",
   "execution_count": 214,
   "id": "39f41260-99e1-48b5-a16e-c12e610354c3",
   "metadata": {},
   "outputs": [
    {
     "name": "stdout",
     "output_type": "stream",
     "text": [
      "[1, 2, 3]\n",
      "1\n",
      "5\n",
      "3\n"
     ]
    }
   ],
   "source": [
    "# 리스트의 인덱싱\n",
    "a = [1, 2, 3]\n",
    "print(a)\n",
    "print(a[0])\n",
    "print(a[1] + a[2])\n",
    "print(a[-1]) #리스트의 마지막 요솟값"
   ]
  },
  {
   "cell_type": "code",
   "execution_count": 215,
   "id": "8d8ae900-49cc-4804-b9a4-baf4e1ef2fc5",
   "metadata": {},
   "outputs": [
    {
     "name": "stdout",
     "output_type": "stream",
     "text": [
      "1\n",
      "['a', 'b', 'c']\n",
      "['a', 'b', 'c']\n",
      "a\n"
     ]
    }
   ],
   "source": [
    "a = [1, 2, 3, ['a', 'b', 'c']]\n",
    "print(a[0])\n",
    "\n",
    "print(a[-1])\n",
    "\n",
    "print(a[3])\n",
    "\n",
    "print(a[-1][0])"
   ]
  },
  {
   "cell_type": "code",
   "execution_count": 216,
   "id": "f48e93ce-ecf9-4668-b618-d3f21564ea28",
   "metadata": {},
   "outputs": [
    {
     "data": {
      "text/plain": [
       "'life'"
      ]
     },
     "execution_count": 216,
     "metadata": {},
     "output_type": "execute_result"
    }
   ],
   "source": [
    "# 삼중 리스트에서 인덱싱 하기\n",
    "a = [1, 2, ['a', 'b', ['life', 'is']]]\n",
    "a[2][2][0]"
   ]
  },
  {
   "cell_type": "code",
   "execution_count": 217,
   "id": "7f5c212c-e2b2-4844-9dab-ac8e80f8c1b5",
   "metadata": {},
   "outputs": [
    {
     "data": {
      "text/plain": [
       "[1, 2]"
      ]
     },
     "execution_count": 217,
     "metadata": {},
     "output_type": "execute_result"
    }
   ],
   "source": [
    "# 리스트의 슬라이싱\n",
    "a = [1, 2, 3, 4, 5]\n",
    "a[0:2]"
   ]
  },
  {
   "cell_type": "code",
   "execution_count": 218,
   "id": "ee859449-215a-4eff-8034-a45af465cacc",
   "metadata": {},
   "outputs": [
    {
     "data": {
      "text/plain": [
       "'12'"
      ]
     },
     "execution_count": 218,
     "metadata": {},
     "output_type": "execute_result"
    }
   ],
   "source": [
    "a = \"12345\"\n",
    "a[0:2]"
   ]
  },
  {
   "cell_type": "code",
   "execution_count": 219,
   "id": "ff4281ee-2d9d-4207-8755-93b8353e3137",
   "metadata": {},
   "outputs": [
    {
     "name": "stdout",
     "output_type": "stream",
     "text": [
      "[1, 2]\n",
      "[3, 4, 5]\n"
     ]
    }
   ],
   "source": [
    "a = [1, 2, 3, 4, 5]\n",
    "b = a[:2]\n",
    "c = a[2:]\n",
    "print(b)\n",
    "print(c)"
   ]
  },
  {
   "cell_type": "markdown",
   "id": "60612bcb-4540-4b6d-a921-590d8f6a96de",
   "metadata": {},
   "source": [
    "### 리스트 연산하기\n",
    "- 리스트도 +를 사용해 더하고 *를 사용해 반복할 수 있음\n"
   ]
  },
  {
   "cell_type": "code",
   "execution_count": 220,
   "id": "1372941e-ee29-49a5-9fe0-b10af93dc26c",
   "metadata": {},
   "outputs": [
    {
     "data": {
      "text/plain": [
       "[1, 2, 3, 4, 5, 6]"
      ]
     },
     "execution_count": 220,
     "metadata": {},
     "output_type": "execute_result"
    }
   ],
   "source": [
    "# 리스트 더하기(+)\n",
    "a = [1, 2, 3]\n",
    "b = [4, 5, 6]\n",
    "a + b"
   ]
  },
  {
   "cell_type": "code",
   "execution_count": 221,
   "id": "b936250f-6080-40a2-b8b2-cdf9237682fa",
   "metadata": {},
   "outputs": [
    {
     "data": {
      "text/plain": [
       "[1, 2, 3, 1, 2, 3, 1, 2, 3]"
      ]
     },
     "execution_count": 221,
     "metadata": {},
     "output_type": "execute_result"
    }
   ],
   "source": [
    "# 리스트 반복하기(*)\n",
    "a = [1, 2, 3]\n",
    "a * 3"
   ]
  },
  {
   "cell_type": "code",
   "execution_count": 222,
   "id": "8412875f-0b7b-4fe9-bae7-6974664cabc1",
   "metadata": {},
   "outputs": [
    {
     "data": {
      "text/plain": [
       "3"
      ]
     },
     "execution_count": 222,
     "metadata": {},
     "output_type": "execute_result"
    }
   ],
   "source": [
    "# 리스트 길이 구하기\n",
    "a = [1, 2, 3]\n",
    "len(a)"
   ]
  },
  {
   "cell_type": "code",
   "execution_count": 223,
   "id": "0a44cae4-ca80-449f-ba8c-a8d032aca63c",
   "metadata": {},
   "outputs": [
    {
     "data": {
      "text/plain": [
       "'3hi'"
      ]
     },
     "execution_count": 223,
     "metadata": {},
     "output_type": "execute_result"
    }
   ],
   "source": [
    "# 초보자가 범하기 쉬운 리스트 연산 오류\n",
    "a = [1, 2, 3]\n",
    "str(a[2]) + \"hi\"\n",
    "\n",
    "#a[2] + \"hi\" 이 경우는 문자열과 정수이기 때문에 더해지지 않음\n",
    "#str은 정수나 실수를 문자열로 바꿔주는 파이썬 내장 함수"
   ]
  },
  {
   "cell_type": "markdown",
   "id": "b80c45ff-22f6-4b56-8f12-f9b189c05c41",
   "metadata": {},
   "source": [
    "### 리스트의 수정과 삭제"
   ]
  },
  {
   "cell_type": "code",
   "execution_count": 224,
   "id": "cfacc0ad-b376-4252-8d69-e365178cfb48",
   "metadata": {},
   "outputs": [
    {
     "data": {
      "text/plain": [
       "[1, 2, 4]"
      ]
     },
     "execution_count": 224,
     "metadata": {},
     "output_type": "execute_result"
    }
   ],
   "source": [
    "# 리스트의 값 수정하기\n",
    "a = [1, 2, 3]\n",
    "a[2] = 4\n",
    "a"
   ]
  },
  {
   "cell_type": "code",
   "execution_count": 225,
   "id": "feafee9c-cb8f-4b62-b0a4-ba7607ece3a1",
   "metadata": {},
   "outputs": [
    {
     "name": "stdout",
     "output_type": "stream",
     "text": [
      "[1, 3]\n",
      "[1, 2]\n"
     ]
    }
   ],
   "source": [
    "# del 함수를 사용해 리스트 요소 삭제하기\n",
    "a = [1, 2, 3]\n",
    "del a[1]\n",
    "print(a)\n",
    "\n",
    "#del 객체\n",
    "\n",
    "# 슬라이싱 기법 사용하여 리스트 요소 여러개 한꺼번에 삭제\n",
    "a = [1, 2, 3, 4, 5]\n",
    "del a [2:]\n",
    "print(a)"
   ]
  },
  {
   "cell_type": "markdown",
   "id": "8ee8deaf-7db7-4b50-bcae-4d20a3dc466a",
   "metadata": {},
   "source": [
    "### 리스트 관련 함수\n",
    "- 문자열과 마찬가지로 리스트 변수 이름 뒤에 '.'를 붙여 여러가지 리스트 관련 함수 사용 가능"
   ]
  },
  {
   "cell_type": "code",
   "execution_count": 226,
   "id": "407130ca-81ac-4f58-ad05-3e3b04af67a4",
   "metadata": {},
   "outputs": [
    {
     "name": "stdout",
     "output_type": "stream",
     "text": [
      "[1, 2, 3, 4]\n",
      "[1, 2, 3, 4, [5, 6]]\n"
     ]
    }
   ],
   "source": [
    "# 리스트에 요소 추가하기 - append\n",
    "a = [1, 2, 3]\n",
    "a.append(4)\n",
    "print(a)\n",
    "\n",
    "a.append([5,6])\n",
    "print(a)\n",
    "\n",
    "#.append(x): 리스트의 맨 마지막에 x 추가"
   ]
  },
  {
   "cell_type": "code",
   "execution_count": 227,
   "id": "3794da21-715d-414f-851e-b2cd4c8d0ae0",
   "metadata": {},
   "outputs": [
    {
     "data": {
      "text/plain": [
       "[1, 2, 3, 4]"
      ]
     },
     "execution_count": 227,
     "metadata": {},
     "output_type": "execute_result"
    }
   ],
   "source": [
    "# 리스트 정렬 - sort\n",
    "a = [1, 4, 2, 3]\n",
    "a.sort()\n",
    "a"
   ]
  },
  {
   "cell_type": "code",
   "execution_count": 228,
   "id": "8a3e5220-fcc3-4036-b030-eb7928c917b3",
   "metadata": {},
   "outputs": [
    {
     "data": {
      "text/plain": [
       "['a', 'b', 'c', 'd']"
      ]
     },
     "execution_count": 228,
     "metadata": {},
     "output_type": "execute_result"
    }
   ],
   "source": [
    "a = ['a', 'c', 'd', 'b']\n",
    "a.sort()\n",
    "a"
   ]
  },
  {
   "cell_type": "code",
   "execution_count": 229,
   "id": "41ccb50f-26e4-4fe1-a2f7-300d970c2fc7",
   "metadata": {},
   "outputs": [
    {
     "data": {
      "text/plain": [
       "['b', 'd', 'c', 'a']"
      ]
     },
     "execution_count": 229,
     "metadata": {},
     "output_type": "execute_result"
    }
   ],
   "source": [
    "# 리스트 뒤집기 - reverse\n",
    "a = ['a', 'c', 'd', 'b']\n",
    "a.reverse()\n",
    "a\n",
    "\n",
    "#리스트의 현재 순서를 그대로 거꾸로 뒤집음"
   ]
  },
  {
   "cell_type": "code",
   "execution_count": 230,
   "id": "dff6b2df-9110-416e-a1df-cef2cb98964d",
   "metadata": {},
   "outputs": [
    {
     "name": "stdout",
     "output_type": "stream",
     "text": [
      "2\n",
      "0\n"
     ]
    }
   ],
   "source": [
    "# 인덱스 반환\n",
    "a = [1, 2, 3]\n",
    "print(a.index(3))\n",
    "# = a[2]\n",
    "\n",
    "print(a.index(1))\n",
    "# = a[0]\n",
    "\n",
    "#index(x) 함수는 리스트에 x값이 몇 번째 위치에 있는지 찾아 인덱스 값 리턴"
   ]
  },
  {
   "cell_type": "code",
   "execution_count": 231,
   "id": "94f3179d-b986-4b2c-b611-99736fd66f25",
   "metadata": {},
   "outputs": [
    {
     "name": "stdout",
     "output_type": "stream",
     "text": [
      "[4, 1, 2, 3]\n",
      "[4, 1, 2, 5, 3]\n"
     ]
    }
   ],
   "source": [
    "# 리스트에 요소 삽입 - insert\n",
    "a = [1, 2, 3]\n",
    "a.insert(0,4) # 0위치에 4 삽입\n",
    "print(a)\n",
    "\n",
    "a.insert(3,5) # 3 위치에 5 삽입\n",
    "print(a)"
   ]
  },
  {
   "cell_type": "code",
   "execution_count": 232,
   "id": "d397c15b-d902-4071-b0f5-7ad4e135cedd",
   "metadata": {},
   "outputs": [
    {
     "data": {
      "text/plain": [
       "[1, 2, 1, 2]"
      ]
     },
     "execution_count": 232,
     "metadata": {},
     "output_type": "execute_result"
    }
   ],
   "source": [
    "# 리스트 요소 제거 - remove\n",
    "a = [1, 2, 3, 1, 2, 3]\n",
    "a.remove(3)\n",
    "a.remove(3)\n",
    "a\n",
    "\n",
    "# remove(x): 리스트에서 첫 번째로 나오는 x를 삭제하는 함수\n",
    "# 두 번 실행하면 두 번째 값도 삭제 됨"
   ]
  },
  {
   "cell_type": "code",
   "execution_count": 233,
   "id": "9a89beb0-e82f-464c-95b9-383f6145e1a2",
   "metadata": {},
   "outputs": [
    {
     "name": "stdout",
     "output_type": "stream",
     "text": [
      "2\n"
     ]
    },
    {
     "data": {
      "text/plain": [
       "[1, 3]"
      ]
     },
     "execution_count": 233,
     "metadata": {},
     "output_type": "execute_result"
    }
   ],
   "source": [
    "# 리스트 요소 끄집어 내기 - pop\n",
    "a = [1, 2, 3]\n",
    "print(a.pop(1))\n",
    "a\n",
    "\n",
    "#pop(X)는 리스트의 x번째 요소를 리턴하고, 그 요소는 삭제"
   ]
  },
  {
   "cell_type": "code",
   "execution_count": 234,
   "id": "f1c1e959-6cc4-4e14-9833-672eeac8bbdd",
   "metadata": {},
   "outputs": [
    {
     "data": {
      "text/plain": [
       "2"
      ]
     },
     "execution_count": 234,
     "metadata": {},
     "output_type": "execute_result"
    }
   ],
   "source": [
    "# 리스트에 포함된 요소 x의 개수 세기 - count\n",
    "a = [1, 2, 3, 1]\n",
    "a.count(1)"
   ]
  },
  {
   "cell_type": "code",
   "execution_count": 235,
   "id": "8caf4378-9f8d-4b52-a09a-5bc749f60684",
   "metadata": {},
   "outputs": [
    {
     "name": "stdout",
     "output_type": "stream",
     "text": [
      "[1, 2, 3, 4, 5]\n"
     ]
    },
    {
     "data": {
      "text/plain": [
       "[1, 2, 3, 4, 5, 6, 7]"
      ]
     },
     "execution_count": 235,
     "metadata": {},
     "output_type": "execute_result"
    }
   ],
   "source": [
    "# 리스트 확장 -extend\n",
    "a = [1, 2, 3]\n",
    "a.extend([4,5])\n",
    "print(a)\n",
    "\n",
    "b = [6,7]\n",
    "a.extend(b)\n",
    "a"
   ]
  },
  {
   "cell_type": "markdown",
   "id": "3ff833d0-2df5-4ca4-a757-0544c9c19c99",
   "metadata": {},
   "source": [
    "## 02-4 튜플 자료형\n",
    "- 리스트는 [ ], 튜플은 ( )\n",
    "- 리스트는 요솟값의 생성, 삭제, 수정이 가능하지만 튜플은 요솟값을 바꿀 수 없다."
   ]
  },
  {
   "cell_type": "markdown",
   "id": "5040aa03-6173-4bf7-81f1-08af98ec800c",
   "metadata": {},
   "source": [
    "### 튜플은 어떻게 만들까?\n",
    "- 튜플과 리스트는 비슷한 역할을 하지만, 프로그래밍을 할 때 튜플과 리스트는 구별해서 사용하는 것이 유리\n",
    "- 프로그램이 실행되는 동안 요솟값이 항상 변하지 않기를 바란다거나 값이 바뀔까 걱정하고 싶지 않다면 튜플\n",
    "- 수시로 값을 변화시켜야한다면 리스트"
   ]
  },
  {
   "cell_type": "code",
   "execution_count": 236,
   "id": "ec0c8bb1-3753-4a70-8eab-4ff6e005d3b3",
   "metadata": {},
   "outputs": [],
   "source": [
    "t1 = ()\n",
    "t2 = (1, )\n",
    "t3 = (1, 2, 3)\n",
    "t4 = 1, 2, 3\n",
    "t5 = ('a', 'b', ('ab', 'cd'))\n",
    "\n",
    "# t2 -> 요소가 하나일 때는 반드시 요소 뒤에 쉼표(,) 붙여야 함\n",
    "# t4 -> 소괄호 생략 가능"
   ]
  },
  {
   "cell_type": "markdown",
   "id": "534324df-8b98-4243-b4b0-cf8b680fbf14",
   "metadata": {},
   "source": [
    "### 튜플의 요솟값을 지우거나 변경하려고 하면 어떻게 될까?"
   ]
  },
  {
   "cell_type": "code",
   "execution_count": 237,
   "id": "44c6147c-17b9-4d7c-aba8-edf90718cc7d",
   "metadata": {},
   "outputs": [],
   "source": [
    "# 튜플 요소값을 삭제하려 할 때\n",
    "t1 = (1, 2, 'a', 'b')\n",
    "#del t1[0] ==> typeerror"
   ]
  },
  {
   "cell_type": "code",
   "execution_count": 238,
   "id": "9ebb6442-8a46-4373-8879-e7eec9ab43c9",
   "metadata": {},
   "outputs": [],
   "source": [
    "# 튜플 요솟값을 변경하려 할 때\n",
    "t1 = (1, 2, 'a', 'b')\n",
    "# t1[0] = 'c' ==> typeerror"
   ]
  },
  {
   "cell_type": "markdown",
   "id": "580d814d-f17f-41a4-988f-1e6b5832950a",
   "metadata": {},
   "source": [
    "### 튜플 다루기"
   ]
  },
  {
   "cell_type": "code",
   "execution_count": 239,
   "id": "f6ecba68-40de-4311-bd1b-26cd16fa75ca",
   "metadata": {},
   "outputs": [
    {
     "data": {
      "text/plain": [
       "1"
      ]
     },
     "execution_count": 239,
     "metadata": {},
     "output_type": "execute_result"
    }
   ],
   "source": [
    "# 인덱싱 하기\n",
    "t1 = (1, 2, 'a', 'b')\n",
    "t1[0]"
   ]
  },
  {
   "cell_type": "code",
   "execution_count": 240,
   "id": "e0b05fde-e950-4684-95de-49ae979ee0b5",
   "metadata": {},
   "outputs": [
    {
     "data": {
      "text/plain": [
       "(2, 'a', 'b')"
      ]
     },
     "execution_count": 240,
     "metadata": {},
     "output_type": "execute_result"
    }
   ],
   "source": [
    "# 슬라이싱하기\n",
    "t1 = (1, 2, 'a', 'b')\n",
    "t1[1:]"
   ]
  },
  {
   "cell_type": "code",
   "execution_count": 241,
   "id": "f77373bd-35f6-46f3-a0b7-b8c63e0774cb",
   "metadata": {},
   "outputs": [
    {
     "data": {
      "text/plain": [
       "(1, 2, 'a', 'b', 3, 4)"
      ]
     },
     "execution_count": 241,
     "metadata": {},
     "output_type": "execute_result"
    }
   ],
   "source": [
    "# 튜플 더하기\n",
    "t1 = (1, 2, 'a', 'b')\n",
    "t2 = (3, 4)\n",
    "t3 = t1 + t2\n",
    "t3"
   ]
  },
  {
   "cell_type": "code",
   "execution_count": 242,
   "id": "6ea881e8-9bbc-495e-bf4c-5a4773a44817",
   "metadata": {},
   "outputs": [
    {
     "data": {
      "text/plain": [
       "(3, 4, 3, 4, 3, 4)"
      ]
     },
     "execution_count": 242,
     "metadata": {},
     "output_type": "execute_result"
    }
   ],
   "source": [
    "# 튜플 곱하기\n",
    "t2 = (3, 4)\n",
    "t3 = t2 * 3\n",
    "t3"
   ]
  },
  {
   "cell_type": "code",
   "execution_count": 243,
   "id": "55c4c6ce-e614-4bf3-bf43-97ca83994b12",
   "metadata": {},
   "outputs": [
    {
     "data": {
      "text/plain": [
       "4"
      ]
     },
     "execution_count": 243,
     "metadata": {},
     "output_type": "execute_result"
    }
   ],
   "source": [
    "# 튜플 길이 구하기\n",
    "t1 = (1, 2, 'a', 'b')\n",
    "len(t1)"
   ]
  },
  {
   "cell_type": "markdown",
   "id": "777c4b17-bc2a-4fe8-a4d1-7362fe85e16a",
   "metadata": {},
   "source": [
    "## 02-5 딕셔너리 자료형\n",
    "- 리스트나 튜플처럼 순차적으롷 ㅐ당 요솟값을 구하지 않고 key를 통해 value를 얻음"
   ]
  },
  {
   "cell_type": "code",
   "execution_count": 4,
   "id": "0d8e968c-3e49-4b24-a564-18644df3c583",
   "metadata": {},
   "outputs": [],
   "source": [
    "# 딕셔너리는 어떻게 만들까?\n",
    "# {key1: value1, key2: value2, key3: value3,...} ==> 딕셔너리 기본 모습\n",
    "dic = {'name' : 'pey', 'phone' : '010-9999-1234', 'birth' : '1118'}\n",
    "a = {1 : \"hi\"}\n",
    "a = {'a' : [1, 2, 3]}"
   ]
  },
  {
   "cell_type": "markdown",
   "id": "f160f82a-0cac-413f-b90c-90c896cddc62",
   "metadata": {},
   "source": [
    "### 딕셔너리 쌍 추가, 삭제하기"
   ]
  },
  {
   "cell_type": "code",
   "execution_count": 11,
   "id": "7f1e26a7-e4bc-47a3-afc4-aaeeef83817b",
   "metadata": {},
   "outputs": [
    {
     "name": "stdout",
     "output_type": "stream",
     "text": [
      "{1: 'a', 2: 'b'}\n",
      "{1: 'a', 2: 'b', 'name': 'pey'}\n",
      "{1: 'a', 2: 'b', 'name': 'pey', 3: [1, 2, 3]}\n"
     ]
    },
    {
     "data": {
      "text/plain": [
       "{1: 'a', 2: 'b', 'name': 'pey', 3: [1, 2, 3]}"
      ]
     },
     "execution_count": 11,
     "metadata": {},
     "output_type": "execute_result"
    }
   ],
   "source": [
    "# 딕셔너리 쌍 추가하기\n",
    "a = {1: 'a'}\n",
    "a[2] = 'b'\n",
    "print(a)\n",
    "\n",
    "a['name'] = 'pey'\n",
    "print(a)\n",
    "\n",
    "a[3] = [1, 2, 3]\n",
    "print(a)\n",
    "a"
   ]
  },
  {
   "cell_type": "code",
   "execution_count": 12,
   "id": "7fabfbee-10cf-492b-b6a8-08b7c0a5d4d5",
   "metadata": {},
   "outputs": [
    {
     "data": {
      "text/plain": [
       "{2: 'b', 'name': 'pey', 3: [1, 2, 3]}"
      ]
     },
     "execution_count": 12,
     "metadata": {},
     "output_type": "execute_result"
    }
   ],
   "source": [
    "# 딕셔너리 요소 삭제하기\n",
    "del a[1]\n",
    "a"
   ]
  },
  {
   "cell_type": "markdown",
   "id": "a7075992-9a78-4661-be97-3ee3246e4491",
   "metadata": {},
   "source": [
    "### 딕셔너리를 사용하는 방법\n",
    "- 리스트나 튜플, 문자열은 요솟값을 얻고자 할때 인덱싱이나 슬라이싱 기법 중 하나를 사용\n",
    "- 딕셔너리는 key 값을 이용해서 value 값을 구하는 방법 사용\n",
    "- key의 value를 얻기 위해서는 '딕셔너리 변수 이름[key]를 사용해야 함"
   ]
  },
  {
   "cell_type": "code",
   "execution_count": 13,
   "id": "81566e65-ab80-42f6-84b3-b3b9a1e5ae3f",
   "metadata": {},
   "outputs": [
    {
     "data": {
      "text/plain": [
       "10"
      ]
     },
     "execution_count": 13,
     "metadata": {},
     "output_type": "execute_result"
    }
   ],
   "source": [
    "# 딕셔너리에서 key를 사용해 value 얻기\n",
    "grade = {'pey' : 10, 'julliet' : 99}\n",
    "grade['pey']"
   ]
  },
  {
   "cell_type": "code",
   "execution_count": 17,
   "id": "4f57de32-1eae-4dfa-87bb-9c5e7943eb9d",
   "metadata": {},
   "outputs": [
    {
     "name": "stdout",
     "output_type": "stream",
     "text": [
      "a\n",
      "b\n"
     ]
    }
   ],
   "source": [
    "a = {1:'a', 2:'b'}\n",
    "print(a[1])\n",
    "print(a[2])"
   ]
  },
  {
   "cell_type": "code",
   "execution_count": 18,
   "id": "2923a452-28b1-4d6b-8301-18ff875f5088",
   "metadata": {},
   "outputs": [
    {
     "name": "stdout",
     "output_type": "stream",
     "text": [
      "1\n",
      "2\n"
     ]
    }
   ],
   "source": [
    "a = {'a':1, 'b': 2}\n",
    "print(a['a'])\n",
    "print(a['b'])"
   ]
  },
  {
   "cell_type": "code",
   "execution_count": 21,
   "id": "6766dcae-2df7-4301-8d43-1f8a2feffffc",
   "metadata": {},
   "outputs": [
    {
     "data": {
      "text/plain": [
       "'1118'"
      ]
     },
     "execution_count": 21,
     "metadata": {},
     "output_type": "execute_result"
    }
   ],
   "source": [
    "dic = {'name' : 'pey', 'phone': '010-9999-1234', 'birth': '1118'}\n",
    "dic['name']\n",
    "dic['phone']\n",
    "dic['birth']"
   ]
  },
  {
   "cell_type": "code",
   "execution_count": 22,
   "id": "d2c8cc6d-065a-4f68-a18a-f6f7f5f68fa0",
   "metadata": {},
   "outputs": [
    {
     "data": {
      "text/plain": [
       "{1: 'b'}"
      ]
     },
     "execution_count": 22,
     "metadata": {},
     "output_type": "execute_result"
    }
   ],
   "source": [
    "# 딕셔너리 만들 때 주의 사항_ 중복되는 key 값 설정 시 하나를 제외한 나머지 모두 무시됨\n",
    "# 딕셔너리는 key를 통해 value를 얻기 때문에 1개를 제외한 나머지 값은 모두 무시 됨\n",
    "a = {1:'a', 1:'b'}\n",
    "a"
   ]
  },
  {
   "cell_type": "code",
   "execution_count": null,
   "id": "b4e30dbb-4d50-403b-8c36-036a23229211",
   "metadata": {},
   "outputs": [],
   "source": [
    "# key에 리스트를 넣을 수 없음 ==> typeerror\n",
    "#a = {[1,2]:'hi'}"
   ]
  },
  {
   "cell_type": "markdown",
   "id": "82e3fe8c-2326-4cb3-bdfa-993848348a48",
   "metadata": {},
   "source": [
    "### 딕셔너리 관련 함수\n",
    "- 리스트 고유의 append, insert, pop, remove, sort 함수 수행 불가"
   ]
  },
  {
   "cell_type": "code",
   "execution_count": 6,
   "id": "42ba21d2-4e0d-44bd-98b1-f77033e5134c",
   "metadata": {},
   "outputs": [
    {
     "data": {
      "text/plain": [
       "dict_keys(['name', 'phone', 'birth'])"
      ]
     },
     "execution_count": 6,
     "metadata": {},
     "output_type": "execute_result"
    }
   ],
   "source": [
    "# key 리스트 만들기 -keys\n",
    "a = {'name':'pey', 'phone' : '010-9999-1234', 'birth':'1118'}\n",
    "a.keys()"
   ]
  },
  {
   "cell_type": "code",
   "execution_count": 4,
   "id": "a916cdd3-bdfe-4421-b6d8-c2293f325d87",
   "metadata": {},
   "outputs": [
    {
     "name": "stdout",
     "output_type": "stream",
     "text": [
      "name\n",
      "phone\n",
      "birth\n"
     ]
    }
   ],
   "source": [
    "for k in a.keys():\n",
    "    print(k)"
   ]
  },
  {
   "cell_type": "code",
   "execution_count": 5,
   "id": "a772f8ad-fb95-4bfe-83ce-2e53f119f916",
   "metadata": {},
   "outputs": [
    {
     "data": {
      "text/plain": [
       "['name', 'phone', 'birth']"
      ]
     },
     "execution_count": 5,
     "metadata": {},
     "output_type": "execute_result"
    }
   ],
   "source": [
    "# 값을 list로 반환받고 싶은 경우\n",
    "list(a.keys())"
   ]
  },
  {
   "cell_type": "code",
   "execution_count": 7,
   "id": "a6a82a4c-2b42-455b-a160-bae929e17d42",
   "metadata": {},
   "outputs": [
    {
     "data": {
      "text/plain": [
       "dict_values(['pey', '010-9999-1234', '1118'])"
      ]
     },
     "execution_count": 7,
     "metadata": {},
     "output_type": "execute_result"
    }
   ],
   "source": [
    "# value 리스트 만들기 - values\n",
    "a.values()"
   ]
  },
  {
   "cell_type": "code",
   "execution_count": 9,
   "id": "5ca04b7d-d947-47a4-9f09-f39bde993445",
   "metadata": {},
   "outputs": [
    {
     "data": {
      "text/plain": [
       "dict_items([('name', 'pey'), ('phone', '010-9999-1234'), ('birth', '1118')])"
      ]
     },
     "execution_count": 9,
     "metadata": {},
     "output_type": "execute_result"
    }
   ],
   "source": [
    "#key, value 쌍 얻기 - items\n",
    "a.items()"
   ]
  },
  {
   "cell_type": "code",
   "execution_count": 11,
   "id": "b58d4d56-5e83-4b7b-9765-1e46efd11c2b",
   "metadata": {},
   "outputs": [
    {
     "data": {
      "text/plain": [
       "{}"
      ]
     },
     "execution_count": 11,
     "metadata": {},
     "output_type": "execute_result"
    }
   ],
   "source": [
    "# key: value 쌍 모두 지우기 - clear\n",
    "a.clear()\n",
    "a"
   ]
  },
  {
   "cell_type": "code",
   "execution_count": 15,
   "id": "a10aa622-f77b-4368-bf20-e7a53a96d9f3",
   "metadata": {},
   "outputs": [
    {
     "data": {
      "text/plain": [
       "'010-9999-1234'"
      ]
     },
     "execution_count": 15,
     "metadata": {},
     "output_type": "execute_result"
    }
   ],
   "source": [
    "#key로 value 얻기 -get\n",
    "a = {'name':'pey', 'phone' : '010-9999-1234', 'birth':'1118'}\n",
    "a.get('name')\n",
    "a.get('phone')\n",
    "\n",
    "# get(x): x라는 key에 대응되는 value 리턴\n",
    "# a.get('name') == a['name']\n",
    "# 그러나 존재하지 않는 키값을 입력했을 때 a['nokey']는 keyerror 발생 / a.get('nokey')는 None 리턴"
   ]
  },
  {
   "cell_type": "code",
   "execution_count": 18,
   "id": "e2092d87-6a4f-45cc-a258-1269c257a474",
   "metadata": {},
   "outputs": [
    {
     "name": "stdout",
     "output_type": "stream",
     "text": [
      "None\n"
     ]
    }
   ],
   "source": [
    "a = {'name':'pey', 'phone' : '010-9999-1234', 'birth':'1118'}\n",
    "print(a.get('nokey'))"
   ]
  },
  {
   "cell_type": "code",
   "execution_count": 20,
   "id": "9492293c-12e2-4c22-ba32-aec03aaab955",
   "metadata": {},
   "outputs": [],
   "source": [
    "a = {'name':'pey', 'phone' : '010-9999-1234', 'birth':'1118'}\n",
    "# print(a['nokey'])"
   ]
  },
  {
   "cell_type": "code",
   "execution_count": 22,
   "id": "3f505ef1-4c5c-4715-b403-0a0eb8042f41",
   "metadata": {},
   "outputs": [
    {
     "data": {
      "text/plain": [
       "'foo'"
      ]
     },
     "execution_count": 22,
     "metadata": {},
     "output_type": "execute_result"
    }
   ],
   "source": [
    "a.get('nokey', 'foo')\n",
    "\n",
    "# 딕셔너리 a에는 'nokey'에 해당하는 키가 없으므로 디폴트값인 'foo' 리턴"
   ]
  },
  {
   "cell_type": "code",
   "execution_count": 24,
   "id": "faa47534-4f70-42a3-b1a1-8e885f4f1146",
   "metadata": {},
   "outputs": [
    {
     "data": {
      "text/plain": [
       "False"
      ]
     },
     "execution_count": 24,
     "metadata": {},
     "output_type": "execute_result"
    }
   ],
   "source": [
    "# 해당 key가 딕셔너리 안에 있는지 조사하기 -in\n",
    "a = {'name':'pey', 'phone' : '010-9999-1234', 'birth':'1118'}\n",
    "'name' in a\n",
    "# >>> True\n",
    "\n",
    "'email' in a"
   ]
  },
  {
   "cell_type": "markdown",
   "id": "ac73262a-0763-472f-b885-bcdaa90139f4",
   "metadata": {},
   "source": [
    "## 02-6 집합 자료형"
   ]
  },
  {
   "cell_type": "markdown",
   "id": "7fe7445d-42cd-47e2-a0d2-ed23a56844a0",
   "metadata": {},
   "source": [
    "### 집합 자료형은 어떻게 만들까?\n",
    "- set 키워드 사용\n",
    "- set\n",
    "  + 중복 허용 x\n",
    "  + 순서 x"
   ]
  },
  {
   "cell_type": "code",
   "execution_count": 25,
   "id": "c8c4fdb1-7884-49aa-898c-ba03f65be976",
   "metadata": {},
   "outputs": [
    {
     "data": {
      "text/plain": [
       "{1, 2, 3}"
      ]
     },
     "execution_count": 25,
     "metadata": {},
     "output_type": "execute_result"
    }
   ],
   "source": [
    "s1 = set([1, 2, 3])\n",
    "s1"
   ]
  },
  {
   "cell_type": "code",
   "execution_count": 33,
   "id": "86cb9c87-b340-4a04-8a80-e85754ae0a91",
   "metadata": {},
   "outputs": [
    {
     "data": {
      "text/plain": [
       "{'H', 'e', 'l', 'o'}"
      ]
     },
     "execution_count": 33,
     "metadata": {},
     "output_type": "execute_result"
    }
   ],
   "source": [
    "s2 = set(\"Hello\")\n",
    "s2"
   ]
  },
  {
   "cell_type": "code",
   "execution_count": 37,
   "id": "be174e82-983d-4173-a717-aa1de8367d1b",
   "metadata": {},
   "outputs": [
    {
     "name": "stdout",
     "output_type": "stream",
     "text": [
      "[1, 2, 3]\n",
      "1\n",
      "(1, 2, 3)\n",
      "1\n"
     ]
    }
   ],
   "source": [
    "# 집합 자료형의 특징\n",
    "s1 = set([1, 2, 3])\n",
    "l1 = list(s1)\n",
    "print(l1)\n",
    "\n",
    "print(l1[0])\n",
    "\n",
    "t1 = tuple(s1)\n",
    "print(t1)\n",
    "\n",
    "print(t1[0])"
   ]
  },
  {
   "cell_type": "markdown",
   "id": "fc4c6813-848e-49ca-96e5-30aa7f321240",
   "metadata": {},
   "source": [
    "### 교집합, 합집합, 차집합 구하기 \n",
    "- set이 가장 유용하게 쓰이는 방법"
   ]
  },
  {
   "cell_type": "code",
   "execution_count": 38,
   "id": "20a9de0f-be64-4647-a12e-5225ed29eade",
   "metadata": {},
   "outputs": [
    {
     "data": {
      "text/plain": [
       "{4, 5, 6}"
      ]
     },
     "execution_count": 38,
     "metadata": {},
     "output_type": "execute_result"
    }
   ],
   "source": [
    "# 교집합 구하기\n",
    "s1 = set([1, 2, 3, 4, 5, 6])\n",
    "s2 = set([4, 5, 6, 7, 8, 9])\n",
    "s1 & s2"
   ]
  },
  {
   "cell_type": "code",
   "execution_count": 40,
   "id": "3e7fe26c-e76e-4cbf-b9b5-1507e3a174db",
   "metadata": {},
   "outputs": [
    {
     "data": {
      "text/plain": [
       "{4, 5, 6}"
      ]
     },
     "execution_count": 40,
     "metadata": {},
     "output_type": "execute_result"
    }
   ],
   "source": [
    "s1.intersection(s2)\n",
    "\n",
    "# 동일 결과값 출력"
   ]
  },
  {
   "cell_type": "code",
   "execution_count": 41,
   "id": "9fddbac4-5e20-4dd4-8289-72cce361c0fa",
   "metadata": {},
   "outputs": [
    {
     "data": {
      "text/plain": [
       "{1, 2, 3, 4, 5, 6, 7, 8, 9}"
      ]
     },
     "execution_count": 41,
     "metadata": {},
     "output_type": "execute_result"
    }
   ],
   "source": [
    "# 합집합 구하기\n",
    "s1 | s2"
   ]
  },
  {
   "cell_type": "code",
   "execution_count": 43,
   "id": "2e31c210-1d2b-4df4-839b-fc8d5e0ccc92",
   "metadata": {},
   "outputs": [
    {
     "data": {
      "text/plain": [
       "{1, 2, 3, 4, 5, 6, 7, 8, 9}"
      ]
     },
     "execution_count": 43,
     "metadata": {},
     "output_type": "execute_result"
    }
   ],
   "source": [
    "s1.union(s2)\n",
    "\n",
    "# 동일 결과 출력"
   ]
  },
  {
   "cell_type": "code",
   "execution_count": 44,
   "id": "d82c0951-4da9-4d97-b411-01facd1ca690",
   "metadata": {},
   "outputs": [
    {
     "data": {
      "text/plain": [
       "{1, 2, 3}"
      ]
     },
     "execution_count": 44,
     "metadata": {},
     "output_type": "execute_result"
    }
   ],
   "source": [
    "# 차집합 구하기\n",
    "s1 -s2"
   ]
  },
  {
   "cell_type": "code",
   "execution_count": 48,
   "id": "01da9610-df2b-40fb-8240-7670f3808c58",
   "metadata": {},
   "outputs": [
    {
     "data": {
      "text/plain": [
       "{1, 2, 3}"
      ]
     },
     "execution_count": 48,
     "metadata": {},
     "output_type": "execute_result"
    }
   ],
   "source": [
    "s1.difference(s2)\n",
    "\n",
    "# 동일 결과 출력"
   ]
  },
  {
   "cell_type": "markdown",
   "id": "071a8e8d-68e1-468c-a5d9-b88af4ba7895",
   "metadata": {},
   "source": [
    "### 집합 자료형 관련 함수"
   ]
  },
  {
   "cell_type": "code",
   "execution_count": 50,
   "id": "724b5e0d-8fbd-4f1b-8da7-0bc1ef4aac31",
   "metadata": {},
   "outputs": [
    {
     "data": {
      "text/plain": [
       "{1, 2, 3, 4}"
      ]
     },
     "execution_count": 50,
     "metadata": {},
     "output_type": "execute_result"
    }
   ],
   "source": [
    "# 값 1개 추가하기 - add\n",
    "s1 = set([1, 2, 3])\n",
    "s1.add(4)\n",
    "s1"
   ]
  },
  {
   "cell_type": "code",
   "execution_count": 51,
   "id": "6f71cd05-3a9b-41e8-af88-da19900027dd",
   "metadata": {},
   "outputs": [
    {
     "data": {
      "text/plain": [
       "{1, 2, 3, 4, 5, 6}"
      ]
     },
     "execution_count": 51,
     "metadata": {},
     "output_type": "execute_result"
    }
   ],
   "source": [
    "# 값 여러개 추가하기 -update\n",
    "s1 = set([1, 2, 3])\n",
    "s1.update([4, 5, 6])\n",
    "s1"
   ]
  },
  {
   "cell_type": "code",
   "execution_count": 53,
   "id": "58edbeb8-1de6-4a5e-b0cf-c394b3a45593",
   "metadata": {},
   "outputs": [
    {
     "data": {
      "text/plain": [
       "{1, 3}"
      ]
     },
     "execution_count": 53,
     "metadata": {},
     "output_type": "execute_result"
    }
   ],
   "source": [
    "# 특정 값 제거하기 - remove\n",
    "s1 = set([1, 2, 3])\n",
    "s1.remove(2)\n",
    "s1"
   ]
  },
  {
   "cell_type": "markdown",
   "id": "f5ea8493-232f-4a0f-95d5-3b51d65182a9",
   "metadata": {},
   "source": [
    "## 02-7 불 자료형\n",
    "- 불(bool) = 참(True)과 거짓(False)를 나타내는 자료형"
   ]
  },
  {
   "cell_type": "markdown",
   "id": "a0bdb677-fb39-4028-823e-6d66d8cf1470",
   "metadata": {},
   "source": [
    "### 불자료형은 어떻게 사용할까?"
   ]
  },
  {
   "cell_type": "code",
   "execution_count": 54,
   "id": "66d23ed7-1ea2-4204-a557-5e7905ccdf3a",
   "metadata": {},
   "outputs": [
    {
     "data": {
      "text/plain": [
       "bool"
      ]
     },
     "execution_count": 54,
     "metadata": {},
     "output_type": "execute_result"
    }
   ],
   "source": [
    "a = True\n",
    "b = False\n",
    "type(a)"
   ]
  },
  {
   "cell_type": "code",
   "execution_count": 55,
   "id": "265dd092-3cf4-442e-9303-bc4e69fb5e73",
   "metadata": {},
   "outputs": [
    {
     "data": {
      "text/plain": [
       "True"
      ]
     },
     "execution_count": 55,
     "metadata": {},
     "output_type": "execute_result"
    }
   ],
   "source": [
    "1 == 1"
   ]
  },
  {
   "cell_type": "code",
   "execution_count": 56,
   "id": "592d31cb-a12f-4dcf-a2b4-691e4c66ad4d",
   "metadata": {},
   "outputs": [
    {
     "data": {
      "text/plain": [
       "True"
      ]
     },
     "execution_count": 56,
     "metadata": {},
     "output_type": "execute_result"
    }
   ],
   "source": [
    "2 > 1"
   ]
  },
  {
   "cell_type": "code",
   "execution_count": 57,
   "id": "428a4968-bb00-4ee0-bd9d-a2978ff92c9b",
   "metadata": {},
   "outputs": [
    {
     "data": {
      "text/plain": [
       "False"
      ]
     },
     "execution_count": 57,
     "metadata": {},
     "output_type": "execute_result"
    }
   ],
   "source": [
    "2 < 1"
   ]
  },
  {
   "cell_type": "markdown",
   "id": "55a30096-ab46-4c11-994a-0124bc2cda93",
   "metadata": {},
   "source": [
    "### 자료형의 참과 거짓\n",
    "- \"python\": 참\n",
    "- \"\": 거짓\n",
    "- [1,2,3]: 참\n",
    "- []: 거짓\n",
    "- (1,2,3): 참\n",
    "- (): 거짓\n",
    "- {'a':1}: 참\n",
    "- {}: 거짓\n",
    "- 1: 참\n",
    "- 0: 거짓\n",
    "- None: 거짓"
   ]
  },
  {
   "cell_type": "code",
   "execution_count": 60,
   "id": "1484fd72-2677-4c17-b031-5ee658baf9e1",
   "metadata": {},
   "outputs": [
    {
     "name": "stdout",
     "output_type": "stream",
     "text": [
      "4\n",
      "3\n",
      "2\n",
      "1\n"
     ]
    }
   ],
   "source": [
    "a = [1,2,3,4]\n",
    "while a: #a가 참인 동안\n",
    "    print(a.pop()) # 리스트의 마지막 요소를 하나씩 꺼냄\n",
    "\n",
    "# a가 참인 동안 a.pop() 계속 실행. a리스트가 []가 되면 거짓이 되므로 종료"
   ]
  },
  {
   "cell_type": "code",
   "execution_count": 61,
   "id": "5af7dc1b-a7ef-4353-a495-e4370832fe77",
   "metadata": {},
   "outputs": [
    {
     "name": "stdout",
     "output_type": "stream",
     "text": [
      "거짓\n"
     ]
    }
   ],
   "source": [
    "if []:\n",
    "    print(\"참\")\n",
    "else:\n",
    "    print(\"거짓\")"
   ]
  },
  {
   "cell_type": "code",
   "execution_count": 62,
   "id": "20730a31-3a7e-4f34-8f69-4315382cbb92",
   "metadata": {},
   "outputs": [
    {
     "name": "stdout",
     "output_type": "stream",
     "text": [
      "참\n"
     ]
    }
   ],
   "source": [
    "if [1,2,3]:\n",
    "    print(\"참\")\n",
    "else:\n",
    "    print(\"거짓\")"
   ]
  },
  {
   "cell_type": "markdown",
   "id": "1a7807cb-3cee-404e-8846-0af0ac650e56",
   "metadata": {},
   "source": [
    "### 불 연산\n",
    "- bool 함수를 사용하면 자료형의 참과 거짓을 보다 정확하게 식별 가능"
   ]
  },
  {
   "cell_type": "code",
   "execution_count": 63,
   "id": "c5e63175-75f7-4186-abbf-20adc3f7f300",
   "metadata": {},
   "outputs": [
    {
     "data": {
      "text/plain": [
       "True"
      ]
     },
     "execution_count": 63,
     "metadata": {},
     "output_type": "execute_result"
    }
   ],
   "source": [
    "bool('python')"
   ]
  },
  {
   "cell_type": "code",
   "execution_count": 64,
   "id": "04a7274d-ed64-468f-8c9b-118d9d9987a1",
   "metadata": {},
   "outputs": [
    {
     "data": {
      "text/plain": [
       "False"
      ]
     },
     "execution_count": 64,
     "metadata": {},
     "output_type": "execute_result"
    }
   ],
   "source": [
    "bool('')"
   ]
  },
  {
   "cell_type": "code",
   "execution_count": 65,
   "id": "cfaf9ea9-4bc2-49b4-9f7d-f24b095e8da5",
   "metadata": {},
   "outputs": [
    {
     "data": {
      "text/plain": [
       "False"
      ]
     },
     "execution_count": 65,
     "metadata": {},
     "output_type": "execute_result"
    }
   ],
   "source": [
    "bool(0)"
   ]
  },
  {
   "cell_type": "code",
   "execution_count": 66,
   "id": "2e20dd22-7d4f-4d43-b877-f65a43a036e1",
   "metadata": {},
   "outputs": [
    {
     "data": {
      "text/plain": [
       "True"
      ]
     },
     "execution_count": 66,
     "metadata": {},
     "output_type": "execute_result"
    }
   ],
   "source": [
    "bool([1,2,3])\n",
    "bool(3)"
   ]
  },
  {
   "cell_type": "markdown",
   "id": "2638e418-d1cc-4c2c-bafa-d301016cf695",
   "metadata": {},
   "source": [
    "## 02-8 자료형의 값을 저장하는 공간, 변수"
   ]
  },
  {
   "cell_type": "markdown",
   "id": "05e13414-84a0-4b5b-82f1-4ea46f4eb90b",
   "metadata": {},
   "source": [
    "### 변수는 어떻게 만들까?\n",
    "- 변수 이름 = 변수에 저장할 값"
   ]
  },
  {
   "cell_type": "code",
   "execution_count": 68,
   "id": "6c2577ed-4a43-4865-854e-05f5d4fb44cf",
   "metadata": {},
   "outputs": [],
   "source": [
    "a = 1\n",
    "b = \"python\"\n",
    "c = [1,2,3]"
   ]
  },
  {
   "cell_type": "markdown",
   "id": "6d420b56-7de1-44a3-a671-77831533d3c7",
   "metadata": {},
   "source": [
    "### 변수란?\n",
    "- 객체를 가리키는 것\n",
    "- 객체: 자료형의 데이터(값)와 같은 것을 의미"
   ]
  },
  {
   "cell_type": "code",
   "execution_count": 70,
   "id": "190a938e-fcfd-4969-9582-b83e3a3f323b",
   "metadata": {},
   "outputs": [
    {
     "data": {
      "text/plain": [
       "1753196686400"
      ]
     },
     "execution_count": 70,
     "metadata": {},
     "output_type": "execute_result"
    }
   ],
   "source": [
    "a = [1,2,3]\n",
    "id(a)\n",
    "\n",
    "#id는 변수가 가리키고 있는 객체의 주소값을 리턴하는 파이썬 내장함수"
   ]
  },
  {
   "cell_type": "markdown",
   "id": "01f72a96-4139-46f1-ad02-a53d701f9407",
   "metadata": {},
   "source": [
    "### 리스트를 복사하고자 할 때"
   ]
  },
  {
   "cell_type": "code",
   "execution_count": 72,
   "id": "fa9086cd-cdc6-4b20-baac-0e7d37934813",
   "metadata": {},
   "outputs": [
    {
     "data": {
      "text/plain": [
       "1753196968320"
      ]
     },
     "execution_count": 72,
     "metadata": {},
     "output_type": "execute_result"
    }
   ],
   "source": [
    "a = [1,2,3]\n",
    "b = a\n",
    "\n",
    "id(a)\n",
    "id(b)\n",
    "\n",
    "# b와 a는 완전히 동일. 리스트 객체를 참조하는 변수가 1개에서 2개로 늘어난 것"
   ]
  },
  {
   "cell_type": "code",
   "execution_count": 73,
   "id": "32216f92-cdb7-4528-a704-15ea36196f6f",
   "metadata": {},
   "outputs": [
    {
     "data": {
      "text/plain": [
       "True"
      ]
     },
     "execution_count": 73,
     "metadata": {},
     "output_type": "execute_result"
    }
   ],
   "source": [
    "a is b"
   ]
  },
  {
   "cell_type": "code",
   "execution_count": 75,
   "id": "7a8a8a1e-7e61-4b00-ac45-e71da2603d39",
   "metadata": {},
   "outputs": [
    {
     "name": "stdout",
     "output_type": "stream",
     "text": [
      "[1, 4, 3]\n",
      "[1, 4, 3]\n"
     ]
    }
   ],
   "source": [
    "a[1] = 4\n",
    "print(a)\n",
    "print(b)"
   ]
  },
  {
   "cell_type": "code",
   "execution_count": 78,
   "id": "6fba12f5-9503-4730-b752-112de81b8aa2",
   "metadata": {},
   "outputs": [
    {
     "name": "stdout",
     "output_type": "stream",
     "text": [
      "[1, 4, 3]\n",
      "[1, 2, 3]\n"
     ]
    }
   ],
   "source": [
    "# 1. [:] 이용하기\n",
    "a = [1,2,3]\n",
    "b = a[:]\n",
    "a[1] = 4\n",
    "print(a)\n",
    "print(b)"
   ]
  },
  {
   "cell_type": "code",
   "execution_count": 82,
   "id": "4eb827e6-6794-4625-ba8d-15b67cf75208",
   "metadata": {},
   "outputs": [
    {
     "data": {
      "text/plain": [
       "False"
      ]
     },
     "execution_count": 82,
     "metadata": {},
     "output_type": "execute_result"
    }
   ],
   "source": [
    "# copy 모듈 이용하기\n",
    "from copy import copy # copy 모듈에 있는 copy 함수 import\n",
    "a = [1,2,3]\n",
    "b = copy(a)\n",
    "b is a"
   ]
  },
  {
   "cell_type": "code",
   "execution_count": 83,
   "id": "065b0d83-3886-450b-8362-d7f323d0b6e0",
   "metadata": {},
   "outputs": [
    {
     "data": {
      "text/plain": [
       "False"
      ]
     },
     "execution_count": 83,
     "metadata": {},
     "output_type": "execute_result"
    }
   ],
   "source": [
    "# copy 함수 사용하기\n",
    "a = [1,2,3]\n",
    "b= a.copy()\n",
    "b is a"
   ]
  },
  {
   "cell_type": "code",
   "execution_count": 85,
   "id": "e23c05d7-61ed-4931-9d93-e35f36f7e29a",
   "metadata": {},
   "outputs": [],
   "source": [
    "### 변수를 만드는 여러가지 방법\n",
    "a, b = ('python', 'life')\n",
    "(a,b) = 'python', 'life'"
   ]
  },
  {
   "cell_type": "code",
   "execution_count": 86,
   "id": "a67828cd-4d16-4847-be1d-912805c8d0b6",
   "metadata": {},
   "outputs": [],
   "source": [
    "[a,b] = ['python', 'life']"
   ]
  },
  {
   "cell_type": "code",
   "execution_count": 87,
   "id": "a67117b5-1bf0-468a-8557-eed3d859bc2d",
   "metadata": {},
   "outputs": [],
   "source": [
    "a = b = 'python'"
   ]
  },
  {
   "cell_type": "code",
   "execution_count": 88,
   "id": "4b239097-3391-4c9c-ac43-3d987c46e4b6",
   "metadata": {},
   "outputs": [
    {
     "name": "stdout",
     "output_type": "stream",
     "text": [
      "5\n",
      "3\n"
     ]
    }
   ],
   "source": [
    "a = 3\n",
    "b = 5\n",
    "a, b = b, a #a와 b의 값을 바꿈\n",
    "print(a)\n",
    "print(b)"
   ]
  }
 ],
 "metadata": {
  "kernelspec": {
   "display_name": "Python 3 (ipykernel)",
   "language": "python",
   "name": "python3"
  },
  "language_info": {
   "codemirror_mode": {
    "name": "ipython",
    "version": 3
   },
   "file_extension": ".py",
   "mimetype": "text/x-python",
   "name": "python",
   "nbconvert_exporter": "python",
   "pygments_lexer": "ipython3",
   "version": "3.13.2"
  }
 },
 "nbformat": 4,
 "nbformat_minor": 5
}
