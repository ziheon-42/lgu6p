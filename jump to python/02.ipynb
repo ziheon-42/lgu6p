{
 "cells": [
  {
   "cell_type": "markdown",
   "id": "99e2727a-0d2c-4a7c-a4f0-ceb341f1680f",
   "metadata": {},
   "source": [
    "# 02장"
   ]
  },
  {
   "cell_type": "markdown",
   "id": "b4f59b4b-a295-4b48-9937-4f725a4a07f9",
   "metadata": {},
   "source": [
    "## 02-1 숫자형\n",
    "- 숫자형이란 숫자로 이루어진 자료형\n",
    "- 정수 : 1, 2, 3...\n",
    "- 실수 : 12.34...\n",
    "- 8진수, 16진수 ..."
   ]
  },
  {
   "cell_type": "markdown",
   "id": "538bc469-027e-48ed-883c-cb9bdb1b4244",
   "metadata": {},
   "source": [
    "### 숫자형은 어떻게 만들고 사용할까?"
   ]
  },
  {
   "cell_type": "code",
   "execution_count": 150,
   "id": "20ad98e4-1b7b-41e4-8af3-8fab75cb5f4a",
   "metadata": {},
   "outputs": [],
   "source": [
    "# 정수형\n",
    ">>> a = 123\n",
    ">>> a = -178\n",
    ">>> a = 0"
   ]
  },
  {
   "cell_type": "code",
   "execution_count": 151,
   "id": "ebb7c1f3-a123-494e-845d-0ba0ff66eb06",
   "metadata": {},
   "outputs": [],
   "source": [
    "#실수형\n",
    ">>> a = 1.2\n",
    ">>> a = -3.45"
   ]
  },
  {
   "cell_type": "code",
   "execution_count": 152,
   "id": "4d9f7995-5f35-4368-a374-ed5686006330",
   "metadata": {},
   "outputs": [
    {
     "name": "stdout",
     "output_type": "stream",
     "text": [
      "127\n"
     ]
    }
   ],
   "source": [
    "#8진수\n",
    "#8진수를 만들기 위해서는 숫자 0o 또는 0O으로 시작\n",
    "a = 0o177\n",
    "print(a)"
   ]
  },
  {
   "cell_type": "code",
   "execution_count": 153,
   "id": "63d3e6c2-2be3-44e0-b536-e5b22fe0dfd9",
   "metadata": {},
   "outputs": [
    {
     "name": "stdout",
     "output_type": "stream",
     "text": [
      "2748\n"
     ]
    }
   ],
   "source": [
    "#16진수_0x로 시작\n",
    ">>> a = 0x8ff\n",
    ">>> b = 0xABC\n",
    "print(b)"
   ]
  },
  {
   "cell_type": "markdown",
   "id": "ce88c1d5-3691-430c-b3d6-5f7d34c87c27",
   "metadata": {},
   "source": [
    "### 숫자형을 활용하기 위한 연산자"
   ]
  },
  {
   "cell_type": "code",
   "execution_count": 154,
   "id": "06d23904-4d26-463b-b65d-318e80111bca",
   "metadata": {},
   "outputs": [
    {
     "data": {
      "text/plain": [
       "0.75"
      ]
     },
     "execution_count": 154,
     "metadata": {},
     "output_type": "execute_result"
    }
   ],
   "source": [
    "# 사칙연산\n",
    "a = 3\n",
    "b = 4\n",
    "\n",
    "a + b\n",
    "a - b\n",
    "a * b\n",
    "a / b"
   ]
  },
  {
   "cell_type": "code",
   "execution_count": 155,
   "id": "5e670cf4-ba9a-410e-9a24-b94d00433373",
   "metadata": {},
   "outputs": [
    {
     "data": {
      "text/plain": [
       "81"
      ]
     },
     "execution_count": 155,
     "metadata": {},
     "output_type": "execute_result"
    }
   ],
   "source": [
    "# x의 y 제곱을 나타내는 ** 연산자\n",
    "a = 3\n",
    "b = 4\n",
    "a**b"
   ]
  },
  {
   "cell_type": "code",
   "execution_count": 156,
   "id": "2b13d856-f183-4013-a11e-cee2e3ff94b5",
   "metadata": {},
   "outputs": [
    {
     "data": {
      "text/plain": [
       "1"
      ]
     },
     "execution_count": 156,
     "metadata": {},
     "output_type": "execute_result"
    }
   ],
   "source": [
    "# 나눗셈 후 나머지 리턴하는 % 연산자\n",
    ">>> 7 % 3\n"
   ]
  },
  {
   "cell_type": "code",
   "execution_count": 157,
   "id": "63824673-16e2-4197-bcb5-ec57b0d41439",
   "metadata": {},
   "outputs": [
    {
     "data": {
      "text/plain": [
       "1.75"
      ]
     },
     "execution_count": 157,
     "metadata": {},
     "output_type": "execute_result"
    }
   ],
   "source": [
    "# 나눗셈 후 몫을 리턴하는 // 연산자\n",
    ">>> 7 / 4"
   ]
  },
  {
   "cell_type": "markdown",
   "id": "20f865c4-cc60-458f-814f-9ac2f6f50adc",
   "metadata": {},
   "source": [
    "## 02-2 문자열 자료형\n",
    "- 문자열이란 문자, 단어 등으로 구성된 문자들의 집합\n",
    "- ex) \"life is too, short\" , \"a\" , \"123\""
   ]
  },
  {
   "cell_type": "markdown",
   "id": "0798d69f-6062-4364-8835-1d7ff833b0eb",
   "metadata": {},
   "source": [
    "### 문자열은 어떻게 만들고 사용할까?\n",
    "- 큰 따옴표로 양쪽 둘러싸기 \"\"\n",
    "- 작은 따옴표로 양쪽 둘러싸기 ''\n",
    "- 큰 따옴표 3개 연속으로 써서 양쪽 둘러싸기 \"\"\" \"\"\"\n",
    "- 작은 따옴표 3개 연속으로 써서 양쪽 둘러싸기 ''' '''"
   ]
  },
  {
   "cell_type": "markdown",
   "id": "2d502dc9-8d3d-4c58-952b-b8d228c2842e",
   "metadata": {},
   "source": [
    "### 문자열 안에 작은 따옴표나 큰 따옴표를 포함시키고 싶을 때"
   ]
  },
  {
   "cell_type": "code",
   "execution_count": 158,
   "id": "24f0215b-c38a-4878-bcae-1faefedb4776",
   "metadata": {},
   "outputs": [
    {
     "data": {
      "text/plain": [
       "\"Python's favorite food is perl\""
      ]
     },
     "execution_count": 158,
     "metadata": {},
     "output_type": "execute_result"
    }
   ],
   "source": [
    "# 문자열에 작은 따옴표 포함하기\n",
    "food = \"Python's favorite food is perl\"\n",
    "food"
   ]
  },
  {
   "cell_type": "code",
   "execution_count": 159,
   "id": "91bdd639-01c1-4f2d-9c54-a9228f697444",
   "metadata": {},
   "outputs": [
    {
     "data": {
      "text/plain": [
       "'\"Python is very easy.\" he says.'"
      ]
     },
     "execution_count": 159,
     "metadata": {},
     "output_type": "execute_result"
    }
   ],
   "source": [
    "# 문자열에 큰 따옴표 포함하기\n",
    "say = '\"Python is very easy.\" he says.'\n",
    "say"
   ]
  },
  {
   "cell_type": "code",
   "execution_count": 160,
   "id": "09a304e7-8c7c-47a9-82c7-8b0a5192b94e",
   "metadata": {},
   "outputs": [
    {
     "data": {
      "text/plain": [
       "'\"Python is very easy.\" he says.'"
      ]
     },
     "execution_count": 160,
     "metadata": {},
     "output_type": "execute_result"
    }
   ],
   "source": [
    "# 역슬래시를 이용해서 작은 따옴표와 큰 따옴표를 문자열에 포함하기\n",
    "food = 'Python\\'s favorite food is perl'\n",
    "say = \"\\\"Python is very easy.\\\" he says.\"\n",
    "food\n",
    "say"
   ]
  },
  {
   "cell_type": "markdown",
   "id": "6fc495de-9902-4190-8714-b03bdda66692",
   "metadata": {},
   "source": [
    "### 여러 줄인 문자열을 변수에 대입하고 싶을 때"
   ]
  },
  {
   "cell_type": "code",
   "execution_count": 161,
   "id": "24033177-e40c-4574-a61c-a2ce6746ec2d",
   "metadata": {},
   "outputs": [
    {
     "name": "stdout",
     "output_type": "stream",
     "text": [
      "Life is too shrot\n",
      "You need python\n"
     ]
    }
   ],
   "source": [
    "# 줄을 바꾸기 위한 이스케이프 코드 \\n 삽입\n",
    "multiline = \"Life is too shrot\\nYou need python\"\n",
    "print(multiline)\n",
    "#\\n은 띄어쓰기 x"
   ]
  },
  {
   "cell_type": "code",
   "execution_count": 162,
   "id": "5f9f1ff4-fda7-4a19-846d-c4465e47958b",
   "metadata": {},
   "outputs": [
    {
     "name": "stdout",
     "output_type": "stream",
     "text": [
      "life is too short\n",
      "you need python\n"
     ]
    }
   ],
   "source": [
    "# 연속된 작은 따옴표 3개 도는 큰 따옴표 3개 사용\n",
    "multiline = \"\"\"life is too short\n",
    "you need python\"\"\"\n",
    "print(multiline)"
   ]
  },
  {
   "cell_type": "markdown",
   "id": "7b71f761-63de-4540-bda0-7bb000866137",
   "metadata": {},
   "source": [
    "### 문자열 연산하기\n",
    "- 파이썬은 문자열을 더하거나 곱할 수 있음"
   ]
  },
  {
   "cell_type": "code",
   "execution_count": 163,
   "id": "dadee926-4bc1-47fb-956a-d4ffae7c8ef3",
   "metadata": {},
   "outputs": [
    {
     "data": {
      "text/plain": [
       "'pythonis fun!'"
      ]
     },
     "execution_count": 163,
     "metadata": {},
     "output_type": "execute_result"
    }
   ],
   "source": [
    "# 문자열 더해서 만들기\n",
    "head = \"python\"\n",
    "tail = \"is fun!\"\n",
    "\n",
    "head + tail"
   ]
  },
  {
   "cell_type": "code",
   "execution_count": 164,
   "id": "29bdcd9a-7334-415c-a5d9-970a37de641c",
   "metadata": {},
   "outputs": [
    {
     "data": {
      "text/plain": [
       "'pythonpython'"
      ]
     },
     "execution_count": 164,
     "metadata": {},
     "output_type": "execute_result"
    }
   ],
   "source": [
    "# 문자열 곱하기\n",
    "a = \"python\"\n",
    "a * 2"
   ]
  },
  {
   "cell_type": "code",
   "execution_count": 165,
   "id": "f5975c11-6bd8-43bc-9d01-736d3a01d7e4",
   "metadata": {},
   "outputs": [
    {
     "name": "stdout",
     "output_type": "stream",
     "text": [
      "--------------------------------------------------\n",
      "my program\n",
      "--------------------------------------------------\n"
     ]
    }
   ],
   "source": [
    "# 문자열 곱하기를 응용하기\n",
    "print(\"-\" * 50)\n",
    "print(\"my program\")\n",
    "print(\"-\" *50)"
   ]
  },
  {
   "cell_type": "code",
   "execution_count": 166,
   "id": "9e2befcc-3eef-46e3-ad6a-3f1b9d54949d",
   "metadata": {},
   "outputs": [
    {
     "data": {
      "text/plain": [
       "17"
      ]
     },
     "execution_count": 166,
     "metadata": {},
     "output_type": "execute_result"
    }
   ],
   "source": [
    "# 문자열 길이 구하기\n",
    "a = \"life is too short\"\n",
    "len(a)"
   ]
  },
  {
   "cell_type": "markdown",
   "id": "f56c1cd9-9ef3-47bb-8389-df01a4578a82",
   "metadata": {},
   "source": [
    "### 문자열 인덱싱과 슬라이싱\n",
    "- 파이썬은 0부터 숫자를 센다\n",
    "- '-'는 뒤에서 부터 숫자를 센다\n",
    "- 슬라이싱은 [시작번호: 끝번호]를 지정할 때 끝 번호에 지정되는 문자는 포함하지 않음"
   ]
  },
  {
   "cell_type": "code",
   "execution_count": 167,
   "id": "65d5679c-9517-48b6-9c1c-98f296db9865",
   "metadata": {},
   "outputs": [
    {
     "data": {
      "text/plain": [
       "'e'"
      ]
     },
     "execution_count": 167,
     "metadata": {},
     "output_type": "execute_result"
    }
   ],
   "source": [
    "# 문자열 인덱싱\n",
    "a = \"life is too short, you need python\"\n",
    "a[3]"
   ]
  },
  {
   "cell_type": "code",
   "execution_count": 168,
   "id": "a7b6abb2-b0bb-44db-8e0e-50194000e67b",
   "metadata": {},
   "outputs": [
    {
     "name": "stdout",
     "output_type": "stream",
     "text": [
      "l\n",
      "s\n",
      "n\n"
     ]
    }
   ],
   "source": [
    "# 문자열 인덱싱 활용하기\n",
    "a = \"life is too short, you need python\"\n",
    "print(a[0])\n",
    "print(a[12])\n",
    "print(a[-1])\n"
   ]
  },
  {
   "cell_type": "code",
   "execution_count": 169,
   "id": "248f139f-ec3c-4f18-aab7-f781ee2d7327",
   "metadata": {},
   "outputs": [
    {
     "name": "stdout",
     "output_type": "stream",
     "text": [
      "Life\n",
      "Life\n"
     ]
    }
   ],
   "source": [
    "# 문자열 슬라이싱\n",
    "a = \"Life is too short, You need Python\"\n",
    "b = a[0] + a[1] + a[2] + a[3]\n",
    "print(b)\n",
    "print(a[0:4])\n"
   ]
  },
  {
   "cell_type": "code",
   "execution_count": 170,
   "id": "118e14cd-df4e-4fed-8afb-9ea59dd46293",
   "metadata": {},
   "outputs": [
    {
     "name": "stdout",
     "output_type": "stream",
     "text": [
      "20230331\n",
      "rainy\n"
     ]
    }
   ],
   "source": [
    "#슬라이싱으로 문자열 나누기\n",
    "a = '20230331rainy'\n",
    "date = a[:8]\n",
    "print(date)\n",
    "weather = a[8:]\n",
    "print(weather)"
   ]
  },
  {
   "cell_type": "code",
   "execution_count": 171,
   "id": "5835c60d-974f-4e23-ae0b-963ba728e704",
   "metadata": {},
   "outputs": [
    {
     "data": {
      "text/plain": [
       "'Python'"
      ]
     },
     "execution_count": 171,
     "metadata": {},
     "output_type": "execute_result"
    }
   ],
   "source": [
    "# 문자열 바꾸기\n",
    "a = \"Pithon\"\n",
    "a[1]\n",
    "#a[1] = 'y'는 가능하지 않음. 문자열은 변경 불가능한 자료형\n",
    "a[:1] + 'y' + a[2:]"
   ]
  },
  {
   "cell_type": "markdown",
   "id": "d43c3366-dac1-4f1f-8480-ec88a6b4394c",
   "metadata": {},
   "source": [
    "### 문자열 포매팅\n",
    "- 문자열 안의 특정한 값을 바꿔야 할 때 사용\n",
    "- 문자열 안에 어떤 값을 삽입"
   ]
  },
  {
   "cell_type": "markdown",
   "id": "b9847ab1-99fa-45e4-b6cb-c42a31db04af",
   "metadata": {},
   "source": [
    "### 문자열 포매팅 따라하기\n",
    "- 문자열 포맷 코드\n",
    "  + 문자열 안에 숫자를 넣고 싶을 때: %d + 숫자\n",
    "    - 숫자 값을 나타내는 변수 대입해서도 가능\n",
    "  + 문자열 안에 문자를 넣고 싶을 때: %s + \"문자\""
   ]
  },
  {
   "cell_type": "code",
   "execution_count": 172,
   "id": "53e456e4-341c-4928-8762-b4dce9885e65",
   "metadata": {},
   "outputs": [
    {
     "data": {
      "text/plain": [
       "' I eat 3 apples.'"
      ]
     },
     "execution_count": 172,
     "metadata": {},
     "output_type": "execute_result"
    }
   ],
   "source": [
    "# 숫자 바로 대입\n",
    "\" I eat %d apples.\" %3"
   ]
  },
  {
   "cell_type": "code",
   "execution_count": 173,
   "id": "ef739999-86c5-4e95-abbd-8e5bb853a683",
   "metadata": {},
   "outputs": [
    {
     "data": {
      "text/plain": [
       "'I eat five apples.'"
      ]
     },
     "execution_count": 173,
     "metadata": {},
     "output_type": "execute_result"
    }
   ],
   "source": [
    "# 문자열 바로 대입\n",
    "\"I eat %s apples.\" %\"five\""
   ]
  },
  {
   "cell_type": "code",
   "execution_count": 174,
   "id": "b050d36e-3457-4b8a-98ad-682540be371f",
   "metadata": {},
   "outputs": [
    {
     "data": {
      "text/plain": [
       "'I eat 3 apples.'"
      ]
     },
     "execution_count": 174,
     "metadata": {},
     "output_type": "execute_result"
    }
   ],
   "source": [
    "# 숫자 값을 나타내는 변수로 대입\n",
    "number = 3\n",
    "\"I eat %d apples.\" %number"
   ]
  },
  {
   "cell_type": "code",
   "execution_count": 175,
   "id": "6ddec1f9-e822-4fc6-82bf-40c66456c66e",
   "metadata": {},
   "outputs": [
    {
     "data": {
      "text/plain": [
       "'I ate 10 apples. so I was sic for three days.'"
      ]
     },
     "execution_count": 175,
     "metadata": {},
     "output_type": "execute_result"
    }
   ],
   "source": [
    "# 2개 이상의 값 넣기\n",
    "number = 10\n",
    "day = 'three'\n",
    "\"I ate %d apples. so I was sic for %s days.\" % (number, day)"
   ]
  },
  {
   "cell_type": "markdown",
   "id": "3e925858-df04-440e-b12a-fe68459f30ed",
   "metadata": {},
   "source": [
    "- 문자열 포맷 코드\n",
    "  + %s: 문자열(string)\n",
    "  + %c: 문자 1개(character)\n",
    "  + %d: 정수(integer)\n",
    "  + %f: 부동소수(floating_point)\n",
    "  + %o: 8진수\n",
    "  + %x: 16진수\n",
    "  + %%: Literal%(문자 % 자체)"
   ]
  },
  {
   "cell_type": "code",
   "execution_count": 176,
   "id": "2a8a1dc3-f7db-4a29-9eb5-21555070b42f",
   "metadata": {},
   "outputs": [
    {
     "data": {
      "text/plain": [
       "'Error is 98%.'"
      ]
     },
     "execution_count": 176,
     "metadata": {},
     "output_type": "execute_result"
    }
   ],
   "source": [
    "# 포매티 연산자 %d와 %를 같이 쓸 떄는 %%를 사용\n",
    "\"Error is %d%%.\" %98"
   ]
  },
  {
   "cell_type": "markdown",
   "id": "0ee9a07f-7afc-4814-9ffc-4332b4d0745a",
   "metadata": {},
   "source": [
    "### 포맷 코드와 숫자 함께 사용하기"
   ]
  },
  {
   "cell_type": "code",
   "execution_count": 177,
   "id": "b07575cb-dc4e-4e4f-8f31-c15b566d7f6d",
   "metadata": {},
   "outputs": [
    {
     "data": {
      "text/plain": [
       "'        hi'"
      ]
     },
     "execution_count": 177,
     "metadata": {},
     "output_type": "execute_result"
    }
   ],
   "source": [
    "# 정렬과 공백\n",
    "\"%10s\" % \"hi\"\n",
    "\n",
    "# 전체 길이가 10개인 문자열 공간에 대입되는 값을 오른쪽으로 정렬하고 나머지는 공백으로 둠"
   ]
  },
  {
   "cell_type": "code",
   "execution_count": 178,
   "id": "32296852-c5cf-4b35-afd5-cacd6a39506a",
   "metadata": {},
   "outputs": [
    {
     "data": {
      "text/plain": [
       "'hi        jane.'"
      ]
     },
     "execution_count": 178,
     "metadata": {},
     "output_type": "execute_result"
    }
   ],
   "source": [
    "\"%-10sjane.\" % \"hi\"\n",
    "# hi가 왼쪽 정렬되고 나머지는 공백으로 채움"
   ]
  },
  {
   "cell_type": "code",
   "execution_count": 179,
   "id": "ce2a7761-3691-4498-a7f2-a7083e734fd6",
   "metadata": {},
   "outputs": [
    {
     "data": {
      "text/plain": [
       "'3.4213'"
      ]
     },
     "execution_count": 179,
     "metadata": {},
     "output_type": "execute_result"
    }
   ],
   "source": [
    "# 소수점표현하기\n",
    "\"%0.4f\" % 3.42134234\n",
    "\n",
    "# 소수점 네번째까지 나타내고 싶을 때 사용\n",
    "# .은 소수점 포인트, 4는 소수점 뒤에 나올 숫자의 개수\n",
    "# 소수점 앞의 문자는 문자열 전체의 길이 의미(0은 길이에 상관하지 않는다는 의미)"
   ]
  },
  {
   "cell_type": "code",
   "execution_count": 180,
   "id": "471065ee-fa26-4ee3-8be0-60a727da5bc6",
   "metadata": {},
   "outputs": [
    {
     "data": {
      "text/plain": [
       "'    3.4213'"
      ]
     },
     "execution_count": 180,
     "metadata": {},
     "output_type": "execute_result"
    }
   ],
   "source": [
    "\"%10.4f\" % 3.42134234"
   ]
  },
  {
   "cell_type": "markdown",
   "id": "d92309cd-70cd-4e15-9828-426887496302",
   "metadata": {},
   "source": [
    "### format 함수를 사용한 포매팅"
   ]
  },
  {
   "cell_type": "code",
   "execution_count": 181,
   "id": "7b7ed2f2-f663-4867-8205-cac6367c9035",
   "metadata": {},
   "outputs": [
    {
     "data": {
      "text/plain": [
       "'I eat 3 apples.'"
      ]
     },
     "execution_count": 181,
     "metadata": {},
     "output_type": "execute_result"
    }
   ],
   "source": [
    "# 숫자 바로 대입하기\n",
    "\"I eat {0} apples.\".format(3)\n",
    "\n",
    "#{0} 부분이 3으로 바뀜"
   ]
  },
  {
   "cell_type": "code",
   "execution_count": 182,
   "id": "17fd6eaa-62e9-496d-aabf-a6fbbf22216b",
   "metadata": {},
   "outputs": [
    {
     "data": {
      "text/plain": [
       "'I eat five apples.'"
      ]
     },
     "execution_count": 182,
     "metadata": {},
     "output_type": "execute_result"
    }
   ],
   "source": [
    "#문자열 바로 대입하기\n",
    "\"I eat {0} apples.\".format(\"five\")"
   ]
  },
  {
   "cell_type": "code",
   "execution_count": 183,
   "id": "69bfa5c9-8265-4a39-aef0-7d3519353b27",
   "metadata": {},
   "outputs": [
    {
     "data": {
      "text/plain": [
       "'I eat 3 apples.'"
      ]
     },
     "execution_count": 183,
     "metadata": {},
     "output_type": "execute_result"
    }
   ],
   "source": [
    "# 숫자 값을 가진 변수로 대입하기\n",
    "number = 3\n",
    "\"I eat {0} apples.\".format(number)"
   ]
  },
  {
   "cell_type": "code",
   "execution_count": 184,
   "id": "782faaf4-0955-44af-bd9e-2e27d1945425",
   "metadata": {},
   "outputs": [
    {
     "data": {
      "text/plain": [
       "'I ate 10 apples. so I was sick for three days.'"
      ]
     },
     "execution_count": 184,
     "metadata": {},
     "output_type": "execute_result"
    }
   ],
   "source": [
    "# 2개 이상의 값 넣기\n",
    "number = 10\n",
    "day = \"three\"\n",
    "\"I ate {0} apples. so I was sick for {1} days.\".format(number, day)"
   ]
  },
  {
   "cell_type": "code",
   "execution_count": 185,
   "id": "5263e35b-ce5b-4144-b546-2c0fb1fb9ddd",
   "metadata": {},
   "outputs": [
    {
     "data": {
      "text/plain": [
       "'I ate 10 apples. so I was sick for three days.'"
      ]
     },
     "execution_count": 185,
     "metadata": {},
     "output_type": "execute_result"
    }
   ],
   "source": [
    "# 이름으로 넣기\n",
    "\"I ate {number} apples. so I was sick for {day} days.\".format(number = 10, day = \"three\")"
   ]
  },
  {
   "cell_type": "code",
   "execution_count": 186,
   "id": "ac381ad1-5eae-4306-b671-2113a5fdc563",
   "metadata": {},
   "outputs": [
    {
     "data": {
      "text/plain": [
       "'I ate 10 apples. so I was sick for 3 days.'"
      ]
     },
     "execution_count": 186,
     "metadata": {},
     "output_type": "execute_result"
    }
   ],
   "source": [
    "# 인덱스와 이름을 혼용해서 넣기\n",
    "\"I ate {0} apples. so I was sick for {day} days.\".format(10, day = 3)"
   ]
  },
  {
   "cell_type": "code",
   "execution_count": 187,
   "id": "ec1f7715-ab8d-418c-918a-565cac48b2cc",
   "metadata": {},
   "outputs": [
    {
     "data": {
      "text/plain": [
       "'hi        '"
      ]
     },
     "execution_count": 187,
     "metadata": {},
     "output_type": "execute_result"
    }
   ],
   "source": [
    "# 왼쪽 정렬\n",
    "\"{0:<10}\".format(\"hi\")\n",
    "\n",
    "#:<숫자: 문자열을 왼쪽으로 정렬하고, 문자열의 총 자릿수를 10으로 맞출 수 있음"
   ]
  },
  {
   "cell_type": "code",
   "execution_count": 188,
   "id": "2ffd4a08-103a-42f9-bea8-9f2e7faff198",
   "metadata": {},
   "outputs": [
    {
     "data": {
      "text/plain": [
       "'        hi'"
      ]
     },
     "execution_count": 188,
     "metadata": {},
     "output_type": "execute_result"
    }
   ],
   "source": [
    "# 오른쪽 정렬\n",
    "\"{0:>10}\".format(\"hi\")"
   ]
  },
  {
   "cell_type": "code",
   "execution_count": 189,
   "id": "3bc5a81f-c9bf-42a8-8cca-7b4266b264f7",
   "metadata": {},
   "outputs": [
    {
     "data": {
      "text/plain": [
       "'    hi    '"
      ]
     },
     "execution_count": 189,
     "metadata": {},
     "output_type": "execute_result"
    }
   ],
   "source": [
    "# 가운데 정렬\n",
    "\"{0:^10}\".format(\"hi\")"
   ]
  },
  {
   "cell_type": "code",
   "execution_count": 190,
   "id": "e2878e06-8e48-4ac0-840d-eb67fc8421fe",
   "metadata": {},
   "outputs": [
    {
     "data": {
      "text/plain": [
       "'====hi===='"
      ]
     },
     "execution_count": 190,
     "metadata": {},
     "output_type": "execute_result"
    }
   ],
   "source": [
    "# 공백 채우기\n",
    "\"{0:=^10}\".format(\"hi\")\n",
    "\n",
    "# =로 공백을 채우고 가운데 정렬"
   ]
  },
  {
   "cell_type": "code",
   "execution_count": 191,
   "id": "3f26d9ea-b982-4df6-a545-d4db5bad40d7",
   "metadata": {},
   "outputs": [
    {
     "data": {
      "text/plain": [
       "'hi!!!!!!!!'"
      ]
     },
     "execution_count": 191,
     "metadata": {},
     "output_type": "execute_result"
    }
   ],
   "source": [
    "\"{0:!<10}\".format(\"hi\")"
   ]
  },
  {
   "cell_type": "code",
   "execution_count": 192,
   "id": "2bf72963-7de8-4537-adda-11bd7043d841",
   "metadata": {},
   "outputs": [
    {
     "data": {
      "text/plain": [
       "'3.421'"
      ]
     },
     "execution_count": 192,
     "metadata": {},
     "output_type": "execute_result"
    }
   ],
   "source": [
    "# 소수점 표현하기\n",
    "y = 3.42134234\n",
    "\"{0:0.4}\".format(y)"
   ]
  },
  {
   "cell_type": "code",
   "execution_count": 193,
   "id": "2f6cb50b-7fa2-40c4-8aeb-acdbdc3e3c79",
   "metadata": {},
   "outputs": [
    {
     "data": {
      "text/plain": [
       "'     3.421'"
      ]
     },
     "execution_count": 193,
     "metadata": {},
     "output_type": "execute_result"
    }
   ],
   "source": [
    "y = 3.42134234\n",
    "\"{0:10.4}\".format(y)"
   ]
  },
  {
   "cell_type": "code",
   "execution_count": 194,
   "id": "41478c8a-bd70-4468-9ef1-5b0c446c7f98",
   "metadata": {},
   "outputs": [
    {
     "data": {
      "text/plain": [
       "'{and}'"
      ]
     },
     "execution_count": 194,
     "metadata": {},
     "output_type": "execute_result"
    }
   ],
   "source": [
    "# {또는} 문자 표현하기\n",
    "\"{{and}}\".format()"
   ]
  },
  {
   "cell_type": "markdown",
   "id": "c4d4f578-c6bb-4dd9-b7ea-40c0c3c88b9f",
   "metadata": {},
   "source": [
    "### f문자열 포매팅\n",
    "- 문자열 앞에 f 접두사를 붙이면 f문자열 포매팅 기능 사용 가능"
   ]
  },
  {
   "cell_type": "code",
   "execution_count": 195,
   "id": "6a0a4b90-a02c-48c1-bd18-26f77f0c6a60",
   "metadata": {},
   "outputs": [
    {
     "data": {
      "text/plain": [
       "'나의 이름은 홍길동입니다. 나이는 30입니다.'"
      ]
     },
     "execution_count": 195,
     "metadata": {},
     "output_type": "execute_result"
    }
   ],
   "source": [
    "name = '홍길동'\n",
    "age = 30\n",
    "f'나의 이름은 {name}입니다. 나이는 {age}입니다.'"
   ]
  },
  {
   "cell_type": "code",
   "execution_count": 196,
   "id": "8f38207e-dfed-4e0a-bcb5-744f9e506de8",
   "metadata": {},
   "outputs": [
    {
     "data": {
      "text/plain": [
       "'나는 내년이면 31살이 된다.'"
      ]
     },
     "execution_count": 196,
     "metadata": {},
     "output_type": "execute_result"
    }
   ],
   "source": [
    "age = 30\n",
    "f'나는 내년이면 {age +1}살이 된다.'"
   ]
  },
  {
   "cell_type": "code",
   "execution_count": 197,
   "id": "3ec378c2-8452-439a-83c3-8cac844fd73f",
   "metadata": {},
   "outputs": [
    {
     "data": {
      "text/plain": [
       "'나의 이름은 홍길동입니다. 나이는 30입니다.'"
      ]
     },
     "execution_count": 197,
     "metadata": {},
     "output_type": "execute_result"
    }
   ],
   "source": [
    "d = {'name': '홍길동', 'age': 30}\n",
    "f'나의 이름은 {d['name']}입니다. 나이는 {d[\"age\"]}입니다.'"
   ]
  },
  {
   "cell_type": "code",
   "execution_count": 198,
   "id": "f9f63eae-934d-4e3d-9112-f686d87cf86d",
   "metadata": {},
   "outputs": [
    {
     "data": {
      "text/plain": [
       "'!!!python!!!'"
      ]
     },
     "execution_count": 198,
     "metadata": {},
     "output_type": "execute_result"
    }
   ],
   "source": [
    "\"{0:!^12}\".format(\"python\")"
   ]
  },
  {
   "cell_type": "markdown",
   "id": "5f7d8482-1fa4-4580-af1a-49ab37761be1",
   "metadata": {},
   "source": [
    "### 문자열 관련 함수들\n",
    "- 문자열 내장 함수: 문자열 자료형은 자체적으로 함수를 가지고 있음\n",
    "- 문자열 변수 뒤에 '.'를 붙인 후 함수 이름을 붙여서 사용"
   ]
  },
  {
   "cell_type": "code",
   "execution_count": 199,
   "id": "890cabcb-7713-4f54-a0f7-0a5bb6797820",
   "metadata": {},
   "outputs": [
    {
     "data": {
      "text/plain": [
       "2"
      ]
     },
     "execution_count": 199,
     "metadata": {},
     "output_type": "execute_result"
    }
   ],
   "source": [
    "# 문자 개수 세기 - count\n",
    "a = 'hobby'\n",
    "a.count('b')"
   ]
  },
  {
   "cell_type": "code",
   "execution_count": 200,
   "id": "f9185094-86d6-452a-a607-874e325605da",
   "metadata": {},
   "outputs": [
    {
     "name": "stdout",
     "output_type": "stream",
     "text": [
      "14\n",
      "-1\n"
     ]
    }
   ],
   "source": [
    "# 위치 알려주기1 - find\n",
    "a = \"Python is the best choice\"\n",
    "print(a.find('b'))\n",
    "print(a.find('k'))\n",
    "\n",
    "#찾는 문자나 문자열이 존재하지 않으면 -1 반환"
   ]
  },
  {
   "cell_type": "code",
   "execution_count": 201,
   "id": "4f9e8c90-f40c-4bfc-a677-a6337574835a",
   "metadata": {},
   "outputs": [
    {
     "name": "stdout",
     "output_type": "stream",
     "text": [
      "8\n"
     ]
    }
   ],
   "source": [
    "# 위치 알려주기2 - index\n",
    "a = \"Life is too short\"\n",
    "print(a.index('t'))\n",
    "#print(a.index('k'))\n",
    "# k가 없으므로 오류 발생"
   ]
  },
  {
   "cell_type": "code",
   "execution_count": 202,
   "id": "0d6b3fd7-4670-4588-8778-a77291a44eaf",
   "metadata": {},
   "outputs": [
    {
     "data": {
      "text/plain": [
       "'a,b,c,d'"
      ]
     },
     "execution_count": 202,
     "metadata": {},
     "output_type": "execute_result"
    }
   ],
   "source": [
    "# 문자열 삽입 - join\n",
    "\",\".join('abcd')\n",
    "\n",
    "# 문자열 사이사이 , 입력\n",
    "# 리스트, 튜플에도 사용 가능"
   ]
  },
  {
   "cell_type": "code",
   "execution_count": 203,
   "id": "db23a72a-98d2-49ba-b510-31dc3bccb17f",
   "metadata": {},
   "outputs": [
    {
     "data": {
      "text/plain": [
       "'a,b,c,d'"
      ]
     },
     "execution_count": 203,
     "metadata": {},
     "output_type": "execute_result"
    }
   ],
   "source": [
    "\",\".join(['a', 'b', 'c', 'd'])"
   ]
  },
  {
   "cell_type": "code",
   "execution_count": 204,
   "id": "b7f9bc37-6282-4b39-a3eb-8f3e69aed0bf",
   "metadata": {},
   "outputs": [
    {
     "data": {
      "text/plain": [
       "'HI'"
      ]
     },
     "execution_count": 204,
     "metadata": {},
     "output_type": "execute_result"
    }
   ],
   "source": [
    "# 소문자를 대문자로 바꾸기 - upper\n",
    "a = \"hi\"\n",
    "a.upper()"
   ]
  },
  {
   "cell_type": "code",
   "execution_count": 205,
   "id": "3bbaa197-d8be-44fe-90e0-6f303f70e593",
   "metadata": {},
   "outputs": [
    {
     "data": {
      "text/plain": [
       "'hi'"
      ]
     },
     "execution_count": 205,
     "metadata": {},
     "output_type": "execute_result"
    }
   ],
   "source": [
    "# 대문자를 소문자로 바꾸기 -lower\n",
    "a = \"HI\"\n",
    "a.lower()"
   ]
  },
  {
   "cell_type": "code",
   "execution_count": 206,
   "id": "f2b0190e-1cd3-43fc-b96e-9bd7c3f857ab",
   "metadata": {},
   "outputs": [
    {
     "data": {
      "text/plain": [
       "'hi '"
      ]
     },
     "execution_count": 206,
     "metadata": {},
     "output_type": "execute_result"
    }
   ],
   "source": [
    "# 왼쪽 공백 지우기 - lstrip\n",
    "a = \" hi \"\n",
    "a.lstrip()"
   ]
  },
  {
   "cell_type": "code",
   "execution_count": 207,
   "id": "2905465e-9b50-4db5-b588-17ff1c098db0",
   "metadata": {},
   "outputs": [
    {
     "data": {
      "text/plain": [
       "' hi'"
      ]
     },
     "execution_count": 207,
     "metadata": {},
     "output_type": "execute_result"
    }
   ],
   "source": [
    "# 오른쪽 공백 지우기 - rstrip\n",
    "a = \" hi \"\n",
    "a.rstrip()"
   ]
  },
  {
   "cell_type": "code",
   "execution_count": 208,
   "id": "0d0573b1-c1be-40b6-b28c-42cc2d882d15",
   "metadata": {},
   "outputs": [
    {
     "data": {
      "text/plain": [
       "'hi'"
      ]
     },
     "execution_count": 208,
     "metadata": {},
     "output_type": "execute_result"
    }
   ],
   "source": [
    "# 양쪽 공백 지우기 - strip\n",
    "a = \" hi \"\n",
    "a.strip()"
   ]
  },
  {
   "cell_type": "code",
   "execution_count": 209,
   "id": "91b90571-a357-4030-b805-0ea1d7047333",
   "metadata": {},
   "outputs": [
    {
     "data": {
      "text/plain": [
       "'Your leg is too short'"
      ]
     },
     "execution_count": 209,
     "metadata": {},
     "output_type": "execute_result"
    }
   ],
   "source": [
    "# 문자열 바꾸기 - replace\n",
    "a = \"Life is too short\"\n",
    "a.replace(\"Life\", \"Your leg\")\n",
    "\n",
    "#replace(바뀔_문자열, 바꿀_문자열) ==> 문자열 안의 특정한 값을 치환"
   ]
  },
  {
   "cell_type": "code",
   "execution_count": 210,
   "id": "3028ecd6-405a-4de0-8de1-afa6e6c3ddc3",
   "metadata": {},
   "outputs": [
    {
     "name": "stdout",
     "output_type": "stream",
     "text": [
      "['Life', 'is', 'too', 'short']\n",
      "['a', 'b', 'c', 'd']\n"
     ]
    }
   ],
   "source": [
    "# 문자열 나누기 - split\n",
    "a = \"Life is too short\"\n",
    "print(a.split())\n",
    "\n",
    "b = \"a:b:c:d\"\n",
    "print(b.split(':'))"
   ]
  },
  {
   "cell_type": "code",
   "execution_count": 211,
   "id": "70c0b172-44a9-41b7-b219-8c36888c35db",
   "metadata": {},
   "outputs": [
    {
     "data": {
      "text/plain": [
       "'HI'"
      ]
     },
     "execution_count": 211,
     "metadata": {},
     "output_type": "execute_result"
    }
   ],
   "source": [
    "# 착각하기 쉬운 문자열 함수\n",
    "a = 'hi'\n",
    "# a.upper()는 자체의 값을 변경하는 것이 아닌 대문자로 바꾼 값을 return하는 것임\n",
    "# 바꾸고 싶으면 대입문 사용\n",
    "a = a.upper()\n",
    "a"
   ]
  },
  {
   "cell_type": "markdown",
   "id": "3ffe4e41-635f-42db-86b1-ce683a752530",
   "metadata": {},
   "source": [
    "## 02-3 리스트 자료형\n",
    "- 숫자의 모음을 숫자나 문자열로 표현하기는 어려움\n",
    "- 파이썬에서는 이러한 불편함을 해소하기 위해 자료형이 존재"
   ]
  },
  {
   "cell_type": "markdown",
   "id": "8f8336ad-1842-4629-87ba-2b04a1b52a29",
   "metadata": {},
   "source": [
    "### 리스트는 어떻게 만들고 사용할까?\n",
    "- 리스트명 = [요소1, 요소2, 요소3,...]\n",
    "- 가능한 리스트\n",
    "  + 비어있는 리스트[ ]\n",
    "  + 숫자 / 문자열을 요소값으로 가진 리스트\n",
    "  + 숫자 + 문자열을 요소값으로 가진 리스트\n",
    "  + 리스트 자체를 요소값으로 가진 리스트[ [ ] ]"
   ]
  },
  {
   "cell_type": "code",
   "execution_count": 212,
   "id": "0318e75a-83db-4ad3-a6f1-5454c2bd8a58",
   "metadata": {},
   "outputs": [],
   "source": [
    "odd = [1,3,5,7,9]"
   ]
  },
  {
   "cell_type": "code",
   "execution_count": 213,
   "id": "2eadcbd0-14f5-4625-adc4-a4151218941f",
   "metadata": {},
   "outputs": [],
   "source": [
    "a = []\n",
    "b =[1, 2, 3]\n",
    "c= ['life', 'is', 'too', 'short']\n",
    "d = [1, 2, 'life', 'is']\n",
    "e = [1, 2, ['life', 'is']]"
   ]
  },
  {
   "cell_type": "markdown",
   "id": "32c28796-183c-4d6b-bb68-9ad049e88b98",
   "metadata": {},
   "source": [
    "### 리스트의 인덱싱과 슬라이싱"
   ]
  },
  {
   "cell_type": "code",
   "execution_count": 214,
   "id": "39f41260-99e1-48b5-a16e-c12e610354c3",
   "metadata": {},
   "outputs": [
    {
     "name": "stdout",
     "output_type": "stream",
     "text": [
      "[1, 2, 3]\n",
      "1\n",
      "5\n",
      "3\n"
     ]
    }
   ],
   "source": [
    "# 리스트의 인덱싱\n",
    "a = [1, 2, 3]\n",
    "print(a)\n",
    "print(a[0])\n",
    "print(a[1] + a[2])\n",
    "print(a[-1]) #리스트의 마지막 요솟값"
   ]
  },
  {
   "cell_type": "code",
   "execution_count": 215,
   "id": "8d8ae900-49cc-4804-b9a4-baf4e1ef2fc5",
   "metadata": {},
   "outputs": [
    {
     "name": "stdout",
     "output_type": "stream",
     "text": [
      "1\n",
      "['a', 'b', 'c']\n",
      "['a', 'b', 'c']\n",
      "a\n"
     ]
    }
   ],
   "source": [
    "a = [1, 2, 3, ['a', 'b', 'c']]\n",
    "print(a[0])\n",
    "\n",
    "print(a[-1])\n",
    "\n",
    "print(a[3])\n",
    "\n",
    "print(a[-1][0])"
   ]
  },
  {
   "cell_type": "code",
   "execution_count": 216,
   "id": "f48e93ce-ecf9-4668-b618-d3f21564ea28",
   "metadata": {},
   "outputs": [
    {
     "data": {
      "text/plain": [
       "'life'"
      ]
     },
     "execution_count": 216,
     "metadata": {},
     "output_type": "execute_result"
    }
   ],
   "source": [
    "# 삼중 리스트에서 인덱싱 하기\n",
    "a = [1, 2, ['a', 'b', ['life', 'is']]]\n",
    "a[2][2][0]"
   ]
  },
  {
   "cell_type": "code",
   "execution_count": 217,
   "id": "7f5c212c-e2b2-4844-9dab-ac8e80f8c1b5",
   "metadata": {},
   "outputs": [
    {
     "data": {
      "text/plain": [
       "[1, 2]"
      ]
     },
     "execution_count": 217,
     "metadata": {},
     "output_type": "execute_result"
    }
   ],
   "source": [
    "# 리스트의 슬라이싱\n",
    "a = [1, 2, 3, 4, 5]\n",
    "a[0:2]"
   ]
  },
  {
   "cell_type": "code",
   "execution_count": 218,
   "id": "ee859449-215a-4eff-8034-a45af465cacc",
   "metadata": {},
   "outputs": [
    {
     "data": {
      "text/plain": [
       "'12'"
      ]
     },
     "execution_count": 218,
     "metadata": {},
     "output_type": "execute_result"
    }
   ],
   "source": [
    "a = \"12345\"\n",
    "a[0:2]"
   ]
  },
  {
   "cell_type": "code",
   "execution_count": 219,
   "id": "ff4281ee-2d9d-4207-8755-93b8353e3137",
   "metadata": {},
   "outputs": [
    {
     "name": "stdout",
     "output_type": "stream",
     "text": [
      "[1, 2]\n",
      "[3, 4, 5]\n"
     ]
    }
   ],
   "source": [
    "a = [1, 2, 3, 4, 5]\n",
    "b = a[:2]\n",
    "c = a[2:]\n",
    "print(b)\n",
    "print(c)"
   ]
  },
  {
   "cell_type": "markdown",
   "id": "60612bcb-4540-4b6d-a921-590d8f6a96de",
   "metadata": {},
   "source": [
    "### 리스트 연산하기\n",
    "- 리스트도 +를 사용해 더하고 *를 사용해 반복할 수 있음\n"
   ]
  },
  {
   "cell_type": "code",
   "execution_count": 220,
   "id": "1372941e-ee29-49a5-9fe0-b10af93dc26c",
   "metadata": {},
   "outputs": [
    {
     "data": {
      "text/plain": [
       "[1, 2, 3, 4, 5, 6]"
      ]
     },
     "execution_count": 220,
     "metadata": {},
     "output_type": "execute_result"
    }
   ],
   "source": [
    "# 리스트 더하기(+)\n",
    "a = [1, 2, 3]\n",
    "b = [4, 5, 6]\n",
    "a + b"
   ]
  },
  {
   "cell_type": "code",
   "execution_count": 221,
   "id": "b936250f-6080-40a2-b8b2-cdf9237682fa",
   "metadata": {},
   "outputs": [
    {
     "data": {
      "text/plain": [
       "[1, 2, 3, 1, 2, 3, 1, 2, 3]"
      ]
     },
     "execution_count": 221,
     "metadata": {},
     "output_type": "execute_result"
    }
   ],
   "source": [
    "# 리스트 반복하기(*)\n",
    "a = [1, 2, 3]\n",
    "a * 3"
   ]
  },
  {
   "cell_type": "code",
   "execution_count": 222,
   "id": "8412875f-0b7b-4fe9-bae7-6974664cabc1",
   "metadata": {},
   "outputs": [
    {
     "data": {
      "text/plain": [
       "3"
      ]
     },
     "execution_count": 222,
     "metadata": {},
     "output_type": "execute_result"
    }
   ],
   "source": [
    "# 리스트 길이 구하기\n",
    "a = [1, 2, 3]\n",
    "len(a)"
   ]
  },
  {
   "cell_type": "code",
   "execution_count": 223,
   "id": "0a44cae4-ca80-449f-ba8c-a8d032aca63c",
   "metadata": {},
   "outputs": [
    {
     "data": {
      "text/plain": [
       "'3hi'"
      ]
     },
     "execution_count": 223,
     "metadata": {},
     "output_type": "execute_result"
    }
   ],
   "source": [
    "# 초보자가 범하기 쉬운 리스트 연산 오류\n",
    "a = [1, 2, 3]\n",
    "str(a[2]) + \"hi\"\n",
    "\n",
    "#a[2] + \"hi\" 이 경우는 문자열과 정수이기 때문에 더해지지 않음\n",
    "#str은 정수나 실수를 문자열로 바꿔주는 파이썬 내장 함수"
   ]
  },
  {
   "cell_type": "markdown",
   "id": "b80c45ff-22f6-4b56-8f12-f9b189c05c41",
   "metadata": {},
   "source": [
    "### 리스트의 수정과 삭제"
   ]
  },
  {
   "cell_type": "code",
   "execution_count": 224,
   "id": "cfacc0ad-b376-4252-8d69-e365178cfb48",
   "metadata": {},
   "outputs": [
    {
     "data": {
      "text/plain": [
       "[1, 2, 4]"
      ]
     },
     "execution_count": 224,
     "metadata": {},
     "output_type": "execute_result"
    }
   ],
   "source": [
    "# 리스트의 값 수정하기\n",
    "a = [1, 2, 3]\n",
    "a[2] = 4\n",
    "a"
   ]
  },
  {
   "cell_type": "code",
   "execution_count": 225,
   "id": "feafee9c-cb8f-4b62-b0a4-ba7607ece3a1",
   "metadata": {},
   "outputs": [
    {
     "name": "stdout",
     "output_type": "stream",
     "text": [
      "[1, 3]\n",
      "[1, 2]\n"
     ]
    }
   ],
   "source": [
    "# del 함수를 사용해 리스트 요소 삭제하기\n",
    "a = [1, 2, 3]\n",
    "del a[1]\n",
    "print(a)\n",
    "\n",
    "#del 객체\n",
    "\n",
    "# 슬라이싱 기법 사용하여 리스트 요소 여러개 한꺼번에 삭제\n",
    "a = [1, 2, 3, 4, 5]\n",
    "del a [2:]\n",
    "print(a)"
   ]
  },
  {
   "cell_type": "markdown",
   "id": "8ee8deaf-7db7-4b50-bcae-4d20a3dc466a",
   "metadata": {},
   "source": [
    "### 리스트 관련 함수\n",
    "- 문자열과 마찬가지로 리스트 변수 이름 뒤에 '.'를 붙여 여러가지 리스트 관련 함수 사용 가능"
   ]
  },
  {
   "cell_type": "code",
   "execution_count": 226,
   "id": "407130ca-81ac-4f58-ad05-3e3b04af67a4",
   "metadata": {},
   "outputs": [
    {
     "name": "stdout",
     "output_type": "stream",
     "text": [
      "[1, 2, 3, 4]\n",
      "[1, 2, 3, 4, [5, 6]]\n"
     ]
    }
   ],
   "source": [
    "# 리스트에 요소 추가하기 - append\n",
    "a = [1, 2, 3]\n",
    "a.append(4)\n",
    "print(a)\n",
    "\n",
    "a.append([5,6])\n",
    "print(a)\n",
    "\n",
    "#.append(x): 리스트의 맨 마지막에 x 추가"
   ]
  },
  {
   "cell_type": "code",
   "execution_count": 227,
   "id": "3794da21-715d-414f-851e-b2cd4c8d0ae0",
   "metadata": {},
   "outputs": [
    {
     "data": {
      "text/plain": [
       "[1, 2, 3, 4]"
      ]
     },
     "execution_count": 227,
     "metadata": {},
     "output_type": "execute_result"
    }
   ],
   "source": [
    "# 리스트 정렬 - sort\n",
    "a = [1, 4, 2, 3]\n",
    "a.sort()\n",
    "a"
   ]
  },
  {
   "cell_type": "code",
   "execution_count": 228,
   "id": "8a3e5220-fcc3-4036-b030-eb7928c917b3",
   "metadata": {},
   "outputs": [
    {
     "data": {
      "text/plain": [
       "['a', 'b', 'c', 'd']"
      ]
     },
     "execution_count": 228,
     "metadata": {},
     "output_type": "execute_result"
    }
   ],
   "source": [
    "a = ['a', 'c', 'd', 'b']\n",
    "a.sort()\n",
    "a"
   ]
  },
  {
   "cell_type": "code",
   "execution_count": 229,
   "id": "41ccb50f-26e4-4fe1-a2f7-300d970c2fc7",
   "metadata": {},
   "outputs": [
    {
     "data": {
      "text/plain": [
       "['b', 'd', 'c', 'a']"
      ]
     },
     "execution_count": 229,
     "metadata": {},
     "output_type": "execute_result"
    }
   ],
   "source": [
    "# 리스트 뒤집기 - reverse\n",
    "a = ['a', 'c', 'd', 'b']\n",
    "a.reverse()\n",
    "a\n",
    "\n",
    "#리스트의 현재 순서를 그대로 거꾸로 뒤집음"
   ]
  },
  {
   "cell_type": "code",
   "execution_count": 230,
   "id": "dff6b2df-9110-416e-a1df-cef2cb98964d",
   "metadata": {},
   "outputs": [
    {
     "name": "stdout",
     "output_type": "stream",
     "text": [
      "2\n",
      "0\n"
     ]
    }
   ],
   "source": [
    "# 인덱스 반환\n",
    "a = [1, 2, 3]\n",
    "print(a.index(3))\n",
    "# = a[2]\n",
    "\n",
    "print(a.index(1))\n",
    "# = a[0]\n",
    "\n",
    "#index(x) 함수는 리스트에 x값이 몇 번째 위치에 있는지 찾아 인덱스 값 리턴"
   ]
  },
  {
   "cell_type": "code",
   "execution_count": 231,
   "id": "94f3179d-b986-4b2c-b611-99736fd66f25",
   "metadata": {},
   "outputs": [
    {
     "name": "stdout",
     "output_type": "stream",
     "text": [
      "[4, 1, 2, 3]\n",
      "[4, 1, 2, 5, 3]\n"
     ]
    }
   ],
   "source": [
    "# 리스트에 요소 삽입 - insert\n",
    "a = [1, 2, 3]\n",
    "a.insert(0,4) # 0위치에 4 삽입\n",
    "print(a)\n",
    "\n",
    "a.insert(3,5) # 3 위치에 5 삽입\n",
    "print(a)"
   ]
  },
  {
   "cell_type": "code",
   "execution_count": 232,
   "id": "d397c15b-d902-4071-b0f5-7ad4e135cedd",
   "metadata": {},
   "outputs": [
    {
     "data": {
      "text/plain": [
       "[1, 2, 1, 2]"
      ]
     },
     "execution_count": 232,
     "metadata": {},
     "output_type": "execute_result"
    }
   ],
   "source": [
    "# 리스트 요소 제거 - remove\n",
    "a = [1, 2, 3, 1, 2, 3]\n",
    "a.remove(3)\n",
    "a.remove(3)\n",
    "a\n",
    "\n",
    "# remove(x): 리스트에서 첫 번째로 나오는 x를 삭제하는 함수\n",
    "# 두 번 실행하면 두 번째 값도 삭제 됨"
   ]
  },
  {
   "cell_type": "code",
   "execution_count": 233,
   "id": "9a89beb0-e82f-464c-95b9-383f6145e1a2",
   "metadata": {},
   "outputs": [
    {
     "name": "stdout",
     "output_type": "stream",
     "text": [
      "2\n"
     ]
    },
    {
     "data": {
      "text/plain": [
       "[1, 3]"
      ]
     },
     "execution_count": 233,
     "metadata": {},
     "output_type": "execute_result"
    }
   ],
   "source": [
    "# 리스트 요소 끄집어 내기 - pop\n",
    "a = [1, 2, 3]\n",
    "print(a.pop(1))\n",
    "a\n",
    "\n",
    "#pop(X)는 리스트의 x번째 요소를 리턴하고, 그 요소는 삭제"
   ]
  },
  {
   "cell_type": "code",
   "execution_count": 234,
   "id": "f1c1e959-6cc4-4e14-9833-672eeac8bbdd",
   "metadata": {},
   "outputs": [
    {
     "data": {
      "text/plain": [
       "2"
      ]
     },
     "execution_count": 234,
     "metadata": {},
     "output_type": "execute_result"
    }
   ],
   "source": [
    "# 리스트에 포함된 요소 x의 개수 세기 - count\n",
    "a = [1, 2, 3, 1]\n",
    "a.count(1)"
   ]
  },
  {
   "cell_type": "code",
   "execution_count": 235,
   "id": "8caf4378-9f8d-4b52-a09a-5bc749f60684",
   "metadata": {},
   "outputs": [
    {
     "name": "stdout",
     "output_type": "stream",
     "text": [
      "[1, 2, 3, 4, 5]\n"
     ]
    },
    {
     "data": {
      "text/plain": [
       "[1, 2, 3, 4, 5, 6, 7]"
      ]
     },
     "execution_count": 235,
     "metadata": {},
     "output_type": "execute_result"
    }
   ],
   "source": [
    "# 리스트 확장 -extend\n",
    "a = [1, 2, 3]\n",
    "a.extend([4,5])\n",
    "print(a)\n",
    "\n",
    "b = [6,7]\n",
    "a.extend(b)\n",
    "a"
   ]
  },
  {
   "cell_type": "markdown",
   "id": "3ff833d0-2df5-4ca4-a757-0544c9c19c99",
   "metadata": {},
   "source": [
    "## 02-4 튜플 자료형\n",
    "- 리스트는 [ ], 튜플은 ( )\n",
    "- 리스트는 요솟값의 생성, 삭제, 수정이 가능하지만 튜플은 요솟값을 바꿀 수 없다."
   ]
  },
  {
   "cell_type": "markdown",
   "id": "5040aa03-6173-4bf7-81f1-08af98ec800c",
   "metadata": {},
   "source": [
    "### 튜플은 어떻게 만들까?\n",
    "- 튜플과 리스트는 비슷한 역할을 하지만, 프로그래밍을 할 때 튜플과 리스트는 구별해서 사용하는 것이 유리\n",
    "- 프로그램이 실행되는 동안 요솟값이 항상 변하지 않기를 바란다거나 값이 바뀔까 걱정하고 싶지 않다면 튜플\n",
    "- 수시로 값을 변화시켜야한다면 리스트"
   ]
  },
  {
   "cell_type": "code",
   "execution_count": 236,
   "id": "ec0c8bb1-3753-4a70-8eab-4ff6e005d3b3",
   "metadata": {},
   "outputs": [],
   "source": [
    "t1 = ()\n",
    "t2 = (1, )\n",
    "t3 = (1, 2, 3)\n",
    "t4 = 1, 2, 3\n",
    "t5 = ('a', 'b', ('ab', 'cd'))\n",
    "\n",
    "# t2 -> 요소가 하나일 때는 반드시 요소 뒤에 쉼표(,) 붙여야 함\n",
    "# t4 -> 소괄호 생략 가능"
   ]
  },
  {
   "cell_type": "markdown",
   "id": "534324df-8b98-4243-b4b0-cf8b680fbf14",
   "metadata": {},
   "source": [
    "### 튜플의 요솟값을 지우거나 변경하려고 하면 어떻게 될까?"
   ]
  },
  {
   "cell_type": "code",
   "execution_count": 237,
   "id": "44c6147c-17b9-4d7c-aba8-edf90718cc7d",
   "metadata": {},
   "outputs": [],
   "source": [
    "# 튜플 요소값을 삭제하려 할 때\n",
    "t1 = (1, 2, 'a', 'b')\n",
    "#del t1[0] ==> typeerror"
   ]
  },
  {
   "cell_type": "code",
   "execution_count": 238,
   "id": "9ebb6442-8a46-4373-8879-e7eec9ab43c9",
   "metadata": {},
   "outputs": [],
   "source": [
    "# 튜플 요솟값을 변경하려 할 때\n",
    "t1 = (1, 2, 'a', 'b')\n",
    "# t1[0] = 'c' ==> typeerror"
   ]
  },
  {
   "cell_type": "markdown",
   "id": "580d814d-f17f-41a4-988f-1e6b5832950a",
   "metadata": {},
   "source": [
    "### 튜플 다루기"
   ]
  },
  {
   "cell_type": "code",
   "execution_count": 239,
   "id": "f6ecba68-40de-4311-bd1b-26cd16fa75ca",
   "metadata": {},
   "outputs": [
    {
     "data": {
      "text/plain": [
       "1"
      ]
     },
     "execution_count": 239,
     "metadata": {},
     "output_type": "execute_result"
    }
   ],
   "source": [
    "# 인덱싱 하기\n",
    "t1 = (1, 2, 'a', 'b')\n",
    "t1[0]"
   ]
  },
  {
   "cell_type": "code",
   "execution_count": 240,
   "id": "e0b05fde-e950-4684-95de-49ae979ee0b5",
   "metadata": {},
   "outputs": [
    {
     "data": {
      "text/plain": [
       "(2, 'a', 'b')"
      ]
     },
     "execution_count": 240,
     "metadata": {},
     "output_type": "execute_result"
    }
   ],
   "source": [
    "# 슬라이싱하기\n",
    "t1 = (1, 2, 'a', 'b')\n",
    "t1[1:]"
   ]
  },
  {
   "cell_type": "code",
   "execution_count": 241,
   "id": "f77373bd-35f6-46f3-a0b7-b8c63e0774cb",
   "metadata": {},
   "outputs": [
    {
     "data": {
      "text/plain": [
       "(1, 2, 'a', 'b', 3, 4)"
      ]
     },
     "execution_count": 241,
     "metadata": {},
     "output_type": "execute_result"
    }
   ],
   "source": [
    "# 튜플 더하기\n",
    "t1 = (1, 2, 'a', 'b')\n",
    "t2 = (3, 4)\n",
    "t3 = t1 + t2\n",
    "t3"
   ]
  },
  {
   "cell_type": "code",
   "execution_count": 242,
   "id": "6ea881e8-9bbc-495e-bf4c-5a4773a44817",
   "metadata": {},
   "outputs": [
    {
     "data": {
      "text/plain": [
       "(3, 4, 3, 4, 3, 4)"
      ]
     },
     "execution_count": 242,
     "metadata": {},
     "output_type": "execute_result"
    }
   ],
   "source": [
    "# 튜플 곱하기\n",
    "t2 = (3, 4)\n",
    "t3 = t2 * 3\n",
    "t3"
   ]
  },
  {
   "cell_type": "code",
   "execution_count": 243,
   "id": "55c4c6ce-e614-4bf3-bf43-97ca83994b12",
   "metadata": {},
   "outputs": [
    {
     "data": {
      "text/plain": [
       "4"
      ]
     },
     "execution_count": 243,
     "metadata": {},
     "output_type": "execute_result"
    }
   ],
   "source": [
    "# 튜플 길이 구하기\n",
    "t1 = (1, 2, 'a', 'b')\n",
    "len(t1)"
   ]
  },
  {
   "cell_type": "code",
   "execution_count": null,
   "id": "8e064c20-a15c-4b48-9deb-205814b5281a",
   "metadata": {},
   "outputs": [],
   "source": []
  },
  {
   "cell_type": "code",
   "execution_count": null,
   "id": "0d8e968c-3e49-4b24-a564-18644df3c583",
   "metadata": {},
   "outputs": [],
   "source": []
  },
  {
   "cell_type": "code",
   "execution_count": null,
   "id": "6ce35f73-2d4e-461d-9b02-cae8717643c6",
   "metadata": {},
   "outputs": [],
   "source": []
  },
  {
   "cell_type": "code",
   "execution_count": null,
   "id": "7f1e26a7-e4bc-47a3-afc4-aaeeef83817b",
   "metadata": {},
   "outputs": [],
   "source": []
  },
  {
   "cell_type": "code",
   "execution_count": null,
   "id": "7fabfbee-10cf-492b-b6a8-08b7c0a5d4d5",
   "metadata": {},
   "outputs": [],
   "source": []
  },
  {
   "cell_type": "code",
   "execution_count": null,
   "id": "a392a790-2fc0-4e13-a1a6-3a86bfc2703a",
   "metadata": {},
   "outputs": [],
   "source": []
  },
  {
   "cell_type": "code",
   "execution_count": null,
   "id": "81566e65-ab80-42f6-84b3-b3b9a1e5ae3f",
   "metadata": {},
   "outputs": [],
   "source": []
  },
  {
   "cell_type": "code",
   "execution_count": null,
   "id": "4f57de32-1eae-4dfa-87bb-9c5e7943eb9d",
   "metadata": {},
   "outputs": [],
   "source": []
  },
  {
   "cell_type": "code",
   "execution_count": null,
   "id": "2923a452-28b1-4d6b-8301-18ff875f5088",
   "metadata": {},
   "outputs": [],
   "source": []
  },
  {
   "cell_type": "code",
   "execution_count": null,
   "id": "6766dcae-2df7-4301-8d43-1f8a2feffffc",
   "metadata": {},
   "outputs": [],
   "source": []
  },
  {
   "cell_type": "code",
   "execution_count": null,
   "id": "d2c8cc6d-065a-4f68-a18a-f6f7f5f68fa0",
   "metadata": {},
   "outputs": [],
   "source": []
  },
  {
   "cell_type": "code",
   "execution_count": null,
   "id": "b4e30dbb-4d50-403b-8c36-036a23229211",
   "metadata": {},
   "outputs": [],
   "source": []
  },
  {
   "cell_type": "code",
   "execution_count": null,
   "id": "1ce2b987-acfc-4248-ad9b-8fd72f3a1298",
   "metadata": {},
   "outputs": [],
   "source": []
  },
  {
   "cell_type": "code",
   "execution_count": null,
   "id": "42ba21d2-4e0d-44bd-98b1-f77033e5134c",
   "metadata": {},
   "outputs": [],
   "source": []
  },
  {
   "cell_type": "code",
   "execution_count": null,
   "id": "a916cdd3-bdfe-4421-b6d8-c2293f325d87",
   "metadata": {},
   "outputs": [],
   "source": []
  },
  {
   "cell_type": "code",
   "execution_count": null,
   "id": "a772f8ad-fb95-4bfe-83ce-2e53f119f916",
   "metadata": {},
   "outputs": [],
   "source": []
  },
  {
   "cell_type": "code",
   "execution_count": null,
   "id": "a6a82a4c-2b42-455b-a160-bae929e17d42",
   "metadata": {},
   "outputs": [],
   "source": []
  },
  {
   "cell_type": "code",
   "execution_count": null,
   "id": "5ca04b7d-d947-47a4-9f09-f39bde993445",
   "metadata": {},
   "outputs": [],
   "source": []
  },
  {
   "cell_type": "code",
   "execution_count": null,
   "id": "b58d4d56-5e83-4b7b-9765-1e46efd11c2b",
   "metadata": {},
   "outputs": [],
   "source": []
  }
 ],
 "metadata": {
  "kernelspec": {
   "display_name": "Python 3 (ipykernel)",
   "language": "python",
   "name": "python3"
  },
  "language_info": {
   "codemirror_mode": {
    "name": "ipython",
    "version": 3
   },
   "file_extension": ".py",
   "mimetype": "text/x-python",
   "name": "python",
   "nbconvert_exporter": "python",
   "pygments_lexer": "ipython3",
   "version": "3.12.9"
  }
 },
 "nbformat": 4,
 "nbformat_minor": 5
}
