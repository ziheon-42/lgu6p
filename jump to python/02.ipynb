{
 "cells": [
  {
   "cell_type": "markdown",
   "id": "99e2727a-0d2c-4a7c-a4f0-ceb341f1680f",
   "metadata": {},
   "source": [
    "# 02장"
   ]
  },
  {
   "cell_type": "markdown",
   "id": "b4f59b4b-a295-4b48-9937-4f725a4a07f9",
   "metadata": {},
   "source": [
    "## 02-1 숫자형\n",
    "- 숫자형이란 숫자로 이루어진 자료형\n",
    "- 정수 : 1, 2, 3...\n",
    "- 실수 : 12.34...\n",
    "- 8진수, 16진수 ..."
   ]
  },
  {
   "cell_type": "markdown",
   "id": "538bc469-027e-48ed-883c-cb9bdb1b4244",
   "metadata": {},
   "source": [
    "### 숫자형은 어덯게 만들고 사용할까?"
   ]
  },
  {
   "cell_type": "code",
   "execution_count": 3,
   "id": "20ad98e4-1b7b-41e4-8af3-8fab75cb5f4a",
   "metadata": {},
   "outputs": [],
   "source": [
    "# 정수형\n",
    ">>> a = 123\n",
    ">>> a = -178\n",
    ">>> a = 0"
   ]
  },
  {
   "cell_type": "code",
   "execution_count": 4,
   "id": "ebb7c1f3-a123-494e-845d-0ba0ff66eb06",
   "metadata": {},
   "outputs": [],
   "source": [
    "#실수형\n",
    ">>> a = 1.2\n",
    ">>> a = -3.45"
   ]
  },
  {
   "cell_type": "code",
   "execution_count": 5,
   "id": "4d9f7995-5f35-4368-a374-ed5686006330",
   "metadata": {},
   "outputs": [
    {
     "name": "stdout",
     "output_type": "stream",
     "text": [
      "127\n"
     ]
    }
   ],
   "source": [
    "#8진수\n",
    "#8진수를 만들기 위해서는 숫자 0o 또는 0O으로 시작\n",
    ">>> a = 0o177\n",
    "print(a)"
   ]
  },
  {
   "cell_type": "code",
   "execution_count": 10,
   "id": "63d3e6c2-2be3-44e0-b536-e5b22fe0dfd9",
   "metadata": {},
   "outputs": [
    {
     "name": "stdout",
     "output_type": "stream",
     "text": [
      "2748\n"
     ]
    }
   ],
   "source": [
    "#16진수_0x로 시작\n",
    ">>> a = 0x8ff\n",
    ">>> b = 0xABC\n",
    "print(b)"
   ]
  },
  {
   "cell_type": "markdown",
   "id": "ce88c1d5-3691-430c-b3d6-5f7d34c87c27",
   "metadata": {},
   "source": [
    "### 숫자형을 활용하기 위한 연산자"
   ]
  },
  {
   "cell_type": "code",
   "execution_count": 12,
   "id": "06d23904-4d26-463b-b65d-318e80111bca",
   "metadata": {},
   "outputs": [
    {
     "data": {
      "text/plain": [
       "0.75"
      ]
     },
     "execution_count": 12,
     "metadata": {},
     "output_type": "execute_result"
    }
   ],
   "source": [
    "# 사칙연산\n",
    "a = 3\n",
    "b = 4\n",
    "\n",
    "a + b\n",
    "a - b\n",
    "a * b\n",
    "a / b"
   ]
  },
  {
   "cell_type": "code",
   "execution_count": 13,
   "id": "5e670cf4-ba9a-410e-9a24-b94d00433373",
   "metadata": {},
   "outputs": [
    {
     "data": {
      "text/plain": [
       "81"
      ]
     },
     "execution_count": 13,
     "metadata": {},
     "output_type": "execute_result"
    }
   ],
   "source": [
    "# x의 y 제곱을 나타내는 ** 연산자\n",
    "a = 3\n",
    "b = 4\n",
    "a**b"
   ]
  },
  {
   "cell_type": "code",
   "execution_count": 15,
   "id": "2b13d856-f183-4013-a11e-cee2e3ff94b5",
   "metadata": {},
   "outputs": [
    {
     "data": {
      "text/plain": [
       "1"
      ]
     },
     "execution_count": 15,
     "metadata": {},
     "output_type": "execute_result"
    }
   ],
   "source": [
    "# 나눗셈 후 나머지 리턴하는 % 연산자\n",
    ">>> 7 % 3\n"
   ]
  },
  {
   "cell_type": "code",
   "execution_count": 16,
   "id": "63824673-16e2-4197-bcb5-ec57b0d41439",
   "metadata": {},
   "outputs": [
    {
     "data": {
      "text/plain": [
       "1.75"
      ]
     },
     "execution_count": 16,
     "metadata": {},
     "output_type": "execute_result"
    }
   ],
   "source": [
    "# 나눗셈 후 몫을 리턴하는 // 연산자\n",
    ">>> 7 / 4"
   ]
  },
  {
   "cell_type": "markdown",
   "id": "20f865c4-cc60-458f-814f-9ac2f6f50adc",
   "metadata": {},
   "source": [
    "## 02-2 문자열 자료형\n",
    "- 문자열이란 문자, 단어 등으로 구성된 문자들의 집합\n",
    "- ex) \"life is too, short\" , \"a\" , \"123\""
   ]
  },
  {
   "cell_type": "markdown",
   "id": "0798d69f-6062-4364-8835-1d7ff833b0eb",
   "metadata": {},
   "source": [
    "### 문자열은 어떻게 만들고 사용할까?\n",
    "- 큰 따옴표로 양쪽 둘러싸기 \"\"\n",
    "- 작은 따옴표로 양쪽 둘러싸기 ''\n",
    "- 큰 따옴표 3개 연속으로 써서 양쪽 둘러싸기 \"\"\" \"\"\"\n",
    "- 작은 따옴표 3개 연속으로 써서 양쪽 둘러싸기 ''' '''"
   ]
  },
  {
   "cell_type": "markdown",
   "id": "2d502dc9-8d3d-4c58-952b-b8d228c2842e",
   "metadata": {},
   "source": [
    "### 문자열 안에 작은 따옴표나 큰 따옴표를 포함시키고 싶을 때"
   ]
  },
  {
   "cell_type": "code",
   "execution_count": 18,
   "id": "24f0215b-c38a-4878-bcae-1faefedb4776",
   "metadata": {},
   "outputs": [
    {
     "data": {
      "text/plain": [
       "\"Python's favorite food is perl\""
      ]
     },
     "execution_count": 18,
     "metadata": {},
     "output_type": "execute_result"
    }
   ],
   "source": [
    "# 문자열에 작은 따옴표 포함하기\n",
    "food = \"Python's favorite food is perl\"\n",
    "food"
   ]
  },
  {
   "cell_type": "code",
   "execution_count": 20,
   "id": "91bdd639-01c1-4f2d-9c54-a9228f697444",
   "metadata": {},
   "outputs": [
    {
     "data": {
      "text/plain": [
       "'\"Python is very easy.\" he says.'"
      ]
     },
     "execution_count": 20,
     "metadata": {},
     "output_type": "execute_result"
    }
   ],
   "source": [
    "# 문자열에 큰 따옴표 포함하기\n",
    "say = '\"Python is very easy.\" he says.'\n",
    "say"
   ]
  },
  {
   "cell_type": "code",
   "execution_count": 24,
   "id": "09a304e7-8c7c-47a9-82c7-8b0a5192b94e",
   "metadata": {},
   "outputs": [
    {
     "data": {
      "text/plain": [
       "'\"Python is very easy.\" he says.'"
      ]
     },
     "execution_count": 24,
     "metadata": {},
     "output_type": "execute_result"
    }
   ],
   "source": [
    "# 역슬래시를 이용해서 작은 따옴표와 큰 따옴표를 문자열에 포함하기\n",
    "food = 'Python\\'s favorite food is perl'\n",
    "say = \"\\\"Python is very easy.\\\" he says.\"\n",
    "food\n",
    "say"
   ]
  },
  {
   "cell_type": "markdown",
   "id": "6fc495de-9902-4190-8714-b03bdda66692",
   "metadata": {},
   "source": [
    "### 여러 줄인 문자열을 변수에 대입하고 싶을 때"
   ]
  },
  {
   "cell_type": "code",
   "execution_count": 47,
   "id": "24033177-e40c-4574-a61c-a2ce6746ec2d",
   "metadata": {},
   "outputs": [
    {
     "name": "stdout",
     "output_type": "stream",
     "text": [
      "Life is too shrot\n",
      "You need python\n"
     ]
    }
   ],
   "source": [
    "# 줄을 바꾸기 위한 이스케이프 코드 \\n 삽입\n",
    "multiline = \"Life is too shrot\\nYou need python\"\n",
    "print(multiline)\n",
    "#\\n은 띄어쓰기 x"
   ]
  },
  {
   "cell_type": "code",
   "execution_count": 48,
   "id": "5f9f1ff4-fda7-4a19-846d-c4465e47958b",
   "metadata": {},
   "outputs": [
    {
     "name": "stdout",
     "output_type": "stream",
     "text": [
      "life is too short\n",
      "you need python\n"
     ]
    }
   ],
   "source": [
    "# 연속된 작은 따옴표 3개 도는 큰 따옴표 3개 사용\n",
    "multiline = \"\"\"life is too short\n",
    "you need python\"\"\"\n",
    "print(multiline)"
   ]
  },
  {
   "cell_type": "markdown",
   "id": "7b71f761-63de-4540-bda0-7bb000866137",
   "metadata": {},
   "source": [
    "### 문자열 연산하기\n",
    "- 파이썬은 문자열을 더하거나 곱할 수 있음"
   ]
  },
  {
   "cell_type": "code",
   "execution_count": 50,
   "id": "dadee926-4bc1-47fb-956a-d4ffae7c8ef3",
   "metadata": {},
   "outputs": [
    {
     "data": {
      "text/plain": [
       "'pythonis fun!'"
      ]
     },
     "execution_count": 50,
     "metadata": {},
     "output_type": "execute_result"
    }
   ],
   "source": [
    "# 문자열 더해서 만들기\n",
    "head = \"python\"\n",
    "tail = \"is fun!\"\n",
    "\n",
    "head + tail"
   ]
  },
  {
   "cell_type": "code",
   "execution_count": 51,
   "id": "29bdcd9a-7334-415c-a5d9-970a37de641c",
   "metadata": {},
   "outputs": [
    {
     "data": {
      "text/plain": [
       "'pythonpython'"
      ]
     },
     "execution_count": 51,
     "metadata": {},
     "output_type": "execute_result"
    }
   ],
   "source": [
    "# 문자열 곱하기\n",
    "a = \"python\"\n",
    "a * 2"
   ]
  },
  {
   "cell_type": "code",
   "execution_count": 55,
   "id": "f5975c11-6bd8-43bc-9d01-736d3a01d7e4",
   "metadata": {},
   "outputs": [
    {
     "name": "stdout",
     "output_type": "stream",
     "text": [
      "--------------------------------------------------\n",
      "my program\n",
      "--------------------------------------------------\n"
     ]
    }
   ],
   "source": [
    "# 문자열 곱하기를 응용하기\n",
    "print(\"-\" * 50)\n",
    "print(\"my program\")\n",
    "print(\"-\" *50)"
   ]
  },
  {
   "cell_type": "code",
   "execution_count": 56,
   "id": "9e2befcc-3eef-46e3-ad6a-3f1b9d54949d",
   "metadata": {},
   "outputs": [
    {
     "data": {
      "text/plain": [
       "17"
      ]
     },
     "execution_count": 56,
     "metadata": {},
     "output_type": "execute_result"
    }
   ],
   "source": [
    "# 문자열 길이 구하기\n",
    "a = \"life is too short\"\n",
    "len(a)"
   ]
  },
  {
   "cell_type": "markdown",
   "id": "f56c1cd9-9ef3-47bb-8389-df01a4578a82",
   "metadata": {},
   "source": [
    "### 문자열 인덱싱과 슬라이싱\n",
    "- 파이썬은 0부터 숫자를 센다\n",
    "- '-'는 뒤에서 부터 숫자를 센다\n",
    "- 슬라이싱은 [시작번호: 끝번호]를 지정할 때 끝 번호에 지정되는 "
   ]
  },
  {
   "cell_type": "code",
   "execution_count": 57,
   "id": "65d5679c-9517-48b6-9c1c-98f296db9865",
   "metadata": {},
   "outputs": [
    {
     "data": {
      "text/plain": [
       "'e'"
      ]
     },
     "execution_count": 57,
     "metadata": {},
     "output_type": "execute_result"
    }
   ],
   "source": [
    "# 문자열 인덱싱\n",
    "a = \"life is too short, you need python\"\n",
    "a[3]"
   ]
  },
  {
   "cell_type": "code",
   "execution_count": 58,
   "id": "a7b6abb2-b0bb-44db-8e0e-50194000e67b",
   "metadata": {},
   "outputs": [
    {
     "name": "stdout",
     "output_type": "stream",
     "text": [
      "l\n",
      "s\n",
      "n\n"
     ]
    }
   ],
   "source": [
    "# 문자열 인덱싱 활용하기\n",
    "a = \"life is too short, you need python\"\n",
    "print(a[0])\n",
    "print(a[12])\n",
    "print(a[-1])\n"
   ]
  },
  {
   "cell_type": "code",
   "execution_count": 62,
   "id": "248f139f-ec3c-4f18-aab7-f781ee2d7327",
   "metadata": {},
   "outputs": [
    {
     "name": "stdout",
     "output_type": "stream",
     "text": [
      "Life\n",
      "Life\n"
     ]
    }
   ],
   "source": [
    "# 문자열 슬라이싱\n",
    "a = \"Life is too short, You need Python\"\n",
    "b = a[0] + a[1] + a[2] + a[3]\n",
    "print(b)\n",
    "print(a[0:4])\n"
   ]
  },
  {
   "cell_type": "code",
   "execution_count": null,
   "id": "76784fbd-44d0-4b1e-b17b-2b3cf958b9f7",
   "metadata": {},
   "outputs": [],
   "source": []
  }
 ],
 "metadata": {
  "kernelspec": {
   "display_name": "Python 3 (ipykernel)",
   "language": "python",
   "name": "python3"
  },
  "language_info": {
   "codemirror_mode": {
    "name": "ipython",
    "version": 3
   },
   "file_extension": ".py",
   "mimetype": "text/x-python",
   "name": "python",
   "nbconvert_exporter": "python",
   "pygments_lexer": "ipython3",
   "version": "3.13.2"
  }
 },
 "nbformat": 4,
 "nbformat_minor": 5
}
