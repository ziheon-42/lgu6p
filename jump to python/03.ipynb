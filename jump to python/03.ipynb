{
 "cells": [
  {
   "cell_type": "markdown",
   "id": "0b3f4f81-6a7b-4c2f-95dd-46f62a8a6b8e",
   "metadata": {},
   "source": [
    "# 03장 제어문"
   ]
  },
  {
   "cell_type": "markdown",
   "id": "5947823c-4727-448f-8576-f89f1bc645ba",
   "metadata": {},
   "source": [
    "## 03-1 if문"
   ]
  },
  {
   "cell_type": "markdown",
   "id": "686cf7b3-a10d-45ea-8f1d-58690215dbe5",
   "metadata": {},
   "source": [
    "### if문은 왜 필요할까?\n",
    "- 프로그래밍에서 조건을 판단하여 해당 조건에 맞는 상황을 수행하는데 쓰는 것이 if문"
   ]
  },
  {
   "cell_type": "code",
   "execution_count": 1,
   "id": "56138d0e-fca7-4327-bacc-bbcac6a49c63",
   "metadata": {},
   "outputs": [
    {
     "name": "stdout",
     "output_type": "stream",
     "text": [
      "택시를 타고 가라\n"
     ]
    }
   ],
   "source": [
    "money = True #money에 True를 대입했으므로, money는 참\n",
    "if money:\n",
    "    print(\"택시를 타고 가라\")\n",
    "else: \n",
    "    print(\"걸어가라\")"
   ]
  },
  {
   "cell_type": "markdown",
   "id": "f32e38f2-3592-412f-884d-a97b07590540",
   "metadata": {},
   "source": [
    "### 들여쓰기 방법 알아보기\n",
    "- if 조건문:\n",
    "  + 수행할 문장"
   ]
  },
  {
   "cell_type": "markdown",
   "id": "f07550cf-e02d-46ed-935a-39b4b13ff5e9",
   "metadata": {},
   "source": [
    "### 조건문이란 무엇인가?\n",
    "- <\n",
    "- '>'\n",
    "- ==\n",
    "- !=\n",
    "- '>='\n",
    "- <=\n",
    "\n",
    "- x or y : x와 y 중 하나만 참이면 참\n",
    "- x and y : x와 y 둘 다 참이어야 참\n",
    "- not x : x가 거짓이면 참"
   ]
  },
  {
   "cell_type": "code",
   "execution_count": 2,
   "id": "f33e1bb4-328c-4f5c-b07c-5595240963a8",
   "metadata": {},
   "outputs": [
    {
     "data": {
      "text/plain": [
       "True"
      ]
     },
     "execution_count": 2,
     "metadata": {},
     "output_type": "execute_result"
    }
   ],
   "source": [
    "# 비교 연산자\n",
    "x = 3\n",
    "y = 2\n",
    "x > 2"
   ]
  },
  {
   "cell_type": "code",
   "execution_count": 3,
   "id": "21dec60c-8a01-47f5-a943-50c3400701ba",
   "metadata": {},
   "outputs": [
    {
     "name": "stdout",
     "output_type": "stream",
     "text": [
      "걸어가라\n"
     ]
    }
   ],
   "source": [
    "# 만일 3000원 이상의 돈을 가지고 있으면 택시를 타고 그렇지 않으면 걸어 가라\n",
    "money = 2000\n",
    "if money > 3000:\n",
    "    print(\"택시를 타라\")\n",
    "else:\n",
    "    print(\"걸어가라\")"
   ]
  },
  {
   "cell_type": "code",
   "execution_count": 4,
   "id": "f91abdd4-5122-433e-9d71-c466dc676dbd",
   "metadata": {},
   "outputs": [
    {
     "name": "stdout",
     "output_type": "stream",
     "text": [
      "택시를 타고 가라\n"
     ]
    }
   ],
   "source": [
    "# and, or, not\n",
    "# 돈이 3000원 이상 있거나 카드가 있다면 택시를 타고 가고 그렇지 않으면 걸어 가라\n",
    "\n",
    "money = 2000\n",
    "card = True\n",
    "if money >= 3000 or card:\n",
    "    print(\"택시를 타고 가라\")\n",
    "else:\n",
    "    print(\"걸어가라\")"
   ]
  },
  {
   "cell_type": "code",
   "execution_count": 5,
   "id": "d35def0f-e690-4fd2-8cc8-99aecf63d1af",
   "metadata": {},
   "outputs": [
    {
     "data": {
      "text/plain": [
       "False"
      ]
     },
     "execution_count": 5,
     "metadata": {},
     "output_type": "execute_result"
    }
   ],
   "source": [
    "# in, no in\n",
    "1 in [1,2,3]\n",
    "\n",
    "1 not in [1,2,3]"
   ]
  },
  {
   "cell_type": "code",
   "execution_count": 6,
   "id": "cb24db13-bbdc-4ac7-9bba-50b4af297677",
   "metadata": {},
   "outputs": [
    {
     "data": {
      "text/plain": [
       "True"
      ]
     },
     "execution_count": 6,
     "metadata": {},
     "output_type": "execute_result"
    }
   ],
   "source": [
    "'a' in ('a','b','c')"
   ]
  },
  {
   "cell_type": "code",
   "execution_count": 7,
   "id": "c673caf6-17f7-4a39-83ca-984ddba8617a",
   "metadata": {},
   "outputs": [
    {
     "name": "stdout",
     "output_type": "stream",
     "text": [
      "택시를 타고 가라\n"
     ]
    }
   ],
   "source": [
    "pocket = ['paper', 'cellphone', 'money']\n",
    "if 'money' in pocket:\n",
    "    print(\"택시를 타고 가라\")\n",
    "else:\n",
    "    print(\"걸어가라\")"
   ]
  },
  {
   "cell_type": "code",
   "execution_count": 8,
   "id": "f6c0c547-750a-412d-b61a-108cc47a09dc",
   "metadata": {},
   "outputs": [],
   "source": [
    "# 조건문 pass_ 아무 일도 일어나지 않게 설정\n",
    "\n",
    "pocket = ['paper', 'cellphone', 'money']\n",
    "if 'money' in pocket:\n",
    "    pass\n",
    "else:\n",
    "    print(\"걸어가라\")"
   ]
  },
  {
   "cell_type": "code",
   "execution_count": 9,
   "id": "a180b6e1-4613-42fc-8b86-17245a00ef53",
   "metadata": {},
   "outputs": [
    {
     "name": "stdout",
     "output_type": "stream",
     "text": [
      "택시 타고 가라\n"
     ]
    }
   ],
   "source": [
    "### 다양한 조건을 판단하는 elif\n",
    "pocket = ['paper', 'cellphone']\n",
    "card = True\n",
    "if 'money' in pocket: #주머니에 돈이 있으면\n",
    "    print(\"택시 타고 가라\")\n",
    "elif card: # 주머니에 돈이 없고 카드가 있으면\n",
    "    print(\"택시 타고 가라\")\n",
    "else: # 주머니에 돈도 없고 카드도 없으면\n",
    "    print(\"걸어가라\")"
   ]
  },
  {
   "cell_type": "code",
   "execution_count": 10,
   "id": "28502ada-d62f-429f-8514-cb3069cdcde1",
   "metadata": {},
   "outputs": [
    {
     "name": "stdout",
     "output_type": "stream",
     "text": [
      "카드를 꺼내라\n"
     ]
    }
   ],
   "source": [
    "# if문 한 줄로 작성하기\n",
    "pocket = ['paper', 'cellphone']\n",
    "if 'money' in pocket: pass\n",
    "else: print(\"카드를 꺼내라\")"
   ]
  },
  {
   "cell_type": "markdown",
   "id": "3280872f-75b5-49aa-b06d-35e8093c67b0",
   "metadata": {},
   "source": [
    "### 조건부 표현식\n",
    "- 변수 = 조건문이 참인 경우의 값 if 조건문 esle 조건문이 거짓인 경우의 값"
   ]
  },
  {
   "cell_type": "code",
   "execution_count": 11,
   "id": "dd940ad4-b8f5-4f4f-877a-9c3b1146d397",
   "metadata": {},
   "outputs": [],
   "source": [
    "#if score >= 60:\n",
    "#    message = \"success\"\n",
    "#else:\n",
    "#    message = \"failure\"\n",
    "\n",
    "#== message = \"success\" if score >= 60 else \"failure\""
   ]
  },
  {
   "cell_type": "markdown",
   "id": "7b3542a6-2df0-463c-8ae8-b1f4c738de4d",
   "metadata": {},
   "source": [
    "## 03-2 while문"
   ]
  },
  {
   "cell_type": "markdown",
   "id": "1d958b3a-7730-48dd-b3c3-2beac48f4d6d",
   "metadata": {},
   "source": [
    "### while문의 기본 구조\n",
    "- while 조건문\n",
    "  + 수행할_문장1\n",
    "  + 수행할 문장2\n",
    "  + ..."
   ]
  },
  {
   "cell_type": "code",
   "execution_count": 12,
   "id": "feeead93-c8f7-4421-83ad-f6072a0513ce",
   "metadata": {},
   "outputs": [
    {
     "name": "stdout",
     "output_type": "stream",
     "text": [
      "나무를 1번 찍었습니다.\n",
      "나무를 2번 찍었습니다.\n",
      "나무를 3번 찍었습니다.\n",
      "나무를 4번 찍었습니다.\n",
      "나무를 5번 찍었습니다.\n",
      "나무를 6번 찍었습니다.\n",
      "나무를 7번 찍었습니다.\n",
      "나무를 8번 찍었습니다.\n",
      "나무를 9번 찍었습니다.\n",
      "나무를 10번 찍었습니다.\n",
      "나무 넘어갑니다.\n"
     ]
    }
   ],
   "source": [
    "treeHit = 0\n",
    "while treeHit < 10:\n",
    "    treeHit = treeHit + 1\n",
    "    print(\"나무를 %d번 찍었습니다.\" %treeHit)\n",
    "    if treeHit == 10:\n",
    "        print(\"나무 넘어갑니다.\")"
   ]
  },
  {
   "cell_type": "markdown",
   "id": "a43fe730-2ac1-4fd2-97b5-d07143ff3202",
   "metadata": {},
   "source": [
    "### while문 만들기"
   ]
  },
  {
   "cell_type": "code",
   "execution_count": 13,
   "id": "4a1f2a81-e9d0-4879-b9f6-256e1e275623",
   "metadata": {},
   "outputs": [],
   "source": [
    "prompt = \"\"\"\n",
    "    1. Add\n",
    "    2. Del\n",
    "    3. List\n",
    "    4. Quit\n",
    "\n",
    "    Enter number: \"\"\"\n",
    "\n",
    "# 따옴표 3개를 하면\\n을 사용하지 않아도 그대로 문자열로 사용이 가능함"
   ]
  },
  {
   "cell_type": "code",
   "execution_count": null,
   "id": "a62b4e9e-cda2-445b-aecd-76cdc0fa14e4",
   "metadata": {},
   "outputs": [],
   "source": [
    "number = 0 #번호를 입력받을 변수\n",
    "while number != 4: #입력 받은 번호가 4가 아닌 동안 반복\n",
    "    print(prompt)\n",
    "    number = int(input())"
   ]
  },
  {
   "cell_type": "markdown",
   "id": "c431c11b-fda3-4a18-a5ce-2fe07d18972b",
   "metadata": {},
   "source": [
    "### while문 강제로 빠져나가기\n",
    "- while문은 조건문이 참인 동안 계속 while 문 안의 내용을 반복적으로 수행\n",
    "- break를 사용하여 강제 종료"
   ]
  },
  {
   "cell_type": "code",
   "execution_count": 15,
   "id": "7c22709c-3530-454e-a62c-bac111aa0eb1",
   "metadata": {},
   "outputs": [
    {
     "name": "stdout",
     "output_type": "stream",
     "text": [
      "돈을 받았으니 커피를 줍니다.\n",
      "남은 커피 양은 9개 입니다.\n",
      "돈을 받았으니 커피를 줍니다.\n",
      "남은 커피 양은 8개 입니다.\n",
      "돈을 받았으니 커피를 줍니다.\n",
      "남은 커피 양은 7개 입니다.\n",
      "돈을 받았으니 커피를 줍니다.\n",
      "남은 커피 양은 6개 입니다.\n",
      "돈을 받았으니 커피를 줍니다.\n",
      "남은 커피 양은 5개 입니다.\n",
      "돈을 받았으니 커피를 줍니다.\n",
      "남은 커피 양은 4개 입니다.\n",
      "돈을 받았으니 커피를 줍니다.\n",
      "남은 커피 양은 3개 입니다.\n",
      "돈을 받았으니 커피를 줍니다.\n",
      "남은 커피 양은 2개 입니다.\n",
      "돈을 받았으니 커피를 줍니다.\n",
      "남은 커피 양은 1개 입니다.\n",
      "돈을 받았으니 커피를 줍니다.\n",
      "남은 커피 양은 0개 입니다.\n",
      "커피가 다 떨어졌습니다. 판매를 중지합니다.\n"
     ]
    }
   ],
   "source": [
    "coffee = 10\n",
    "money = 300\n",
    "while money:\n",
    "    print(\"돈을 받았으니 커피를 줍니다.\")\n",
    "    coffee = coffee -1\n",
    "    print(\"남은 커피 양은 %d개 입니다.\" % coffee)\n",
    "    if coffee == 0:\n",
    "        print(\"커피가 다 떨어졌습니다. 판매를 중지합니다.\")\n",
    "        break"
   ]
  },
  {
   "cell_type": "code",
   "execution_count": 16,
   "id": "402accfb-266e-46c9-a4c5-b15ffada6679",
   "metadata": {},
   "outputs": [
    {
     "name": "stdin",
     "output_type": "stream",
     "text": [
      "돈을 넣어주세요:  300\n"
     ]
    },
    {
     "name": "stdout",
     "output_type": "stream",
     "text": [
      "커피를 줍니다\n"
     ]
    },
    {
     "name": "stdin",
     "output_type": "stream",
     "text": [
      "돈을 넣어주세요:  300\n"
     ]
    },
    {
     "name": "stdout",
     "output_type": "stream",
     "text": [
      "커피를 줍니다\n"
     ]
    },
    {
     "name": "stdin",
     "output_type": "stream",
     "text": [
      "돈을 넣어주세요:  100\n"
     ]
    },
    {
     "name": "stdout",
     "output_type": "stream",
     "text": [
      "돈을 다시 돌려주고 커피를 주지 않습니다.\n",
      "남은 커피의 양은 8개 입니다.\n"
     ]
    },
    {
     "name": "stdin",
     "output_type": "stream",
     "text": [
      "돈을 넣어주세요:  0\n"
     ]
    },
    {
     "name": "stdout",
     "output_type": "stream",
     "text": [
      "돈을 다시 돌려주고 커피를 주지 않습니다.\n",
      "남은 커피의 양은 8개 입니다.\n"
     ]
    },
    {
     "name": "stdin",
     "output_type": "stream",
     "text": [
      "돈을 넣어주세요:  300\n"
     ]
    },
    {
     "name": "stdout",
     "output_type": "stream",
     "text": [
      "커피를 줍니다\n"
     ]
    },
    {
     "name": "stdin",
     "output_type": "stream",
     "text": [
      "돈을 넣어주세요:  300\n"
     ]
    },
    {
     "name": "stdout",
     "output_type": "stream",
     "text": [
      "커피를 줍니다\n"
     ]
    },
    {
     "name": "stdin",
     "output_type": "stream",
     "text": [
      "돈을 넣어주세요:  300\n"
     ]
    },
    {
     "name": "stdout",
     "output_type": "stream",
     "text": [
      "커피를 줍니다\n"
     ]
    },
    {
     "name": "stdin",
     "output_type": "stream",
     "text": [
      "돈을 넣어주세요:  300\n"
     ]
    },
    {
     "name": "stdout",
     "output_type": "stream",
     "text": [
      "커피를 줍니다\n"
     ]
    },
    {
     "name": "stdin",
     "output_type": "stream",
     "text": [
      "돈을 넣어주세요:  300\n"
     ]
    },
    {
     "name": "stdout",
     "output_type": "stream",
     "text": [
      "커피를 줍니다\n"
     ]
    },
    {
     "name": "stdin",
     "output_type": "stream",
     "text": [
      "돈을 넣어주세요:  300\n"
     ]
    },
    {
     "name": "stdout",
     "output_type": "stream",
     "text": [
      "커피를 줍니다\n"
     ]
    },
    {
     "name": "stdin",
     "output_type": "stream",
     "text": [
      "돈을 넣어주세요:  300\n"
     ]
    },
    {
     "name": "stdout",
     "output_type": "stream",
     "text": [
      "커피를 줍니다\n"
     ]
    },
    {
     "name": "stdin",
     "output_type": "stream",
     "text": [
      "돈을 넣어주세요:  300\n"
     ]
    },
    {
     "name": "stdout",
     "output_type": "stream",
     "text": [
      "커피를 줍니다\n",
      "커피가 다 떨어졌습니다. 판매를 중지합니다.\n"
     ]
    }
   ],
   "source": [
    "# coffee.py\n",
    "coffee = 10\n",
    "while True:\n",
    "    money= int(input(\"돈을 넣어주세요: \"))\n",
    "    if money == 300:\n",
    "        print(\"커피를 줍니다\")\n",
    "        coffee -= 1\n",
    "    elif money > 300:\n",
    "        print(\"거스름돈 %d를 주고 커피를 줍니다.\" %(money -300))\n",
    "        coffee -= 1\n",
    "    else:\n",
    "        print(\"돈을 다시 돌려주고 커피를 주지 않습니다.\")\n",
    "        print(\"남은 커피의 양은 %d개 입니다.\" %coffee)\n",
    "    if coffee == 0:\n",
    "        print(\"커피가 다 떨어졌습니다. 판매를 중지합니다.\")\n",
    "        break"
   ]
  },
  {
   "cell_type": "markdown",
   "id": "225e578b-b045-43e3-8b39-49a73190138a",
   "metadata": {},
   "source": [
    "### while문의 맨 처음으로 돌아가기\n",
    "- while문의 문장을 수행할때 입력 조건을 검사해서 맞지 않으면 while문을 빠져나가는데, 빠져나가지 않고 맨 처음(조건문)으로 다시 돌아가게 만들고 싶은 경우\n",
    "- countinue 사용"
   ]
  },
  {
   "cell_type": "code",
   "execution_count": 19,
   "id": "37d47a76-8203-4205-8206-9137ec06edd6",
   "metadata": {},
   "outputs": [
    {
     "name": "stdout",
     "output_type": "stream",
     "text": [
      "1\n",
      "3\n",
      "5\n",
      "7\n",
      "9\n"
     ]
    }
   ],
   "source": [
    "a = 0\n",
    "while a < 10:\n",
    "    a += 1\n",
    "    if a %2 == 0: continue\n",
    "    print(a)"
   ]
  },
  {
   "cell_type": "markdown",
   "id": "c2b3bfa3-b025-4726-ad3b-1a8d3a1b1abf",
   "metadata": {},
   "source": [
    "### 무한 루프\n",
    "- while True:\n",
    "  + 수행할 문장"
   ]
  },
  {
   "cell_type": "code",
   "execution_count": 1,
   "id": "0cfd7022-c68a-4c39-a775-53d8b79b382e",
   "metadata": {},
   "outputs": [],
   "source": [
    "#while True:\n",
    "#    print(\"ctrl + c 를 눌러야 while문을 빠져나갈 수 있습니다.\")"
   ]
  },
  {
   "cell_type": "markdown",
   "id": "77c33bc3-cd54-4b45-815a-f1cdafb2a6af",
   "metadata": {},
   "source": [
    "## 03-3 for문\n",
    "- for 변수 in 리스트(or 튜플, 문자열):\n",
    "  + 수행할 문장"
   ]
  },
  {
   "cell_type": "markdown",
   "id": "dcff4dc8-5ff8-4b98-aee1-973c1f3031f8",
   "metadata": {},
   "source": [
    "### 예제를 통해 for문 이해하기"
   ]
  },
  {
   "cell_type": "code",
   "execution_count": 2,
   "id": "32270acb-d6f6-4c37-807b-8624077f9bd2",
   "metadata": {},
   "outputs": [
    {
     "name": "stdout",
     "output_type": "stream",
     "text": [
      "one\n",
      "two\n",
      "three\n"
     ]
    }
   ],
   "source": [
    "# 전형적인 for문\n",
    "test_list = ['one', 'two', 'three']\n",
    "for i in test_list:\n",
    "    print(i)"
   ]
  },
  {
   "cell_type": "code",
   "execution_count": 6,
   "id": "31c69eda-25a9-4a88-a460-03e9896fd83e",
   "metadata": {},
   "outputs": [
    {
     "name": "stdout",
     "output_type": "stream",
     "text": [
      "3\n",
      "7\n",
      "11\n"
     ]
    }
   ],
   "source": [
    "# 다양한 for문의 사용\n",
    "a = [(1,2), (3,4), (5,6)]\n",
    "for (first, last) in a:\n",
    "    print((first + last))"
   ]
  },
  {
   "cell_type": "code",
   "execution_count": 7,
   "id": "31e657cf-7b65-4730-a140-f6addd1d5dd3",
   "metadata": {},
   "outputs": [
    {
     "name": "stdout",
     "output_type": "stream",
     "text": [
      "1번 학생은 합격입니다.\n",
      "2번 학생은 불합격입니다.\n",
      "3번 학생은 합격입니다.\n",
      "4번 학생은 불합격입니다.\n",
      "5번 학생은 합격입니다.\n"
     ]
    }
   ],
   "source": [
    "# for문의 응용\n",
    "# 시험 점수가 60점 이상이면 합격, 그렇지 않으면 불합격\n",
    "marks = [90, 25, 67,45, 80] #학생들의 시험 점수 리스트\n",
    "\n",
    "number = 0\n",
    "for mark in marks:\n",
    "    number +=1\n",
    "    if mark >=60:\n",
    "        print(\"%d번 학생은 합격입니다.\" %number)\n",
    "    else:\n",
    "        print(\"%d번 학생은 불합격입니다.\" %number)"
   ]
  },
  {
   "cell_type": "code",
   "execution_count": 8,
   "id": "431bcc42-fb80-41eb-8f20-57866acdad2c",
   "metadata": {},
   "outputs": [
    {
     "name": "stdout",
     "output_type": "stream",
     "text": [
      "1번 학생 축하합니다. 합격입니다.\n",
      "3번 학생 축하합니다. 합격입니다.\n",
      "5번 학생 축하합니다. 합격입니다.\n"
     ]
    }
   ],
   "source": [
    "# for문과 continue문\n",
    "# 문장을 수행하던 중 cotinue를 만나면 for문의 처음으로 돌아감\n",
    "\n",
    "marks = [90, 25, 67,45, 80]\n",
    "\n",
    "number = 0\n",
    "for mark in marks:\n",
    "    number = number +1\n",
    "    if mark <60:\n",
    "        continue\n",
    "    print(\"%d번 학생 축하합니다. 합격입니다.\" %number)"
   ]
  },
  {
   "cell_type": "markdown",
   "id": "57a32a79-02ac-46b5-a0fe-11b0beda8d6b",
   "metadata": {},
   "source": [
    "### for문과 함께 자주 사용하는 range 함수\n",
    "- for문은 숫자 리스트를 자동으로 만들어주는 range 함수와 함께 사용하는 경우가 많음"
   ]
  },
  {
   "cell_type": "code",
   "execution_count": 11,
   "id": "179aca51-9bb8-4992-b329-9f77766f99f9",
   "metadata": {},
   "outputs": [
    {
     "data": {
      "text/plain": [
       "range(0, 10)"
      ]
     },
     "execution_count": 11,
     "metadata": {},
     "output_type": "execute_result"
    }
   ],
   "source": [
    "a = range(10)\n",
    "a"
   ]
  },
  {
   "cell_type": "code",
   "execution_count": 12,
   "id": "94c70831-9eaa-4cc9-8800-ebfdf0bb3758",
   "metadata": {},
   "outputs": [
    {
     "data": {
      "text/plain": [
       "range(1, 11)"
      ]
     },
     "execution_count": 12,
     "metadata": {},
     "output_type": "execute_result"
    }
   ],
   "source": [
    "a = range(1,11)\n",
    "a"
   ]
  },
  {
   "cell_type": "markdown",
   "id": "1d4ebe66-7341-4570-9cec-4deca77c4478",
   "metadata": {},
   "source": [
    "### range 함수의 예시 살펴보기"
   ]
  },
  {
   "cell_type": "code",
   "execution_count": 13,
   "id": "62ccb3c3-c92f-491f-bd57-32efba1b101b",
   "metadata": {},
   "outputs": [
    {
     "name": "stdout",
     "output_type": "stream",
     "text": [
      "55\n"
     ]
    }
   ],
   "source": [
    "add = 0\n",
    "for i in range(1,11):\n",
    "    add = add + i\n",
    "\n",
    "print(add)"
   ]
  },
  {
   "cell_type": "code",
   "execution_count": 17,
   "id": "7df1bf24-2599-4299-b302-7af0cda312d5",
   "metadata": {},
   "outputs": [
    {
     "name": "stdout",
     "output_type": "stream",
     "text": [
      "1번 학생 축하합니다. 합격입니다.\n",
      "3번 학생 축하합니다. 합격입니다.\n",
      "5번 학생 축하합니다. 합격입니다.\n"
     ]
    }
   ],
   "source": [
    "marks = [90, 25, 67,45, 80]\n",
    "for number in range(len(marks)):\n",
    "    #print(marks[number])\n",
    "    if marks[number] < 60:\n",
    "        continue\n",
    "    print(\"%d번 학생 축하합니다. 합격입니다.\" %(number +1))"
   ]
  },
  {
   "cell_type": "markdown",
   "id": "fd922844-d861-4181-b5b5-41ae6accaa51",
   "metadata": {},
   "source": [
    "### for와 range를 이용한 구구단"
   ]
  },
  {
   "cell_type": "code",
   "execution_count": 28,
   "id": "b775effb-e514-4342-adfa-78f1ccccdad9",
   "metadata": {},
   "outputs": [
    {
     "name": "stdout",
     "output_type": "stream",
     "text": [
      "2 4 6 8 10 12 14 16 18 \n",
      "3 6 9 12 15 18 21 24 27 \n",
      "4 8 12 16 20 24 28 32 36 \n",
      "5 10 15 20 25 30 35 40 45 \n",
      "6 12 18 24 30 36 42 48 54 \n",
      "7 14 21 28 35 42 49 56 63 \n",
      "8 16 24 32 40 48 56 64 72 \n",
      "9 18 27 36 45 54 63 72 81 \n"
     ]
    }
   ],
   "source": [
    "for i in range(2,10):\n",
    "    for j in range(1,10):\n",
    "        print(i*j, end = ' ') #줄바꿈(\\n) 대신 어떤 문자를 쓸지 지정하는 역할\n",
    "    print('')"
   ]
  },
  {
   "cell_type": "markdown",
   "id": "ef5f9fb8-8f38-4061-b14a-d85f5b4dc57e",
   "metadata": {},
   "source": [
    "### 리스트 컴프리헨션 사용하기\n",
    "- [표현식 for 변수 in 반복가능한 객체 if 조건]\n",
    "- for문을 2개 이상 사용하는 것도 가능\n",
    "- [표현식 for 항목1 in 반복 가능 객체1 if 조건문1\n",
    "- for 항목2 in 반복 가능 객체2 if 조건문2\n",
    "- ...]"
   ]
  },
  {
   "cell_type": "code",
   "execution_count": 32,
   "id": "d9019cac-cfd7-409d-842e-972c0b890a2c",
   "metadata": {},
   "outputs": [
    {
     "name": "stdout",
     "output_type": "stream",
     "text": [
      "[3, 6, 9, 12]\n"
     ]
    }
   ],
   "source": [
    "a = [1,2,3,4]\n",
    "result = []\n",
    "for num in a:\n",
    "    result.append(num*3)\n",
    "print(result)"
   ]
  },
  {
   "cell_type": "code",
   "execution_count": 33,
   "id": "d5f98fd7-9c53-4610-8d92-2fc8b8e3bd32",
   "metadata": {},
   "outputs": [
    {
     "name": "stdout",
     "output_type": "stream",
     "text": [
      "[3, 6, 9, 12]\n"
     ]
    }
   ],
   "source": [
    "a = [1,2,3,4]\n",
    "result = [num * 3 for num in a]\n",
    "print(result)"
   ]
  },
  {
   "cell_type": "code",
   "execution_count": 35,
   "id": "366f69c5-4251-464a-bcbf-c5af1e0c283f",
   "metadata": {},
   "outputs": [
    {
     "name": "stdout",
     "output_type": "stream",
     "text": [
      "[6, 12]\n"
     ]
    }
   ],
   "source": [
    "a = [1,2,3,4]\n",
    "result = [num *3 for num in a if num %2 ==0]\n",
    "print(result)"
   ]
  },
  {
   "cell_type": "code",
   "execution_count": 36,
   "id": "04209dca-197c-40c9-8e2b-f87d11ff570d",
   "metadata": {},
   "outputs": [
    {
     "name": "stdout",
     "output_type": "stream",
     "text": [
      "[2, 4, 6, 8, 10, 12, 14, 16, 18, 3, 6, 9, 12, 15, 18, 21, 24, 27, 4, 8, 12, 16, 20, 24, 28, 32, 36, 5, 10, 15, 20, 25, 30, 35, 40, 45, 6, 12, 18, 24, 30, 36, 42, 48, 54, 7, 14, 21, 28, 35, 42, 49, 56, 63, 8, 16, 24, 32, 40, 48, 56, 64, 72, 9, 18, 27, 36, 45, 54, 63, 72, 81]\n"
     ]
    }
   ],
   "source": [
    "result = [x*y for x in range(2,10)\n",
    "          for y in range(1,10)]\n",
    "print(result)"
   ]
  },
  {
   "cell_type": "code",
   "execution_count": null,
   "id": "abd1996d-f525-456e-831a-4bd94f81feea",
   "metadata": {},
   "outputs": [],
   "source": []
  }
 ],
 "metadata": {
  "kernelspec": {
   "display_name": "Python 3 (ipykernel)",
   "language": "python",
   "name": "python3"
  },
  "language_info": {
   "codemirror_mode": {
    "name": "ipython",
    "version": 3
   },
   "file_extension": ".py",
   "mimetype": "text/x-python",
   "name": "python",
   "nbconvert_exporter": "python",
   "pygments_lexer": "ipython3",
   "version": "3.13.2"
  }
 },
 "nbformat": 4,
 "nbformat_minor": 5
}
