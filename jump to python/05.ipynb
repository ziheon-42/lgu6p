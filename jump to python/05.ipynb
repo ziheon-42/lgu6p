{
 "cells": [
  {
   "cell_type": "markdown",
   "id": "7c7977b4-df43-4401-a35e-e64a1b7fbd31",
   "metadata": {},
   "source": [
    "# 05장 클래스, 모듈, 예외 처리 및 파이썬 라이브러리"
   ]
  },
  {
   "cell_type": "markdown",
   "id": "64379d38-a1a1-4280-9b19-4d9e774ccf59",
   "metadata": {},
   "source": [
    "## 05-1 클래스"
   ]
  },
  {
   "cell_type": "markdown",
   "id": "8dba97c5-ccda-412c-a412-1de7f62662c6",
   "metadata": {},
   "source": [
    "### 계산기 프로그램을 만들며 클래스 알아보기\n",
    "- 3 + 4를 입력하면 7이라는 결과값이 나옴\n",
    "- 그 다음 또 + 3을 하면 10이라는 결과값이 나옴\n",
    "- 이처럼 계산기는 결과값을 항상 메모리 어딘가에 저장하고 있어야 함"
   ]
  },
  {
   "cell_type": "code",
   "execution_count": 4,
   "id": "59775a7b-8509-4f7a-bf43-2c6075f7e95c",
   "metadata": {},
   "outputs": [
    {
     "name": "stdout",
     "output_type": "stream",
     "text": [
      "3\n",
      "7\n"
     ]
    }
   ],
   "source": [
    "#calculator.py\n",
    "result = 0\n",
    "\n",
    "def add(num):\n",
    "    global result\n",
    "    result += num\n",
    "    return result\n",
    "\n",
    "print(add(3))\n",
    "print(add(4))"
   ]
  },
  {
   "cell_type": "code",
   "execution_count": 6,
   "id": "9b51e5c4-73aa-4118-a5f4-3d5cc1f1d553",
   "metadata": {},
   "outputs": [
    {
     "name": "stdout",
     "output_type": "stream",
     "text": [
      "3\n",
      "5\n"
     ]
    }
   ],
   "source": [
    "#calculator2.py\n",
    "result1 = 0\n",
    "result2 = 0\n",
    "\n",
    "def add1(num): #계산기 1\n",
    "    global result1\n",
    "    result1 += num\n",
    "    return result1\n",
    "\n",
    "def add2(num): #계산기 2\n",
    "    global result2\n",
    "    result2 += num\n",
    "    return result2\n",
    "\n",
    "print(add1(3))\n",
    "print(add2(5))"
   ]
  },
  {
   "cell_type": "code",
   "execution_count": 8,
   "id": "031b544e-e199-47bd-93b5-8fde6ee602b3",
   "metadata": {},
   "outputs": [
    {
     "name": "stdout",
     "output_type": "stream",
     "text": [
      "3\n",
      "3\n"
     ]
    }
   ],
   "source": [
    "#calculator3.py\n",
    "class Calculator:\n",
    "    def __init__(self):\n",
    "        self.result = 0\n",
    "\n",
    "    def add(self, num):\n",
    "        self.result += num\n",
    "        return self.result\n",
    "\n",
    "cal1 = Calculator()\n",
    "cal2 = Calculator()\n",
    "\n",
    "print(cal1.add(3))\n",
    "print(cal2.add(3))\n",
    "\n",
    "# 동일 결과값 출력\n",
    "# Calculator 클래스로 만든 별개의 계산기 cal1, cal2(객체)가 각각의 역할을 수행"
   ]
  },
  {
   "cell_type": "code",
   "execution_count": 9,
   "id": "2a904991-ffc1-4dda-a4cd-7e7f3b6f75e3",
   "metadata": {},
   "outputs": [
    {
     "name": "stdout",
     "output_type": "stream",
     "text": [
      "3\n",
      "2\n"
     ]
    }
   ],
   "source": [
    "#calculator3.py\n",
    "class Calculator:\n",
    "    def __init__(self):\n",
    "        self.result = 0\n",
    "\n",
    "    def add(self, num):\n",
    "        self.result += num\n",
    "        return self.result\n",
    "\n",
    "    def sub(self, num):\n",
    "        self.result -= num\n",
    "        return self.result\n",
    "\n",
    "cal1 = Calculator()\n",
    "\n",
    "print(cal1.add(3))\n",
    "print(cal1.sub(1))"
   ]
  },
  {
   "cell_type": "markdown",
   "id": "fef00607-7ccd-46cc-a38c-7866dda8854a",
   "metadata": {},
   "source": [
    "### 클래스와 객체\n",
    "- 과자를 만든다는 가정하에\n",
    "  + 과자틀 = 클래스\n",
    "  + 과자틀로 찍어낸 과자 = 객체"
   ]
  },
  {
   "cell_type": "code",
   "execution_count": null,
   "id": "d17d2d06-8756-4bf3-8374-8c66f964c132",
   "metadata": {},
   "outputs": [],
   "source": []
  }
 ],
 "metadata": {
  "kernelspec": {
   "display_name": "Python 3 (ipykernel)",
   "language": "python",
   "name": "python3"
  },
  "language_info": {
   "codemirror_mode": {
    "name": "ipython",
    "version": 3
   },
   "file_extension": ".py",
   "mimetype": "text/x-python",
   "name": "python",
   "nbconvert_exporter": "python",
   "pygments_lexer": "ipython3",
   "version": "3.13.2"
  }
 },
 "nbformat": 4,
 "nbformat_minor": 5
}
