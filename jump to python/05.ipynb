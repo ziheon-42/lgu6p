{
 "cells": [
  {
   "cell_type": "markdown",
   "id": "9850cc96-f6a8-4af8-a500-69688ba04b67",
   "metadata": {},
   "source": [
    "# 05장 파이썬 날개달기"
   ]
  },
  {
   "cell_type": "markdown",
   "id": "db0a414f-01dd-4748-9d7e-30762ef3b2df",
   "metadata": {},
   "source": [
    "## 05-1 클래스"
   ]
  },
  {
   "cell_type": "markdown",
   "id": "c958cad2-7d23-43f2-a776-d88d03a7000e",
   "metadata": {},
   "source": [
    "## 05-2 모듈\n",
    "- 함수나 변수 또는 클래스를 모아 놓은 파이썬 파일\n",
    "- 다른 파이썬 프로그램을 불러와 사용할 수 있도록 만든 파이썬 파일"
   ]
  },
  {
   "cell_type": "markdown",
   "id": "5b27fd5b-7976-4d39-89a1-6a84e01ef932",
   "metadata": {},
   "source": [
    "### 모듈 만들기"
   ]
  },
  {
   "cell_type": "code",
   "execution_count": 1,
   "id": "6d85d873-bd8e-4979-8b70-94faf70f1cf2",
   "metadata": {},
   "outputs": [],
   "source": [
    "# mod1.py\n",
    "def add(a, b):\n",
    "    return a + b\n",
    "\n",
    "def sub(a, b):\n",
    "    return a -b"
   ]
  },
  {
   "cell_type": "markdown",
   "id": "ca299e13-948b-4a5f-9ba8-33c421fab593",
   "metadata": {},
   "source": [
    "### 모듈 불러오기\n",
    "- 프롬프트 창을 열고 mod1.py를 저장한 디렉토리로 이동한 후 대화형 인터프리터 실행"
   ]
  },
  {
   "cell_type": "code",
   "execution_count": null,
   "id": "721f215e-7230-499f-8937-45da6041200c",
   "metadata": {},
   "outputs": [],
   "source": []
  }
 ],
 "metadata": {
  "kernelspec": {
   "display_name": "Python 3 (ipykernel)",
   "language": "python",
   "name": "python3"
  },
  "language_info": {
   "codemirror_mode": {
    "name": "ipython",
    "version": 3
   },
   "file_extension": ".py",
   "mimetype": "text/x-python",
   "name": "python",
   "nbconvert_exporter": "python",
   "pygments_lexer": "ipython3",
   "version": "3.12.9"
  }
 },
 "nbformat": 4,
 "nbformat_minor": 5
}
