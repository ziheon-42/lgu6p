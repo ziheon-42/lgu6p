{
 "cells": [
  {
   "cell_type": "markdown",
   "id": "7c7977b4-df43-4401-a35e-e64a1b7fbd31",
   "metadata": {},
   "source": [
    "# 05장 클래스, 모듈, 예외 처리 및 파이썬 라이브러리"
   ]
  },
  {
   "cell_type": "markdown",
   "id": "64379d38-a1a1-4280-9b19-4d9e774ccf59",
   "metadata": {},
   "source": [
    "## 05-1 클래스"
   ]
  },
  {
   "cell_type": "code",
   "execution_count": null,
   "id": "1b03ecce-92f1-4c96-b522-1885515716e8",
   "metadata": {},
   "outputs": [],
   "source": [
    "### 계산기 프로그램을 만들며 클래스 알아보기\n",
    "- 3 + 4를 입력하면 7이라는 결과값이 나옴\n",
    "- 그 다음 또 + 3을 하면 10이라는 결과값ㅇ"
   ]
  }
 ],
 "metadata": {
  "kernelspec": {
   "display_name": "Python 3 (ipykernel)",
   "language": "python",
   "name": "python3"
  },
  "language_info": {
   "codemirror_mode": {
    "name": "ipython",
    "version": 3
   },
   "file_extension": ".py",
   "mimetype": "text/x-python",
   "name": "python",
   "nbconvert_exporter": "python",
   "pygments_lexer": "ipython3",
   "version": "3.13.2"
  }
 },
 "nbformat": 4,
 "nbformat_minor": 5
}
