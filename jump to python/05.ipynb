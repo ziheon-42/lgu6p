{
 "cells": [
  {
   "cell_type": "markdown",
   "id": "9850cc96-f6a8-4af8-a500-69688ba04b67",
   "metadata": {},
   "source": [
    "# 05장 파이썬 날개달기"
   ]
  },
  {
   "cell_type": "markdown",
   "id": "db0a414f-01dd-4748-9d7e-30762ef3b2df",
   "metadata": {},
   "source": [
    "## 05-1 클래스"
   ]
  },
  {
   "cell_type": "markdown",
   "id": "c958cad2-7d23-43f2-a776-d88d03a7000e",
   "metadata": {},
   "source": [
    "## 05-2 모듈\n",
    "- 함수나 변수 또는 클래스를 모아 놓은 파이썬 파일\n",
    "- 다른 파이썬 프로그램을 불러와 사용할 수 있도록 만든 파이썬 파일"
   ]
  },
  {
   "cell_type": "markdown",
   "id": "5b27fd5b-7976-4d39-89a1-6a84e01ef932",
   "metadata": {},
   "source": [
    "### 모듈 만들기"
   ]
  },
  {
   "cell_type": "code",
   "execution_count": 1,
   "id": "6d85d873-bd8e-4979-8b70-94faf70f1cf2",
   "metadata": {},
   "outputs": [],
   "source": [
    "# mod1.py\n",
    "# def add(a, b):\n",
    "#     return a + b\n",
    "\n",
    "# def sub(a, b):\n",
    "#     return a -b"
   ]
  },
  {
   "cell_type": "markdown",
   "id": "ca299e13-948b-4a5f-9ba8-33c421fab593",
   "metadata": {},
   "source": [
    "### 모듈 불러오기\n",
    "- import 모듈이름\n",
    "  + import는 현재 디렉토리에 있는 파일이나 라이브러리가 저장된 디렉토리에 있는 모듈만 불러올 수 있음\n",
    "       - import mod1\n",
    "       - print(mod.add(3,4))\n",
    "- form 모듈이름 import 모듈함수\n",
    "  + 모듈 이름을 붙이지 않고 바로  해당 모듈 함수 사용 가능\n",
    "      - from mod1 import add\n",
    "      - add(3,4)\n",
    "- 함수를 여러개 사용할 때(,구분 혹은 * 사용)\n",
    "  + from mod1 import add, sub\n",
    "  + from mod1 import *"
   ]
  },
  {
   "cell_type": "markdown",
   "id": "2d8b949d-67c0-434f-879a-efe47fe0783b",
   "metadata": {},
   "source": [
    "### if__name__ ==\"__main__\":의 의미\n",
    "- 직접 파일을 수행하면 __name__ == \"__main__\"이 참이 되어 if 다음 문장이 수행됨"
   ]
  },
  {
   "cell_type": "code",
   "execution_count": null,
   "id": "70161481-bded-4d34-91dd-4d537c39cd72",
   "metadata": {},
   "outputs": [],
   "source": []
  }
 ],
 "metadata": {
  "kernelspec": {
   "display_name": "Python 3 (ipykernel)",
   "language": "python",
   "name": "python3"
  },
  "language_info": {
   "codemirror_mode": {
    "name": "ipython",
    "version": 3
   },
   "file_extension": ".py",
   "mimetype": "text/x-python",
   "name": "python",
   "nbconvert_exporter": "python",
   "pygments_lexer": "ipython3",
   "version": "3.13.2"
  }
 },
 "nbformat": 4,
 "nbformat_minor": 5
}
