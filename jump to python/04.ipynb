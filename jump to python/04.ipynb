{
 "cells": [
  {
   "cell_type": "markdown",
   "id": "d7f150b4-0826-4bac-9a95-ba4388149b7e",
   "metadata": {},
   "source": [
    "# 04장 파이썬의 입출력"
   ]
  },
  {
   "cell_type": "markdown",
   "id": "928b6381-51fb-4fc5-9c44-38e6cfc6ea4c",
   "metadata": {},
   "source": [
    "## 04-1 함수"
   ]
  },
  {
   "cell_type": "markdown",
   "id": "91b35144-27f7-4d42-8640-0ea43f3ab628",
   "metadata": {},
   "source": [
    "### 함수를 사용하는 이유는 무엇일까?\n",
    "- 반복되는 부분을 한 뭉치로 묶어 어떤 입력값을 주었을 때 결과값을 리턴해줌\n",
    "\n",
    "- 자신이 작성한 프로그램을 기능 단위의 함수로 분리를 해 놓으면 프로그램 흐름을 일목요연하게 볼 수 있으며 오류 발견이 쉬움"
   ]
  },
  {
   "cell_type": "markdown",
   "id": "e1806cd8-7418-4fed-8208-3e65189f6aa5",
   "metadata": {},
   "source": [
    "### 파이썬 함수의 구조\n",
    "- def 함수 이름(매개변수):\n",
    "  + 수행할 문장1\n",
    "  + 수행할 문장2\n",
    "  + ...\n",
    "\n",
    "- def: 함수를 만들 때 사용하는 예약어\n",
    "\n",
    "- 매개변수: 함수에 입력으로 전달되는 값을 받는 변수"
   ]
  },
  {
   "cell_type": "code",
   "execution_count": 2,
   "id": "d444e3ae-053f-44bf-afc7-f6986edb1d65",
   "metadata": {},
   "outputs": [],
   "source": [
    "def add(a,b):\n",
    "    return a+b\n",
    "\n",
    "# 함수의 이름은 add 이고 \n",
    "# 입력값으로 2개의 값을 받으며\n",
    "# 리턴값은 2개의 입력값을 더한 값"
   ]
  },
  {
   "cell_type": "code",
   "execution_count": 3,
   "id": "3e2f27a7-f5c1-4b4e-a45f-ff5d27add08f",
   "metadata": {},
   "outputs": [
    {
     "name": "stdout",
     "output_type": "stream",
     "text": [
      "7\n"
     ]
    }
   ],
   "source": [
    "a = 3\n",
    "b = 4\n",
    "c = add(a,b) #add(3,4)의 리턴값을 c에 대입\n",
    "print(c)"
   ]
  },
  {
   "cell_type": "markdown",
   "id": "f60fdb9c-aa60-4da4-b1be-92a8cfe011f6",
   "metadata": {},
   "source": [
    "### 매개변수와 인수\n",
    "- 매개변수는 함수에 입력으로 전달된 값을 받는 변수\n",
    "- 인수는 함수를 호출할 때 전달하는 입력값\n",
    "- 입력값 = 인수, 파라미터, 매개변수 등...으로 말하기도 함\n",
    "- 리턴값 = 결괏값, 출력값, 반환값, 돌려주는 값 등...으로 말하기도 함"
   ]
  },
  {
   "cell_type": "code",
   "execution_count": 5,
   "id": "908a7d04-fd62-4fa8-b1d5-b13d3ed4ab68",
   "metadata": {},
   "outputs": [
    {
     "name": "stdout",
     "output_type": "stream",
     "text": [
      "7\n"
     ]
    }
   ],
   "source": [
    "def add(a,b): #a,b는 매개변수\n",
    "    return a+b\n",
    "print(add(3,4)) #3,4는 인수"
   ]
  },
  {
   "cell_type": "markdown",
   "id": "109ad671-dc57-47a3-a40e-fa8cdefb9c65",
   "metadata": {},
   "source": [
    "### 일반적인 함수\n",
    "- def 함수 이름(매개변수):\n",
    "  + 수행할 문장\n",
    "  + return 리턴값"
   ]
  },
  {
   "cell_type": "code",
   "execution_count": 6,
   "id": "3b92f8c1-ce00-4442-b45f-56ca10a237b2",
   "metadata": {},
   "outputs": [],
   "source": [
    "def add(a, b):\n",
    "    result = a + b\n",
    "    return result"
   ]
  },
  {
   "cell_type": "code",
   "execution_count": 7,
   "id": "12313289-6021-47b1-ac61-66499d0ff4c8",
   "metadata": {},
   "outputs": [
    {
     "name": "stdout",
     "output_type": "stream",
     "text": [
      "7\n"
     ]
    }
   ],
   "source": [
    "a = add(3,4)\n",
    "print(a)"
   ]
  },
  {
   "cell_type": "markdown",
   "id": "2f506502-3074-4e44-8ca9-d086bdfa8b6f",
   "metadata": {},
   "source": [
    "### 입력값과 리턴값이 있는 함수의 사용법 정리\n",
    "- 리턴값을 받을 변수 = 함수 이름(입력 인수1, 입력 인수2...)"
   ]
  },
  {
   "cell_type": "markdown",
   "id": "40a70ed4-b5f6-4403-9d35-14a2b675f7b9",
   "metadata": {},
   "source": [
    "### 입력값이 없는 함수"
   ]
  },
  {
   "cell_type": "code",
   "execution_count": 12,
   "id": "18a1dad6-7c84-4868-a1ee-9b35ee0cb395",
   "metadata": {},
   "outputs": [],
   "source": [
    "def say(): # 이 함수를 쓰기 위해서는 say()와 같이 괄호 안에 아무런 값도 넣으면 안 됨\n",
    "    return \"hi\""
   ]
  },
  {
   "cell_type": "code",
   "execution_count": 13,
   "id": "7de77b7b-0b27-4ae4-b0d0-b601d9ad4517",
   "metadata": {},
   "outputs": [
    {
     "name": "stdout",
     "output_type": "stream",
     "text": [
      "hi\n"
     ]
    }
   ],
   "source": [
    "a = say() #a에 \"hi\" 대입\n",
    "print(a)"
   ]
  },
  {
   "cell_type": "markdown",
   "id": "9d3b2ae9-0f0d-422d-bd05-f65c0d8bca23",
   "metadata": {},
   "source": [
    "### 리턴값이 없는 함수\n",
    "- 리턴값이 없는 함수는 다음과 같이 사용\n",
    "  + 함수 이름(입력 인수 1, 입력 인수2, ...)"
   ]
  },
  {
   "cell_type": "code",
   "execution_count": 21,
   "id": "9c376b96-af09-4cea-a053-0186f981fe35",
   "metadata": {},
   "outputs": [
    {
     "name": "stdout",
     "output_type": "stream",
     "text": [
      "3, 4의 합은 7입니다.\n"
     ]
    }
   ],
   "source": [
    "# 리턴 값이 없는 함수는 호출해도 리턴 되는 값이 없기 때문에 사용 불가\n",
    "def add(a,b):\n",
    "    print(\"%d, %d의 합은 %d입니다.\" %(a, b, a+b))\n",
    "\n",
    "add(3,4)"
   ]
  },
  {
   "cell_type": "code",
   "execution_count": 24,
   "id": "37387c21-f5bb-4ce6-a71a-a6496acc3bce",
   "metadata": {},
   "outputs": [
    {
     "name": "stdout",
     "output_type": "stream",
     "text": [
      "3, 4의 합은 7입니다.\n",
      "None\n"
     ]
    }
   ],
   "source": [
    "a = add(3,4)\n",
    "\n",
    "print(a)\n",
    "# None은 거짓을 나타내는 자료형임\n",
    "# 리턴 값이 없을 때 a = add(3,4)처럼 쓰면 함수 add는 리턴값으로 a 변수에 None을 리턴"
   ]
  },
  {
   "cell_type": "markdown",
   "id": "a0c86ae8-04cb-4b54-b65d-d81b087eb487",
   "metadata": {},
   "source": [
    "### 입력값도 리턴값도 없는 함수\n",
    "- 함수이름()"
   ]
  },
  {
   "cell_type": "code",
   "execution_count": 28,
   "id": "8c91352c-4c2e-4bec-8113-695c486bb4bc",
   "metadata": {},
   "outputs": [
    {
     "name": "stdout",
     "output_type": "stream",
     "text": [
      "hi\n"
     ]
    }
   ],
   "source": [
    "def say(): \n",
    "    print(\"hi\")\n",
    "say()\n",
    "#입력 인수를 받는 매개변수도 없고 return문도 없음"
   ]
  },
  {
   "cell_type": "markdown",
   "id": "6628868f-979b-4441-ab76-fff2c2c7876a",
   "metadata": {},
   "source": [
    "### 매개변수를 지정하여 호출하기"
   ]
  },
  {
   "cell_type": "code",
   "execution_count": 29,
   "id": "29ab4787-5a3d-4874-a4be-5d21ce9f6fd6",
   "metadata": {},
   "outputs": [],
   "source": [
    "def sub(a,b):\n",
    "    return a -b"
   ]
  },
  {
   "cell_type": "code",
   "execution_count": 31,
   "id": "7eab83db-e206-459d-a600-4043558e0d26",
   "metadata": {},
   "outputs": [
    {
     "name": "stdout",
     "output_type": "stream",
     "text": [
      "4\n"
     ]
    }
   ],
   "source": [
    "result = sub(a = 7, b = 3) #키워드 인자\n",
    "print(result)"
   ]
  },
  {
   "cell_type": "code",
   "execution_count": 32,
   "id": "71afd2de-3376-4eb4-9261-ef653c583feb",
   "metadata": {},
   "outputs": [
    {
     "name": "stdout",
     "output_type": "stream",
     "text": [
      "-2\n"
     ]
    }
   ],
   "source": [
    "result = sub(b = 5, a = 3)\n",
    "print(result)"
   ]
  },
  {
   "cell_type": "markdown",
   "id": "4e3401f8-e12c-4535-92c5-a597f0f999ca",
   "metadata": {},
   "source": [
    "### 입력값이 몇개가 될지 모를때는 어떻게 해야 할까?\n",
    "- def 함수 이름(*매개변수):\n",
    "  + 수행할 문장\n",
    "  + ..."
   ]
  },
  {
   "cell_type": "markdown",
   "id": "2e584e17-06a8-46ae-a4fa-af8b823c92e0",
   "metadata": {},
   "source": [
    "### 여러개의 입력값을 받는 함수 만들기\n",
    "- *args(임의로 정한 변수 이름)"
   ]
  },
  {
   "cell_type": "code",
   "execution_count": 33,
   "id": "c219e6d0-5132-471a-a7ef-23d0f4a1f72f",
   "metadata": {},
   "outputs": [],
   "source": [
    "def add_many(*args):\n",
    "    result = 0\n",
    "    for i in args:\n",
    "        result += i\n",
    "    return result"
   ]
  },
  {
   "cell_type": "code",
   "execution_count": 38,
   "id": "9ce3afda-e308-41a8-a4cf-1b3f0b8e2bd2",
   "metadata": {},
   "outputs": [
    {
     "name": "stdout",
     "output_type": "stream",
     "text": [
      "6\n",
      "21\n"
     ]
    }
   ],
   "source": [
    "a = add_many(1,2,3)\n",
    "print(a)\n",
    "b = add_many(1,2,3,4,5,6)\n",
    "print(b)"
   ]
  },
  {
   "cell_type": "code",
   "execution_count": 41,
   "id": "374075a9-d226-479d-b3cb-e807968db93b",
   "metadata": {},
   "outputs": [],
   "source": [
    "def add_mul(choice, *args):\n",
    "    if choice == \"add\": #매개변수 choice에 \"add\"를 입력 받았을 때\n",
    "        result = 0\n",
    "        for i in args:\n",
    "            result +=i\n",
    "    elif choice == \"mul\": #매개변수 choice에 \"mul\"을 입력 받았을 때\n",
    "        result = 1\n",
    "        for i in args:\n",
    "            result = result * i\n",
    "    return result"
   ]
  },
  {
   "cell_type": "code",
   "execution_count": 42,
   "id": "646f0e29-2e60-4839-950d-9b0bcb3248d9",
   "metadata": {},
   "outputs": [
    {
     "name": "stdout",
     "output_type": "stream",
     "text": [
      "15\n",
      "120\n"
     ]
    }
   ],
   "source": [
    "result = add_mul('add', 1,2,3,4,5)\n",
    "print(result)\n",
    "result = add_mul('mul', 1,2,3,4,5)\n",
    "print(result)"
   ]
  },
  {
   "cell_type": "markdown",
   "id": "50e9f9cb-999f-465e-a0cd-0299c234a84d",
   "metadata": {},
   "source": [
    "### 키워드 매개변수, **kwgs"
   ]
  },
  {
   "cell_type": "code",
   "execution_count": 5,
   "id": "4cff751a-df08-4239-893c-86356a423306",
   "metadata": {},
   "outputs": [],
   "source": [
    "def print_kwargs(**kwargs):\n",
    "    print(kwargs)"
   ]
  },
  {
   "cell_type": "code",
   "execution_count": 6,
   "id": "39a4d93c-9867-4d07-a515-6ca694b8f928",
   "metadata": {},
   "outputs": [
    {
     "name": "stdout",
     "output_type": "stream",
     "text": [
      "{'a': 1}\n",
      "{'name': 'foo', 'age': 3}\n"
     ]
    },
    {
     "data": {
      "text/plain": [
       "{'age': 3, 'name': 'foo'}"
      ]
     },
     "execution_count": 6,
     "metadata": {},
     "output_type": "execute_result"
    }
   ],
   "source": [
    "print_kwargs(a = 1)\n",
    "{'a':1}\n",
    "print_kwargs(name='foo', age = 3)\n",
    "{'age' : 3, 'name':'foo'}"
   ]
  },
  {
   "cell_type": "markdown",
   "id": "402e2b14-c65b-42f2-ac05-79eba5291fa5",
   "metadata": {},
   "source": [
    "### 함수의 리턴값은 언제나 하나이다"
   ]
  },
  {
   "cell_type": "code",
   "execution_count": 8,
   "id": "5ef5101e-035e-4261-9563-d083e39b6a0f",
   "metadata": {},
   "outputs": [],
   "source": [
    "def add_and_mul(a,b):\n",
    "    return a+b, a*b"
   ]
  },
  {
   "cell_type": "code",
   "execution_count": 11,
   "id": "3bd11924-190c-4704-acdd-d799ffbf16a3",
   "metadata": {},
   "outputs": [
    {
     "data": {
      "text/plain": [
       "(7, 12)"
      ]
     },
     "execution_count": 11,
     "metadata": {},
     "output_type": "execute_result"
    }
   ],
   "source": [
    "result = add_and_mul(3,4)\n",
    "result"
   ]
  },
  {
   "cell_type": "code",
   "execution_count": 15,
   "id": "0f6b3e7e-9be2-4f35-b356-30f915fd27bf",
   "metadata": {},
   "outputs": [
    {
     "name": "stdout",
     "output_type": "stream",
     "text": [
      "7\n",
      "12\n"
     ]
    }
   ],
   "source": [
    "# 하나의 튜플 값을 2개의 값으로 분리하여 받고 싶다면\n",
    "result1, result2 = add_and_mul(3,4)\n",
    "print(result1)\n",
    "print(result2)"
   ]
  },
  {
   "cell_type": "code",
   "execution_count": 16,
   "id": "ceb74233-4e0a-4236-b62a-94b4b52567eb",
   "metadata": {},
   "outputs": [],
   "source": [
    "def add_and_mul(a,b):\n",
    "    return a + b\n",
    "    return a * b"
   ]
  },
  {
   "cell_type": "code",
   "execution_count": 20,
   "id": "e630016a-a769-4eb8-a3ba-7e9fb122ecd9",
   "metadata": {},
   "outputs": [
    {
     "name": "stdout",
     "output_type": "stream",
     "text": [
      "5\n"
     ]
    }
   ],
   "source": [
    "result = add_and_mul(2,3)\n",
    "print(result)\n",
    "\n",
    "#위에서 return 값은 2개인데, 위의 return만 돌려받음\n",
    "# -> return문을 만나는 순간 리턴값을 돌려준 다음 함수를 빠져나감"
   ]
  },
  {
   "cell_type": "code",
   "execution_count": 21,
   "id": "e04d8828-2bdf-42f8-a526-d6d9abfcdf3b",
   "metadata": {},
   "outputs": [],
   "source": [
    "### return의 또 다른 쓰임새\n",
    "# 특별한 상황일 때 함수를 빠져나가고 싶다면 return을 단독으로 써서 함수를 즉시 빠져나갈 수 있음\n",
    "\n",
    "def say_nick(nick):\n",
    "    if nick == \"바보\":\n",
    "        return\n",
    "    print(\"나의 별명은 %s입니다.\" %nick)"
   ]
  },
  {
   "cell_type": "code",
   "execution_count": 25,
   "id": "068918d9-dfb4-4e06-84ec-27f088eaf100",
   "metadata": {},
   "outputs": [
    {
     "name": "stdout",
     "output_type": "stream",
     "text": [
      "나의 별명은 야호입니다.\n"
     ]
    }
   ],
   "source": [
    "say_nick(\"야호\")\n",
    "say_nick('바보')"
   ]
  },
  {
   "cell_type": "markdown",
   "id": "c643841c-79e0-47a9-975b-412c693de634",
   "metadata": {},
   "source": [
    "### 매개변수에 초깃값 미리 설정하기"
   ]
  },
  {
   "cell_type": "code",
   "execution_count": 33,
   "id": "4f64e247-e5b0-4f0d-96e6-5d99e90d6677",
   "metadata": {},
   "outputs": [],
   "source": [
    "#default1.py\n",
    "def say_myself(name, age, man = True):\n",
    "    print(\"나의 이름은 %s 입니다.\" %name)\n",
    "    print(\"나이는 %d 살입니다.\" %age)\n",
    "    if man:\n",
    "        print(\"남자입니다.\")\n",
    "    else:\n",
    "        print(\"여자입니다.\")"
   ]
  },
  {
   "cell_type": "code",
   "execution_count": 34,
   "id": "019892ed-8685-4309-8561-06c01337cac8",
   "metadata": {},
   "outputs": [
    {
     "name": "stdout",
     "output_type": "stream",
     "text": [
      "나의 이름은 박응용 입니다.\n",
      "나이는 27 살입니다.\n",
      "남자입니다.\n"
     ]
    }
   ],
   "source": [
    "say_myself(\"박응용\", 27)\n",
    "# man=True로 매개변수에 미리 값을 넣어놓으면 매개변수 초깃값 설정이 완료 됨\n",
    "# man이라는 변수에는 입력값을 주지 않았지만, 초깃값 True를 가지게 됨\n",
    "# man = false를 넣으면 여자입니다 우선 자동 출력"
   ]
  },
  {
   "cell_type": "code",
   "execution_count": 35,
   "id": "03d7c7b7-0b08-4747-85bb-8479cf93b726",
   "metadata": {},
   "outputs": [
    {
     "name": "stdout",
     "output_type": "stream",
     "text": [
      "나의 이름은 박응용 입니다.\n",
      "나이는 27 살입니다.\n",
      "남자입니다.\n"
     ]
    }
   ],
   "source": [
    "say_myself(\"박응용\", 27, True)"
   ]
  },
  {
   "cell_type": "code",
   "execution_count": null,
   "id": "11861314-90d2-4cdd-9910-64ccbdf17351",
   "metadata": {},
   "outputs": [],
   "source": []
  }
 ],
 "metadata": {
  "kernelspec": {
   "display_name": "Python 3 (ipykernel)",
   "language": "python",
   "name": "python3"
  },
  "language_info": {
   "codemirror_mode": {
    "name": "ipython",
    "version": 3
   },
   "file_extension": ".py",
   "mimetype": "text/x-python",
   "name": "python",
   "nbconvert_exporter": "python",
   "pygments_lexer": "ipython3",
   "version": "3.13.2"
  }
 },
 "nbformat": 4,
 "nbformat_minor": 5
}
